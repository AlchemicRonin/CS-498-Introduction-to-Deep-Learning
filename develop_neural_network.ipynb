{
  "nbformat": 4,
  "nbformat_minor": 0,
  "metadata": {
    "kernelspec": {
      "display_name": "Python 3",
      "language": "python",
      "name": "python3"
    },
    "language_info": {
      "codemirror_mode": {
        "name": "ipython",
        "version": 3
      },
      "file_extension": ".py",
      "mimetype": "text/x-python",
      "name": "python",
      "nbconvert_exporter": "python",
      "pygments_lexer": "ipython3",
      "version": "3.8.5"
    },
    "colab": {
      "name": "develop_neural_network.ipynb",
      "provenance": [],
      "include_colab_link": true
    },
    "accelerator": "GPU"
  },
  "cells": [
    {
      "cell_type": "markdown",
      "metadata": {
        "id": "view-in-github",
        "colab_type": "text"
      },
      "source": [
        "<a href=\"https://colab.research.google.com/github/AlchemicRonin/CS-498-Introduction-to-Deep-Learning/blob/TY/develop_neural_network.ipynb\" target=\"_parent\"><img src=\"https://colab.research.google.com/assets/colab-badge.svg\" alt=\"Open In Colab\"/></a>"
      ]
    },
    {
      "cell_type": "markdown",
      "metadata": {
        "id": "jX7jYQhq_qzk"
      },
      "source": [
        "# Implement a Neural Network\n",
        "\n",
        "This notebook contains useful information and testing code to help you to develop a neural network by implementing the forward pass and backpropagation algorithm in the `models/neural_net.py` file. "
      ]
    },
    {
      "cell_type": "code",
      "metadata": {
        "id": "3VYG6T4o2ajA",
        "outputId": "4a830c74-fbee-4307-c753-e559d1cea62b",
        "colab": {
          "base_uri": "https://localhost:8080/",
          "height": 34
        }
      },
      "source": [
        "from google.colab import drive\n",
        "drive.mount('/content/drive/',force_remount= True)\n",
        "\n",
        "import os\n",
        "os.chdir(\"/content/drive/My Drive/assignment2\")"
      ],
      "execution_count": 1,
      "outputs": [
        {
          "output_type": "stream",
          "text": [
            "Mounted at /content/drive/\n"
          ],
          "name": "stdout"
        }
      ]
    },
    {
      "cell_type": "code",
      "metadata": {
        "id": "NymrnrKC_qzm"
      },
      "source": [
        "import matplotlib.pyplot as plt\n",
        "import numpy as np\n",
        "\n",
        "from models.neural_net import NeuralNetwork\n",
        "\n",
        "%matplotlib inline\n",
        "plt.rcParams['figure.figsize'] = (10.0, 8.0)  # set default size of plots\n",
        "\n",
        "# For auto-reloading external modules\n",
        "# See http://stackoverflow.com/questions/1907993/autoreload-of-modules-in-ipython\n",
        "%load_ext autoreload\n",
        "%autoreload 2\n",
        "\n",
        "def rel_error(x, y):\n",
        "    \"\"\"Returns relative error\"\"\"\n",
        "    return np.max(np.abs(x - y) / (np.maximum(1e-8, np.abs(x) + np.abs(y))))"
      ],
      "execution_count": 2,
      "outputs": []
    },
    {
      "cell_type": "markdown",
      "metadata": {
        "id": "jnCHF2Qd_qzq"
      },
      "source": [
        "You will implement your network in the class `NeuralNetwork` inside the file `models/neural_net.py` to represent instances of the network. The network parameters are stored in the instance variable `self.params` where keys are string parameter names and values are numpy arrays.\n",
        "\n",
        "The cell below initializes a toy dataset and corresponding model which will allow you to check your forward and backward pass by using a numeric gradient check."
      ]
    },
    {
      "cell_type": "code",
      "metadata": {
        "id": "2e31dABd_qzr"
      },
      "source": [
        "# Create a small net and some toy data to check your implementations.\n",
        "# Note that we set the random seed for repeatable experiments.\n",
        "\n",
        "input_size = 4\n",
        "hidden_size = 10\n",
        "num_classes = 3\n",
        "num_inputs = 5\n",
        "\n",
        "\n",
        "def init_toy_model(num_layers):\n",
        "    np.random.seed(0)\n",
        "    hidden_sizes = [hidden_size] * (num_layers - 1)\n",
        "    return NeuralNetwork(input_size, hidden_sizes, num_classes, num_layers)\n",
        "\n",
        "def init_toy_data():\n",
        "    np.random.seed(0)\n",
        "    X = 10 * np.random.randn(num_inputs, input_size)\n",
        "    y = np.random.randint(num_classes, size=num_inputs)\n",
        "    return X, y"
      ],
      "execution_count": 3,
      "outputs": []
    },
    {
      "cell_type": "code",
      "metadata": {
        "id": "4dJcjeBHXQdb",
        "outputId": "7e0a8630-fc6e-423e-f828-07195defd5fb",
        "colab": {
          "base_uri": "https://localhost:8080/",
          "height": 34
        }
      },
      "source": [
        "X.shape"
      ],
      "execution_count": 21,
      "outputs": [
        {
          "output_type": "execute_result",
          "data": {
            "text/plain": [
              "(5, 4)"
            ]
          },
          "metadata": {
            "tags": []
          },
          "execution_count": 21
        }
      ]
    },
    {
      "cell_type": "markdown",
      "metadata": {
        "id": "ROz9JvDc_qzu"
      },
      "source": [
        "# Implement forward and backward pass\n",
        "\n",
        "The first thing you will do is implement the forward pass of your neural network along with the loss calculation. The forward pass should be implemented in the `forward` function. You can use helper functions like `linear`, `relu`, and `softmax` to help organize your code.\n",
        "\n",
        "Next, you will implement the backward pass using the backpropagation algorithm. Backpropagation will compute the gradient of the loss with respect to the model parameters `W1`, `b1`, ... etc. Use a softmax fuction with cross entropy loss for loss calcuation. Fill in the code blocks in `NeuralNetwork.backward`. "
      ]
    },
    {
      "cell_type": "markdown",
      "metadata": {
        "id": "S4EmDfwz_qzv"
      },
      "source": [
        "# Gradient  check\n",
        "\n",
        " If you have implemented your forward pass through the network correctly, you can use the following cell to debug your backward pass with a numeric gradient check:"
      ]
    },
    {
      "cell_type": "code",
      "metadata": {
        "id": "3vPmnbqR_qzv",
        "outputId": "7015e191-0d4a-421b-c483-4ab8d564f590",
        "colab": {
          "base_uri": "https://localhost:8080/",
          "height": 185
        }
      },
      "source": [
        "from utils.gradient_check import eval_numerical_gradient\n",
        "\n",
        "X, y = init_toy_data()\n",
        "learning_rate = 1e-1\n",
        "\n",
        "# Use numeric gradient checking to check your implementation of the backward pass.\n",
        "# If your implementation is correct, the difference between the numeric and\n",
        "# analytic gradients should be around 1e-8 or less for each of the parameters \n",
        "# W1, b1, ... in your network.\n",
        "\n",
        "for num in [2,3]:\n",
        "    net = init_toy_model(num)\n",
        "    loss = net.backward(X, y, learning_rate, reg=0.05)\n",
        "\n",
        "    # These should all be less than 1e-8 or so\n",
        "    for param_name in net.gradients:\n",
        "        f = lambda W: net.backward(X, y, learning_rate, reg=0.05)\n",
        "        param_grad_num = eval_numerical_gradient(f, net.params[param_name], verbose=False)\n",
        "        print('%s max relative error: %e' % (param_name, rel_error(param_grad_num, net.gradients[param_name])))"
      ],
      "execution_count": 4,
      "outputs": [
        {
          "output_type": "stream",
          "text": [
            "W2 max relative error: 8.486493e-05\n",
            "b2 max relative error: 5.504898e-06\n",
            "W1 max relative error: 5.009861e-06\n",
            "b1 max relative error: 1.202104e-06\n",
            "W3 max relative error: 2.596619e-06\n",
            "b3 max relative error: 3.439651e-08\n",
            "W2 max relative error: 5.309628e-07\n",
            "b2 max relative error: 1.226550e-08\n",
            "W1 max relative error: 1.058364e-06\n",
            "b1 max relative error: 1.104079e-08\n"
          ],
          "name": "stdout"
        }
      ]
    },
    {
      "cell_type": "code",
      "metadata": {
        "id": "NK7fLTILiYdX",
        "outputId": "606396c7-03bf-439a-b4b6-bbf884c42952",
        "colab": {
          "base_uri": "https://localhost:8080/",
          "height": 34
        }
      },
      "source": [
        "net.backward(X,y,1e-1, 5e-6)"
      ],
      "execution_count": 11,
      "outputs": [
        {
          "output_type": "execute_result",
          "data": {
            "text/plain": [
              "6.6966614110257"
            ]
          },
          "metadata": {
            "tags": []
          },
          "execution_count": 11
        }
      ]
    },
    {
      "cell_type": "markdown",
      "metadata": {
        "id": "-iyOJj1c_qzy"
      },
      "source": [
        "# Train the network\n",
        "To train the network we will use stochastic gradient descent (SGD), similar to the SVM and Softmax classifiers you trained. This should be similar to the training procedure you used for the SVM and Softmax classifiers.\n",
        "\n",
        "Once you have implemented SGD, run the code below to train a two-layer network on toy data. You should achieve a training loss less than 0.2 using a two-layer network with relu activation."
      ]
    },
    {
      "cell_type": "code",
      "metadata": {
        "id": "XXrO5LZL_qzz"
      },
      "source": [
        "# Hyperparameters\n",
        "epochs = 100\n",
        "batch_size = 1\n",
        "learning_rate = 1e-1\n",
        "learning_rate_decay = 0.95\n",
        "regularization = 5e-6\n",
        "\n",
        "# Initialize a new neural network model\n",
        "net = init_toy_model(2)\n",
        "\n",
        "# Variables to store performance for each epoch\n",
        "train_loss = np.zeros(epochs)\n",
        "train_accuracy = np.zeros(epochs)\n",
        "\n",
        "# For each epoch...\n",
        "for epoch in range(epochs):        \n",
        "    # Training\n",
        "    # Run the forward pass of the model to get a prediction and compute the accuracy\n",
        "    # Run the backward pass of the model to update the weights and compute the loss\n",
        "    \n",
        "    train_loss[epoch] = net.backward(X,y,1e-1, 5e-6)\n",
        "    for key in net.params:\n",
        "      net.params[key] -= 1e-1 * net.gradients[key]\n",
        "    train_accuracy[epoch] = (np.argmax(net.forward(X),axis = 1)==y).mean()"
      ],
      "execution_count": 19,
      "outputs": []
    },
    {
      "cell_type": "code",
      "metadata": {
        "id": "YPodtMAf_qz2",
        "outputId": "71a87498-9bd8-4c88-d1e4-1892e65610e2",
        "colab": {
          "base_uri": "https://localhost:8080/",
          "height": 513
        }
      },
      "source": [
        "# Plot the loss function and train / validation accuracies\n",
        "plt.subplot(2, 1, 1)\n",
        "plt.plot(train_loss)\n",
        "plt.title('Loss history')\n",
        "plt.xlabel('Iteration')\n",
        "plt.ylabel('Loss')\n",
        "\n",
        "plt.subplot(2, 1, 2)\n",
        "plt.plot(train_accuracy)\n",
        "plt.title('Classification accuracy history')\n",
        "plt.xlabel('Epoch')\n",
        "plt.ylabel('Classification accuracy')\n",
        "plt.show()"
      ],
      "execution_count": 20,
      "outputs": [
        {
          "output_type": "display_data",
          "data": {
            "image/png": "[encoded data removed]",
            "text/plain": [
              "<Figure size 720x576 with 2 Axes>"
            ]
          },
          "metadata": {
            "tags": [],
            "needs_background": "light"
          }
        }
      ]
    }
  ]
}