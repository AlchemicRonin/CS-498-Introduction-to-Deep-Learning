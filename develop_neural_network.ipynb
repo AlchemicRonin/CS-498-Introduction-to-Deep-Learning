{
  "nbformat": 4,
  "nbformat_minor": 0,
  "metadata": {
    "kernelspec": {
      "display_name": "Python 3",
      "language": "python",
      "name": "python3"
    },
    "language_info": {
      "codemirror_mode": {
        "name": "ipython",
        "version": 3
      },
      "file_extension": ".py",
      "mimetype": "text/x-python",
      "name": "python",
      "nbconvert_exporter": "python",
      "pygments_lexer": "ipython3",
      "version": "3.8.5"
    },
    "colab": {
      "name": "develop_neural_network.ipynb",
      "provenance": [],
      "toc_visible": true,
      "include_colab_link": true
    },
    "accelerator": "GPU"
  },
  "cells": [
    {
      "cell_type": "markdown",
      "metadata": {
        "id": "view-in-github",
        "colab_type": "text"
      },
      "source": [
        "<a href=\"https://colab.research.google.com/github/AlchemicRonin/CS-498-Introduction-to-Deep-Learning/blob/TY/develop_neural_network.ipynb\" target=\"_parent\"><img src=\"https://colab.research.google.com/assets/colab-badge.svg\" alt=\"Open In Colab\"/></a>"
      ]
    },
    {
      "cell_type": "markdown",
      "metadata": {
        "id": "jX7jYQhq_qzk"
      },
      "source": [
        "# Implement a Neural Network\n",
        "\n",
        "This notebook contains useful information and testing code to help you to develop a neural network by implementing the forward pass and backpropagation algorithm in the `models/neural_net.py` file. "
      ]
    },
    {
      "cell_type": "code",
      "metadata": {
        "id": "3VYG6T4o2ajA",
        "outputId": "7d6b634e-bb07-4660-a639-fec033c330d3",
        "colab": {
          "base_uri": "https://localhost:8080/"
        }
      },
      "source": [
        "from google.colab import drive\n",
        "drive.mount('/content/drive/',force_remount= True)\n",
        "\n",
        "import os\n",
        "os.chdir(\"/content/drive/My Drive/assignment2\")"
      ],
      "execution_count": null,
      "outputs": [
        {
          "output_type": "stream",
          "text": [
            "Mounted at /content/drive/\n"
          ],
          "name": "stdout"
        }
      ]
    },
    {
      "cell_type": "code",
      "metadata": {
        "id": "NymrnrKC_qzm"
      },
      "source": [
        "import matplotlib.pyplot as plt\n",
        "import numpy as np\n",
        "\n",
        "from models.neural_net import NeuralNetwork\n",
        "\n",
        "%matplotlib inline\n",
        "plt.rcParams['figure.figsize'] = (10.0, 8.0)  # set default size of plots\n",
        "\n",
        "# For auto-reloading external modules\n",
        "# See http://stackoverflow.com/questions/1907993/autoreload-of-modules-in-ipython\n",
        "%load_ext autoreload\n",
        "%autoreload 2\n",
        "\n",
        "def rel_error(x, y):\n",
        "    \"\"\"Returns relative error\"\"\"\n",
        "    return np.max(np.abs(x - y) / (np.maximum(1e-8, np.abs(x) + np.abs(y))))"
      ],
      "execution_count": null,
      "outputs": []
    },
    {
      "cell_type": "markdown",
      "metadata": {
        "id": "jnCHF2Qd_qzq"
      },
      "source": [
        "You will implement your network in the class `NeuralNetwork` inside the file `models/neural_net.py` to represent instances of the network. The network parameters are stored in the instance variable `self.params` where keys are string parameter names and values are numpy arrays.\n",
        "\n",
        "The cell below initializes a toy dataset and corresponding model which will allow you to check your forward and backward pass by using a numeric gradient check."
      ]
    },
    {
      "cell_type": "code",
      "metadata": {
        "id": "2e31dABd_qzr"
      },
      "source": [
        "# Create a small net and some toy data to check your implementations.\n",
        "# Note that we set the random seed for repeatable experiments.\n",
        "\n",
        "input_size = 4\n",
        "hidden_size = 10\n",
        "num_classes = 3\n",
        "num_inputs = 5\n",
        "\n",
        "\n",
        "def init_toy_model(num_layers):\n",
        "    np.random.seed(0)\n",
        "    hidden_sizes = [hidden_size] * (num_layers - 1)\n",
        "    return NeuralNetwork(input_size, hidden_sizes, num_classes, num_layers)\n",
        "\n",
        "def init_toy_data():\n",
        "    np.random.seed(0)\n",
        "    X = 10 * np.random.randn(num_inputs, input_size)\n",
        "    y = np.random.randint(num_classes, size=num_inputs)\n",
        "    return X, y"
      ],
      "execution_count": null,
      "outputs": []
    },
    {
      "cell_type": "markdown",
      "metadata": {
        "id": "ROz9JvDc_qzu"
      },
      "source": [
        "# Implement forward and backward pass\n",
        "\n",
        "The first thing you will do is implement the forward pass of your neural network along with the loss calculation. The forward pass should be implemented in the `forward` function. You can use helper functions like `linear`, `relu`, and `softmax` to help organize your code.\n",
        "\n",
        "Next, you will implement the backward pass using the backpropagation algorithm. Backpropagation will compute the gradient of the loss with respect to the model parameters `W1`, `b1`, ... etc. Use a softmax fuction with cross entropy loss for loss calcuation. Fill in the code blocks in `NeuralNetwork.backward`. "
      ]
    },
    {
      "cell_type": "markdown",
      "metadata": {
        "id": "S4EmDfwz_qzv"
      },
      "source": [
        "# Gradient  check\n",
        "\n",
        " If you have implemented your forward pass through the network correctly, you can use the following cell to debug your backward pass with a numeric gradient check:"
      ]
    },
    {
      "cell_type": "markdown",
      "metadata": {
        "id": "-iyOJj1c_qzy"
      },
      "source": [
        "# Train the network\n",
        "To train the network we will use stochastic gradient descent (SGD), similar to the SVM and Softmax classifiers you trained. This should be similar to the training procedure you used for the SVM and Softmax classifiers.\n",
        "\n",
        "Once you have implemented SGD, run the code below to train a two-layer network on toy data. You should achieve a training loss less than 0.2 using a two-layer network with relu activation."
      ]
    },
    {
      "cell_type": "code",
      "metadata": {
        "id": "XXrO5LZL_qzz",
        "outputId": "a018a10b-57e8-42c2-d533-1978703c5809",
        "colab": {
          "base_uri": "https://localhost:8080/",
          "height": 198
        }
      },
      "source": [
        "# Hyperparameters\n",
        "epochs = 100\n",
        "batch_size = 1\n",
        "learning_rate = 1e-1\n",
        "learning_rate_decay = 0.95\n",
        "regularization = 5e-6\n",
        "beta1 = 0.9\n",
        "beta2 = 0.999\n",
        "eps = 1e-8\n",
        "# Initialize a new neural network model\n",
        "net = init_toy_model(2)\n",
        "\n",
        "# Variables to store performance for each epoch\n",
        "train_loss = np.zeros(epochs)\n",
        "train_accuracy = np.zeros(epochs)\n",
        "\n",
        "# For each epoch...\n",
        "#for epoch in range(epochs):        \n",
        "    # Training\n",
        "    # Run the forward pass of the model to get a prediction and compute the accuracy\n",
        "    # Run the backward pass of the model to update the weights and compute the loss\n",
        "    #rate = learning_rate*np.exp(-learning_rate_decay * epoch)\n",
        "    #rate = learning_rate\n",
        "    #train_loss[epoch] = net.backward(X,y,rate, regularization)\n",
        "    #for key in net.params:\n",
        "      #net.params[key] -= rate * net.gradients[key]\n",
        "    #train_accuracy[epoch] = (np.argmax(net.outputs[\"L1\"+ str(3)],axis = 1) == y).mean()\n",
        "\n",
        "for epoch in range(epochs):\n",
        "  rate = learning_rate\n",
        "  #rate = learning_rate*np.exp(-learning_rate_decay * epoch//10)\n",
        "  #print(rate)\n",
        "  index = np.random.choice(5, batch_size)\n",
        "  # Create a mini-batch of training data and labels\n",
        "  X_batch = X[index]\n",
        "  y_batch = y[index]\n",
        "        \n",
        "  # Run the forward pass of the model to get a prediction and compute the accuracy\n",
        "  # Run the backward pass of the model to update the weights and compute the loss\n",
        "  train_loss[epoch] = net.backward(X,y, learning_rate, regularization)\n",
        "  train_accuracy[epoch] = (np.argmax(net.outputs[\"L1\"+ str(2)],axis = 1) == y).mean()"
      ],
      "execution_count": null,
      "outputs": [
        {
          "output_type": "error",
          "ename": "KeyError",
          "evalue": "ignored",
          "traceback": [
            "\u001b[0;31m---------------------------------------------------------------------------\u001b[0m",
            "\u001b[0;31mKeyError\u001b[0m                                  Traceback (most recent call last)",
            "\u001b[0;32m<ipython-input-8-1dde72623dba>\u001b[0m in \u001b[0;36m<module>\u001b[0;34m()\u001b[0m\n\u001b[1;32m     39\u001b[0m   \u001b[0;31m# Run the backward pass of the model to update the weights and compute the loss\u001b[0m\u001b[0;34m\u001b[0m\u001b[0;34m\u001b[0m\u001b[0;34m\u001b[0m\u001b[0m\n\u001b[1;32m     40\u001b[0m   \u001b[0mtrain_loss\u001b[0m\u001b[0;34m[\u001b[0m\u001b[0mepoch\u001b[0m\u001b[0;34m]\u001b[0m \u001b[0;34m=\u001b[0m \u001b[0mnet\u001b[0m\u001b[0;34m.\u001b[0m\u001b[0mbackward\u001b[0m\u001b[0;34m(\u001b[0m\u001b[0mX\u001b[0m\u001b[0;34m,\u001b[0m\u001b[0my\u001b[0m\u001b[0;34m,\u001b[0m \u001b[0mlearning_rate\u001b[0m\u001b[0;34m,\u001b[0m \u001b[0mregularization\u001b[0m\u001b[0;34m)\u001b[0m\u001b[0;34m\u001b[0m\u001b[0;34m\u001b[0m\u001b[0m\n\u001b[0;32m---> 41\u001b[0;31m   \u001b[0mtrain_accuracy\u001b[0m\u001b[0;34m[\u001b[0m\u001b[0mepoch\u001b[0m\u001b[0;34m]\u001b[0m \u001b[0;34m=\u001b[0m \u001b[0;34m(\u001b[0m\u001b[0mnp\u001b[0m\u001b[0;34m.\u001b[0m\u001b[0margmax\u001b[0m\u001b[0;34m(\u001b[0m\u001b[0mnet\u001b[0m\u001b[0;34m.\u001b[0m\u001b[0moutputs\u001b[0m\u001b[0;34m[\u001b[0m\u001b[0;34m\"L1\"\u001b[0m\u001b[0;34m+\u001b[0m \u001b[0mstr\u001b[0m\u001b[0;34m(\u001b[0m\u001b[0;36m3\u001b[0m\u001b[0;34m)\u001b[0m\u001b[0;34m]\u001b[0m\u001b[0;34m,\u001b[0m\u001b[0maxis\u001b[0m \u001b[0;34m=\u001b[0m \u001b[0;36m1\u001b[0m\u001b[0;34m)\u001b[0m \u001b[0;34m==\u001b[0m \u001b[0my\u001b[0m\u001b[0;34m)\u001b[0m\u001b[0;34m.\u001b[0m\u001b[0mmean\u001b[0m\u001b[0;34m(\u001b[0m\u001b[0;34m)\u001b[0m\u001b[0;34m\u001b[0m\u001b[0;34m\u001b[0m\u001b[0m\n\u001b[0m",
            "\u001b[0;31mKeyError\u001b[0m: 'L13'"
          ]
        }
      ]
    },
    {
      "cell_type": "code",
      "metadata": {
        "id": "YPodtMAf_qz2",
        "outputId": "2cbb426c-5391-408e-a885-03fc47bb6649",
        "colab": {
          "base_uri": "https://localhost:8080/",
          "height": 513
        }
      },
      "source": [
        "# Plot the loss function and train / validation accuracies\n",
        "plt.subplot(2, 1, 1)\n",
        "plt.plot(train_loss)\n",
        "plt.title('Loss history')\n",
        "plt.xlabel('Iteration')\n",
        "plt.ylabel('Loss')\n",
        "\n",
        "plt.subplot(2, 1, 2)\n",
        "plt.plot(train_accuracy)\n",
        "plt.title('Classification accuracy history')\n",
        "plt.xlabel('Epoch')\n",
        "plt.ylabel('Classification accuracy')\n",
        "plt.show()"
      ],
      "execution_count": null,
      "outputs": [
        {
          "output_type": "display_data",
          "data": {
            "image/png": "[encoded data removed]",
            "text/plain": [
              "<Figure size 720x576 with 2 Axes>"
            ]
          },
          "metadata": {
            "tags": [],
            "needs_background": "light"
          }
        }
      ]
    }
  ]
}