{
 "cells": [
  {
   "cell_type": "code",
   "execution_count": 1,
   "metadata": {},
   "outputs": [],
   "source": [
    "import random\n",
    "import numpy as np\n",
    "from data_process import get_CIFAR10_data, get_MUSHROOM_data\n",
    "from scipy.spatial import distance\n",
    "from models import Perceptron, SVM, Softmax, Logistic\n",
    "from kaggle_submission import output_submission_csv\n",
    "%matplotlib inline"
   ]
  },
  {
   "cell_type": "markdown",
   "metadata": {},
   "source": [
    "# Loading CIFAR-10"
   ]
  },
  {
   "cell_type": "markdown",
   "metadata": {},
   "source": [
    "In the following cells we determine the number of images for each split and load the images.\n",
    "<br /> \n",
    "TRAIN_IMAGES + VAL_IMAGES = (0, 50000]\n",
    ", TEST_IMAGES = 10000"
   ]
  },
  {
   "cell_type": "code",
   "execution_count": 2,
   "metadata": {},
   "outputs": [],
   "source": [
    "# You can change these numbers for experimentation\n",
    "# For submission we will use the default values \n",
    "TRAIN_IMAGES = 40000\n",
    "VAL_IMAGES = 10000"
   ]
  },
  {
   "cell_type": "code",
   "execution_count": 3,
   "metadata": {},
   "outputs": [],
   "source": [
    "data = get_CIFAR10_data(TRAIN_IMAGES, VAL_IMAGES)\n",
    "X_train_CIFAR, y_train_CIFAR = data['X_train'], data['y_train']\n",
    "X_val_CIFAR, y_val_CIFAR = data['X_val'], data['y_val']\n",
    "X_test_CIFAR, y_test_CIFAR = data['X_test'], data['y_test']\n",
    "n_class_CIFAR = len(np.unique(y_test_CIFAR))"
   ]
  },
  {
   "cell_type": "markdown",
   "metadata": {},
   "source": [
    "Convert the sets of images from dimensions of **(N, 3, 32, 32) -> (N, 3072)** where N is the number of images so that each **3x32x32** image is represented by a single vector."
   ]
  },
  {
   "cell_type": "code",
   "execution_count": 4,
   "metadata": {},
   "outputs": [],
   "source": [
    "X_train_CIFAR = np.reshape(X_train_CIFAR, (X_train_CIFAR.shape[0], -1))\n",
    "X_val_CIFAR = np.reshape(X_val_CIFAR, (X_val_CIFAR.shape[0], -1))\n",
    "X_test_CIFAR = np.reshape(X_test_CIFAR, (X_test_CIFAR.shape[0], -1))"
   ]
  },
  {
   "cell_type": "markdown",
   "metadata": {},
   "source": [
    "# Loading Mushroom"
   ]
  },
  {
   "cell_type": "markdown",
   "metadata": {},
   "source": [
    "In the following cells we determine the splitting of the mushroom dataset.\n",
    "<br /> TRAINING + VALIDATION = 0.8, TESTING = 0.2"
   ]
  },
  {
   "cell_type": "code",
   "execution_count": 5,
   "metadata": {},
   "outputs": [],
   "source": [
    "# TRAINING = 0.6 indicates 60% of the data is used as the training dataset.\n",
    "VALIDATION = 0.2"
   ]
  },
  {
   "cell_type": "code",
   "execution_count": 6,
   "metadata": {},
   "outputs": [
    {
     "name": "stdout",
     "output_type": "stream",
     "text": [
      "Number of train samples:  4874\n",
      "Number of val samples:  1625\n",
      "Number of test samples:  1625\n"
     ]
    }
   ],
   "source": [
    "data = get_MUSHROOM_data(VALIDATION)\n",
    "X_train_MR, y_train_MR = data['X_train'], data['y_train']\n",
    "X_val_MR, y_val_MR = data['X_val'], data['y_val']\n",
    "X_test_MR, y_test_MR = data['X_test'], data['y_test']\n",
    "n_class_MR = len(np.unique(y_test_MR))\n",
    "\n",
    "print(\"Number of train samples: \", X_train_MR.shape[0])\n",
    "print(\"Number of val samples: \", X_val_MR.shape[0])\n",
    "print(\"Number of test samples: \", X_test_MR.shape[0])"
   ]
  },
  {
   "cell_type": "markdown",
   "metadata": {},
   "source": [
    "### Get Accuracy"
   ]
  },
  {
   "cell_type": "markdown",
   "metadata": {},
   "source": [
    "This function computes how well your model performs using accuracy as a metric."
   ]
  },
  {
   "cell_type": "code",
   "execution_count": 7,
   "metadata": {},
   "outputs": [],
   "source": [
    "def get_acc(pred, y_test):\n",
    "    return np.sum(y_test==pred)/len(y_test)*100"
   ]
  },
  {
   "cell_type": "markdown",
   "metadata": {},
   "source": [
    "# Perceptron"
   ]
  },
  {
   "cell_type": "markdown",
   "metadata": {},
   "source": [
    "Perceptron has 2 hyperparameters that you can experiment with:\n",
    "- **Learning rate** - controls how much we change the current weights of the classifier during each update. We set it at a default value of 0.5, but you should experiment with different values. We recommend changing the learning rate by factors of 10 and observing how the performance of the classifier changes. You should also try adding a **decay** which slowly reduces the learning rate over each epoch.\n",
    "- **Number of Epochs** - An epoch is a complete iterative pass over all of the data in the dataset. During an epoch we predict a label using the classifier and then update the weights of the classifier according the perceptron update rule for each sample in the training set. You should try different values for the number of training epochs and report your results."
   ]
  },
  {
   "cell_type": "markdown",
   "metadata": {},
   "source": [
    "You will implement the Perceptron classifier in the **models/Perceptron.py**\n",
    "\n",
    "The following code: \n",
    "- Creates an instance of the Perceptron classifier class \n",
    "- The train function of the Perceptron class is trained on the training data\n",
    "- We use the predict function to find the training accuracy as well as the testing accuracy\n"
   ]
  },
  {
   "cell_type": "markdown",
   "metadata": {},
   "source": [
    "## Train Perceptron on CIFAR"
   ]
  },
  {
   "cell_type": "code",
   "execution_count": 8,
   "metadata": {
    "scrolled": true
   },
   "outputs": [
    {
     "data": {
      "text/plain": [
       "array([[   11.85811905,  -212.99450057,  -466.83613779, ...,\n",
       "          -25.84806537,  -142.9542884 , -1134.5510002 ],\n",
       "       [  392.28864498,    -1.67630725,  -225.66345216, ...,\n",
       "          -12.88475697,   145.70861054,  -786.75064285],\n",
       "       [ -108.06620934,   259.12537418,   264.99478397, ...,\n",
       "         -346.42705351,  -280.70190983,    22.61775736],\n",
       "       ...,\n",
       "       [  142.51610922,   -74.37864247,   127.74846064, ...,\n",
       "         -368.45318648,    12.18932014,   416.66613668],\n",
       "       [   39.20270954,    58.94199413,    -7.64179765, ...,\n",
       "          532.19087922,   508.21923252,   162.33882064],\n",
       "       [  -97.09026401,  -286.82657535,  -309.92163813, ...,\n",
       "          488.18700477,   323.81212505,   277.18159517]])"
      ]
     },
     "execution_count": 8,
     "metadata": {},
     "output_type": "execute_result"
    }
   ],
   "source": [
    "lr = 0.05\n",
    "n_epochs = 5\n",
    "\n",
    "percept_CIFAR = Perceptron(n_class_CIFAR, lr, n_epochs, X_train_CIFAR.shape[1])\n",
    "percept_CIFAR.train(X_train_CIFAR, y_train_CIFAR)"
   ]
  },
  {
   "cell_type": "code",
   "execution_count": 9,
   "metadata": {},
   "outputs": [
    {
     "name": "stdout",
     "output_type": "stream",
     "text": [
      "The training accuracy is given by: 31.077500\n"
     ]
    }
   ],
   "source": [
    "pred_percept = percept_CIFAR.predict(X_train_CIFAR)\n",
    "print('The training accuracy is given by: %f' % (get_acc(pred_percept, y_train_CIFAR)))"
   ]
  },
  {
   "cell_type": "markdown",
   "metadata": {},
   "source": [
    "### Validate Perceptron on CIFAR"
   ]
  },
  {
   "cell_type": "code",
   "execution_count": 10,
   "metadata": {},
   "outputs": [
    {
     "name": "stdout",
     "output_type": "stream",
     "text": [
      "The validation accuracy is given by: 27.860000\n"
     ]
    }
   ],
   "source": [
    "pred_percept = percept_CIFAR.predict(X_val_CIFAR)\n",
    "print('The validation accuracy is given by: %f' % (get_acc(pred_percept, y_val_CIFAR)))"
   ]
  },
  {
   "cell_type": "markdown",
   "metadata": {},
   "source": [
    "### Test Perceptron on CIFAR"
   ]
  },
  {
   "cell_type": "code",
   "execution_count": 11,
   "metadata": {},
   "outputs": [
    {
     "name": "stdout",
     "output_type": "stream",
     "text": [
      "The testing accuracy is given by: 27.540000\n"
     ]
    }
   ],
   "source": [
    "pred_percept = percept_CIFAR.predict(X_test_CIFAR)\n",
    "print('The testing accuracy is given by: %f' % (get_acc(pred_percept, y_test_CIFAR)))"
   ]
  },
  {
   "cell_type": "markdown",
   "metadata": {},
   "source": [
    "### Perceptron_CIFAR Kaggle Submission\n",
    "\n",
    "Once you are satisfied with your solution and test accuracy, output a file to submit your test set predictions to the Kaggle for Assignment 1 CIFAR. Use the following code to do so:"
   ]
  },
  {
   "cell_type": "code",
   "execution_count": 12,
   "metadata": {},
   "outputs": [],
   "source": [
    "output_submission_csv('kaggle/perceptron_submission_CIFAR.csv', percept_CIFAR.predict(X_test_CIFAR))"
   ]
  },
  {
   "cell_type": "markdown",
   "metadata": {},
   "source": [
    "## Train Perceptron on Mushroom"
   ]
  },
  {
   "cell_type": "code",
   "execution_count": 13,
   "metadata": {},
   "outputs": [
    {
     "data": {
      "text/plain": [
       "array([[  0.60987592,  -1.49397887,   0.31310885,   2.53172741,\n",
       "          1.19671632,  -2.8659255 ,   8.24735329, -13.74651605,\n",
       "          1.86390754,   2.86717939,   4.48906201,   7.38659437,\n",
       "          2.49072421,   0.59260306,   1.19041083,   0.4544486 ,\n",
       "         -7.12940773,   2.06156875,   0.05201058,   2.97079703,\n",
       "          0.09349593,  -0.21379481,  -1.38202172],\n",
       "       [  0.86618729,   2.34709965,   0.80251649,  -1.92172807,\n",
       "         -0.74979216,   3.25374965,  -7.77690972,  14.70742347,\n",
       "         -0.59585924,  -2.60038308,  -3.44754916,  -6.75323928,\n",
       "         -1.27433588,   0.44747006,   0.40698289,   0.87950697,\n",
       "          8.84043252,  -1.48644058,   1.05849854,  -1.04115323,\n",
       "          0.85379909,   1.39155821,   2.75732247]])"
      ]
     },
     "execution_count": 13,
     "metadata": {},
     "output_type": "execute_result"
    }
   ],
   "source": [
    "lr = 0.05\n",
    "n_epochs = 5\n",
    "\n",
    "percept_MR = Perceptron(n_class_MR, lr, n_epochs, X_train_MR.shape[1])\n",
    "percept_MR.train(X_train_MR, y_train_MR)"
   ]
  },
  {
   "cell_type": "code",
   "execution_count": 14,
   "metadata": {},
   "outputs": [
    {
     "name": "stdout",
     "output_type": "stream",
     "text": [
      "The training accuracy is given by: 83.709479\n"
     ]
    }
   ],
   "source": [
    "pred_percept = percept_MR.predict(X_train_MR)\n",
    "print('The training accuracy is given by: %f' % (get_acc(pred_percept, y_train_MR)))"
   ]
  },
  {
   "cell_type": "markdown",
   "metadata": {},
   "source": [
    "### Validate Perceptron on Mushroom"
   ]
  },
  {
   "cell_type": "code",
   "execution_count": 15,
   "metadata": {},
   "outputs": [
    {
     "name": "stdout",
     "output_type": "stream",
     "text": [
      "The validation accuracy is given by: 81.784615\n"
     ]
    }
   ],
   "source": [
    "pred_percept = percept_MR.predict(X_val_MR)\n",
    "print('The validation accuracy is given by: %f' % (get_acc(pred_percept, y_val_MR)))"
   ]
  },
  {
   "cell_type": "markdown",
   "metadata": {},
   "source": [
    "### Test Perceptron on Mushroom"
   ]
  },
  {
   "cell_type": "code",
   "execution_count": 16,
   "metadata": {},
   "outputs": [
    {
     "name": "stdout",
     "output_type": "stream",
     "text": [
      "The testing accuracy is given by: 83.138462\n"
     ]
    }
   ],
   "source": [
    "pred_percept = percept_MR.predict(X_test_MR)\n",
    "print('The testing accuracy is given by: %f' % (get_acc(pred_percept, y_test_MR)))"
   ]
  },
  {
   "cell_type": "markdown",
   "metadata": {},
   "source": [
    "# Support Vector Machines (with SGD)"
   ]
  },
  {
   "cell_type": "markdown",
   "metadata": {},
   "source": [
    "Next, you will implement a \"soft margin\" SVM. In this formulation you will maximize the margin between positive and negative training examples and penalize margin violations using a hinge loss.\n",
    "\n",
    "We will optimize the SVM loss using SGD. This means you must compute the loss function with respect to model weights. You will use this gradient to update the model weights.\n",
    "\n",
    "SVM optimized with SGD has 3 hyperparameters that you can experiment with :\n",
    "- **Learning rate** - similar to as defined above in Perceptron, this parameter scales by how much the weights are changed according to the calculated gradient update. \n",
    "- **Epochs** - similar to as defined above in Perceptron.\n",
    "- **Regularization constant** - Hyperparameter to determine the strength of regularization. In this case it is a coefficient on the term which maximizes the margin. You could try different values. The default value is set to 0.05."
   ]
  },
  {
   "cell_type": "markdown",
   "metadata": {},
   "source": [
    "You will implement the SVM using SGD in the **models/SVM.py**\n",
    "\n",
    "The following code: \n",
    "- Creates an instance of the SVM classifier class \n",
    "- The train function of the SVM class is trained on the training data\n",
    "- We use the predict function to find the training accuracy as well as the testing accuracy"
   ]
  },
  {
   "cell_type": "markdown",
   "metadata": {},
   "source": [
    "## Train SVM on CIFAR"
   ]
  },
  {
   "cell_type": "code",
   "execution_count": 17,
   "metadata": {},
   "outputs": [],
   "source": [
    "lr = 0.0001\n",
    "n_epochs = 500\n",
    "reg_const = 0.05\n",
    "\n",
    "svm_CIFAR = SVM(n_class_CIFAR, lr, n_epochs, reg_const, X_train_CIFAR.shape[1])\n",
    "svm_CIFAR.train(X_train_CIFAR, y_train_CIFAR, 1000)"
   ]
  },
  {
   "cell_type": "code",
   "execution_count": 18,
   "metadata": {
    "scrolled": true
   },
   "outputs": [
    {
     "name": "stdout",
     "output_type": "stream",
     "text": [
      "The training accuracy is given by: 34.790000\n"
     ]
    }
   ],
   "source": [
    "pred_svm = svm_CIFAR.predict(X_train_CIFAR)\n",
    "print('The training accuracy is given by: %f' % (get_acc(pred_svm, y_train_CIFAR)))"
   ]
  },
  {
   "cell_type": "markdown",
   "metadata": {},
   "source": [
    "### Validate SVM on CIFAR"
   ]
  },
  {
   "cell_type": "code",
   "execution_count": 19,
   "metadata": {},
   "outputs": [
    {
     "name": "stdout",
     "output_type": "stream",
     "text": [
      "The validation accuracy is given by: 29.030000\n"
     ]
    }
   ],
   "source": [
    "pred_svm = svm_CIFAR.predict(X_val_CIFAR)\n",
    "print('The validation accuracy is given by: %f' % (get_acc(pred_svm, y_val_CIFAR)))"
   ]
  },
  {
   "cell_type": "markdown",
   "metadata": {},
   "source": [
    "### Test SVM on CIFAR"
   ]
  },
  {
   "cell_type": "code",
   "execution_count": 20,
   "metadata": {},
   "outputs": [
    {
     "name": "stdout",
     "output_type": "stream",
     "text": [
      "The testing accuracy is given by: 29.740000\n"
     ]
    }
   ],
   "source": [
    "pred_svm = svm_CIFAR.predict(X_test_CIFAR)\n",
    "print('The testing accuracy is given by: %f' % (get_acc(pred_svm, y_test_CIFAR)))"
   ]
  },
  {
   "cell_type": "markdown",
   "metadata": {},
   "source": [
    "### SVM_CIFAR Kaggle Submission\n",
    "\n",
    "Once you are satisfied with your solution and test accuracy output a file to submit your test set predictions to the Kaggle for Assignment 1 CIFAR. Use the following code to do so:"
   ]
  },
  {
   "cell_type": "code",
   "execution_count": 21,
   "metadata": {},
   "outputs": [],
   "source": [
    "output_submission_csv('kaggle/svm_submission_CIFAR.csv', svm_CIFAR.predict(X_test_CIFAR))"
   ]
  },
  {
   "cell_type": "markdown",
   "metadata": {},
   "source": [
    "## Train SVM on Mushroom"
   ]
  },
  {
   "cell_type": "code",
   "execution_count": 22,
   "metadata": {},
   "outputs": [],
   "source": [
    "lr = 0.0005\n",
    "n_epochs = 12\n",
    "reg_const = 0.05\n",
    "\n",
    "svm_MR = SVM(n_class_MR, lr, n_epochs, reg_const, X_train_MR.shape[1])\n",
    "svm_MR.train(X_train_MR, y_train_MR, 1000)"
   ]
  },
  {
   "cell_type": "code",
   "execution_count": 23,
   "metadata": {},
   "outputs": [
    {
     "name": "stdout",
     "output_type": "stream",
     "text": [
      "The training accuracy is given by: 90.849405\n"
     ]
    }
   ],
   "source": [
    "pred_svm = svm_MR.predict(X_train_MR)\n",
    "print('The training accuracy is given by: %f' % (get_acc(pred_svm, y_train_MR)))"
   ]
  },
  {
   "cell_type": "markdown",
   "metadata": {},
   "source": [
    "### Validate SVM on Mushroom"
   ]
  },
  {
   "cell_type": "code",
   "execution_count": 24,
   "metadata": {},
   "outputs": [
    {
     "name": "stdout",
     "output_type": "stream",
     "text": [
      "The validation accuracy is given by: 90.092308\n"
     ]
    }
   ],
   "source": [
    "pred_svm = svm_MR.predict(X_val_MR)\n",
    "print('The validation accuracy is given by: %f' % (get_acc(pred_svm, y_val_MR)))"
   ]
  },
  {
   "cell_type": "markdown",
   "metadata": {},
   "source": [
    "## Test SVM on Mushroom"
   ]
  },
  {
   "cell_type": "code",
   "execution_count": 25,
   "metadata": {},
   "outputs": [
    {
     "name": "stdout",
     "output_type": "stream",
     "text": [
      "The testing accuracy is given by: 89.538462\n"
     ]
    }
   ],
   "source": [
    "pred_svm = svm_MR.predict(X_test_MR)\n",
    "print('The testing accuracy is given by: %f' % (get_acc(pred_svm, y_test_MR)))"
   ]
  },
  {
   "cell_type": "markdown",
   "metadata": {},
   "source": [
    "# Softmax Classifier (with SGD)"
   ]
  },
  {
   "cell_type": "markdown",
   "metadata": {
    "collapsed": true
   },
   "source": [
    "Next, you will train a Softmax classifier. This classifier consists of a linear function of the input data followed by a softmax function which outputs a vector of dimension C (number of classes) for each data point. Each entry of the softmax output vector corresponds to a confidence in one of the C classes, and like a probability distribution, the entries of the output vector sum to 1. We use a cross-entropy loss on this sotmax output to train the model. \n",
    "\n",
    "Check the following link as an additional resource on softmax classification: http://cs231n.github.io/linear-classify/#softmax\n",
    "\n",
    "Once again we will train the classifier with SGD. This means you need to compute the gradients of the softmax cross-entropy loss function according to the weights and update the weights using this gradient. Check the following link to help with implementing the gradient updates: https://deepnotes.io/softmax-crossentropy"
   ]
  },
  {
   "cell_type": "markdown",
   "metadata": {},
   "source": [
    "The softmax classifier has 3 hyperparameters that you can experiment with :\n",
    "- **Learning rate** - As above, this controls how much the model weights are updated with respect to their gradient.\n",
    "- **Number of Epochs** - As described for perceptron.\n",
    "- **Regularization constant** - Hyperparameter to determine the strength of regularization. In this case, we minimize the L2 norm of the model weights as regularization, so the regularization constant is a coefficient on the L2 norm in the combined cross-entropy and regularization objective."
   ]
  },
  {
   "cell_type": "markdown",
   "metadata": {},
   "source": [
    "You will implement a softmax classifier using SGD in the **models/Softmax.py**\n",
    "\n",
    "The following code: \n",
    "- Creates an instance of the Softmax classifier class \n",
    "- The train function of the Softmax class is trained on the training data\n",
    "- We use the predict function to find the training accuracy as well as the testing accuracy"
   ]
  },
  {
   "cell_type": "markdown",
   "metadata": {},
   "source": [
    "## Train Softmax on CIFAR"
   ]
  },
  {
   "cell_type": "code",
   "execution_count": 26,
   "metadata": {},
   "outputs": [],
   "source": [
    "lr = 0.001\n",
    "n_epochs = 50\n",
    "reg_const = 0.05\n",
    "\n",
    "softmax_CIFAR = Softmax(n_class_CIFAR, lr, n_epochs, reg_const, X_train_CIFAR.shape[1])\n",
    "softmax_CIFAR.train(X_train_CIFAR, y_train_CIFAR, 1000)"
   ]
  },
  {
   "cell_type": "code",
   "execution_count": 27,
   "metadata": {
    "scrolled": true
   },
   "outputs": [
    {
     "name": "stdout",
     "output_type": "stream",
     "text": [
      "The training accuracy is given by: 26.855000\n"
     ]
    }
   ],
   "source": [
    "pred_softmax = softmax_CIFAR.predict(X_train_CIFAR)\n",
    "print('The training accuracy is given by: %f' % (get_acc(pred_softmax, y_train_CIFAR)))"
   ]
  },
  {
   "cell_type": "markdown",
   "metadata": {},
   "source": [
    "### Validate Softmax on CIFAR"
   ]
  },
  {
   "cell_type": "code",
   "execution_count": 28,
   "metadata": {},
   "outputs": [
    {
     "name": "stdout",
     "output_type": "stream",
     "text": [
      "The validation accuracy is given by: 23.680000\n"
     ]
    }
   ],
   "source": [
    "pred_softmax = softmax_CIFAR.predict(X_val_CIFAR)\n",
    "print('The validation accuracy is given by: %f' % (get_acc(pred_softmax, y_val_CIFAR)))"
   ]
  },
  {
   "cell_type": "markdown",
   "metadata": {},
   "source": [
    "### Testing Softmax on CIFAR"
   ]
  },
  {
   "cell_type": "code",
   "execution_count": 29,
   "metadata": {},
   "outputs": [
    {
     "name": "stdout",
     "output_type": "stream",
     "text": [
      "The testing accuracy is given by: 24.090000\n"
     ]
    }
   ],
   "source": [
    "pred_softmax = softmax_CIFAR.predict(X_test_CIFAR)\n",
    "print('The testing accuracy is given by: %f' % (get_acc(pred_softmax, y_test_CIFAR)))"
   ]
  },
  {
   "cell_type": "markdown",
   "metadata": {},
   "source": [
    "### Softmax_CIFAR Kaggle Submission\n",
    "\n",
    "Once you are satisfied with your solution and test accuracy output a file to submit your test set predictions to the Kaggle for Assignment 1 CIFAR. Use the following code to do so:"
   ]
  },
  {
   "cell_type": "code",
   "execution_count": 30,
   "metadata": {},
   "outputs": [],
   "source": [
    "output_submission_csv('kaggle/softmax_submission_CIFAR.csv', softmax_CIFAR.predict(X_test_CIFAR))"
   ]
  },
  {
   "cell_type": "markdown",
   "metadata": {},
   "source": [
    "## Train Softmax on Mushroom"
   ]
  },
  {
   "cell_type": "code",
   "execution_count": 31,
   "metadata": {},
   "outputs": [],
   "source": [
    "lr = 0.001\n",
    "n_epochs = 50\n",
    "reg_const = 0.05\n",
    "\n",
    "softmax_MR = Softmax(n_class_MR, lr, n_epochs, reg_const, X_train_MR.shape[1])\n",
    "softmax_MR.train(X_train_MR, y_train_MR, 1000)"
   ]
  },
  {
   "cell_type": "code",
   "execution_count": 32,
   "metadata": {},
   "outputs": [
    {
     "name": "stdout",
     "output_type": "stream",
     "text": [
      "The training accuracy is given by: 93.311449\n"
     ]
    }
   ],
   "source": [
    "pred_softmax = softmax_MR.predict(X_train_MR)\n",
    "print('The training accuracy is given by: %f' % (get_acc(pred_softmax, y_train_MR)))"
   ]
  },
  {
   "cell_type": "markdown",
   "metadata": {},
   "source": [
    "### Validate Softmax on Mushroom"
   ]
  },
  {
   "cell_type": "code",
   "execution_count": 33,
   "metadata": {},
   "outputs": [
    {
     "name": "stdout",
     "output_type": "stream",
     "text": [
      "The validation accuracy is given by: 92.492308\n"
     ]
    }
   ],
   "source": [
    "pred_softmax = softmax_MR.predict(X_val_MR)\n",
    "print('The validation accuracy is given by: %f' % (get_acc(pred_softmax, y_val_MR)))"
   ]
  },
  {
   "cell_type": "markdown",
   "metadata": {},
   "source": [
    "### Testing Softmax on Mushroom"
   ]
  },
  {
   "cell_type": "code",
   "execution_count": 34,
   "metadata": {},
   "outputs": [
    {
     "name": "stdout",
     "output_type": "stream",
     "text": [
      "The testing accuracy is given by: 92.615385\n"
     ]
    }
   ],
   "source": [
    "pred_softmax = softmax_MR.predict(X_test_MR)\n",
    "print('The testing accuracy is given by: %f' % (get_acc(pred_softmax, y_test_MR)))"
   ]
  },
  {
   "cell_type": "markdown",
   "metadata": {},
   "source": [
    "# Logistic Classifier"
   ]
  },
  {
   "cell_type": "markdown",
   "metadata": {},
   "source": [
    "The Logistic Classifier has 2 hyperparameters that you can experiment with:\n",
    "- **Learning rate** - similar to as defined above in Perceptron, this parameter scales by how much the weights are changed according to the calculated gradient update. \n",
    "- **Number of Epochs** - As described for perceptron.\n",
    "\n"
   ]
  },
  {
   "cell_type": "markdown",
   "metadata": {},
   "source": [
    "You will implement the Logistic Classifier in the **models/Logistic.py**\n",
    "\n",
    "The following code: \n",
    "- Creates an instance of the Logistic classifier class \n",
    "- The train function of the Logistic class is trained on the training data\n",
    "- We use the predict function to find the training accuracy as well as the testing accuracy"
   ]
  },
  {
   "cell_type": "markdown",
   "metadata": {},
   "source": [
    "### Training Logistic Classifer"
   ]
  },
  {
   "cell_type": "code",
   "execution_count": 35,
   "metadata": {},
   "outputs": [],
   "source": [
    "learning_rate = 0.09\n",
    "n_epochs = 300\n",
    "\n",
    "lr = Logistic(learning_rate, n_epochs, X_train_MR.shape[1])\n",
    "lr.train(X_train_MR, y_train_MR)"
   ]
  },
  {
   "cell_type": "code",
   "execution_count": 36,
   "metadata": {},
   "outputs": [
    {
     "name": "stdout",
     "output_type": "stream",
     "text": [
      "The training accuracy is given by: 90.069758\n"
     ]
    }
   ],
   "source": [
    "pred_lr = lr.predict(X_train_MR)\n",
    "print('The training accuracy is given by: %f' % (get_acc(pred_lr, y_train_MR)))"
   ]
  },
  {
   "cell_type": "markdown",
   "metadata": {},
   "source": [
    "### Validate Logistic Classifer"
   ]
  },
  {
   "cell_type": "code",
   "execution_count": 37,
   "metadata": {},
   "outputs": [
    {
     "name": "stdout",
     "output_type": "stream",
     "text": [
      "The validation accuracy is given by: 89.292308\n"
     ]
    }
   ],
   "source": [
    "pred_lr = lr.predict(X_val_MR)\n",
    "print('The validation accuracy is given by: %f' % (get_acc(pred_lr, y_val_MR)))"
   ]
  },
  {
   "cell_type": "markdown",
   "metadata": {},
   "source": [
    "### Test Logistic Classifier"
   ]
  },
  {
   "cell_type": "code",
   "execution_count": 38,
   "metadata": {},
   "outputs": [
    {
     "name": "stdout",
     "output_type": "stream",
     "text": [
      "The testing accuracy is given by: 89.107692\n"
     ]
    }
   ],
   "source": [
    "pred_lr = lr.predict(X_test_MR)\n",
    "print('The testing accuracy is given by: %f' % (get_acc(pred_lr, y_test_MR)))"
   ]
  }
 ],
 "metadata": {
  "kernelspec": {
   "display_name": "Python 3",
   "language": "python",
   "name": "python3"
  },
  "language_info": {
   "codemirror_mode": {
    "name": "ipython",
    "version": 3
   },
   "file_extension": ".py",
   "mimetype": "text/x-python",
   "name": "python",
   "nbconvert_exporter": "python",
   "pygments_lexer": "ipython3",
   "version": "3.7.8"
  }
 },
 "nbformat": 4,
 "nbformat_minor": 1
}
