{
  "nbformat": 4,
  "nbformat_minor": 0,
  "metadata": {
    "kernelspec": {
      "display_name": "Python 3",
      "language": "python",
      "name": "python3"
    },
    "language_info": {
      "codemirror_mode": {
        "name": "ipython",
        "version": 3
      },
      "file_extension": ".py",
      "mimetype": "text/x-python",
      "name": "python",
      "nbconvert_exporter": "python",
      "pygments_lexer": "ipython3",
      "version": "3.7.2"
    },
    "colab": {
      "name": "MP3_P1B_Develop_Classifier.ipynb",
      "provenance": [],
      "include_colab_link": true
    },
    "accelerator": "GPU"
  },
  "cells": [
    {
      "cell_type": "markdown",
      "metadata": {
        "id": "view-in-github",
        "colab_type": "text"
      },
      "source": [
        "<a href=\"https://colab.research.google.com/github/AlchemicRonin/CS-498-Introduction-to-Deep-Learning/blob/TY/MP3_P1B_Develop_Classifier.ipynb\" target=\"_parent\"><img src=\"https://colab.research.google.com/assets/colab-badge.svg\" alt=\"Open In Colab\"/></a>"
      ]
    },
    {
      "cell_type": "markdown",
      "metadata": {
        "id": "dwmEgLzjuVLM"
      },
      "source": [
        "# Assignment 3 Part 1: Developing Your Own Classifier"
      ]
    },
    {
      "cell_type": "code",
      "metadata": {
        "id": "hXKpZ5noy-kd",
        "outputId": "44796bea-804a-4709-c6f3-7127314e23fa",
        "colab": {
          "base_uri": "https://localhost:8080/",
          "height": 34
        }
      },
      "source": [
        "from google.colab import drive\n",
        "drive.mount('/content/gdrive')\n",
        "import os\n",
        "os.chdir(\"gdrive/My Drive/assignment3_p1_starterkit\")"
      ],
      "execution_count": null,
      "outputs": [
        {
          "output_type": "stream",
          "text": [
            "Mounted at /content/gdrive\n"
          ],
          "name": "stdout"
        }
      ]
    },
    {
      "cell_type": "code",
      "metadata": {
        "id": "E6xrulu38mff",
        "outputId": "e6957510-1de6-4b86-b1a8-e59d31887198",
        "colab": {
          "base_uri": "https://localhost:8080/",
          "height": 386
        }
      },
      "source": [
        "# Check cuda version on colab and run the following PyTorch installation commands respectively.\n",
        "!nvcc --version\n",
        "\n",
        "# If CUDA 10.2 is installed\n",
        "#!pip install torch==1.5.1 torchvision==0.6.1\n",
        "\n",
        "# If CUDA 10.1 is installed \n",
        "!pip install torch==1.5.1+cu101 torchvision==0.6.1+cu101 -f https://download.pytorch.org/whl/torch_stable.html\n",
        "\n",
        "# If CUDA 9.2 is installed\n",
        "#!pip install torch==1.5.1+cu92 torchvision==0.6.1+cu92 -f https://download.pytorch.org/whl/torch_stable.html\n"
      ],
      "execution_count": null,
      "outputs": [
        {
          "output_type": "stream",
          "text": [
            "nvcc: NVIDIA (R) Cuda compiler driver\n",
            "Copyright (c) 2005-2019 NVIDIA Corporation\n",
            "Built on Sun_Jul_28_19:07:16_PDT_2019\n",
            "Cuda compilation tools, release 10.1, V10.1.243\n",
            "Looking in links: https://download.pytorch.org/whl/torch_stable.html\n",
            "Collecting torch==1.5.1+cu101\n",
            "\u001b[?25l  Downloading https://download.pytorch.org/whl/cu101/torch-1.5.1%2Bcu101-cp36-cp36m-linux_x86_64.whl (704.4MB)\n",
            "\u001b[K     |████████████████████████████████| 704.4MB 25kB/s \n",
            "\u001b[?25hCollecting torchvision==0.6.1+cu101\n",
            "\u001b[?25l  Downloading https://download.pytorch.org/whl/cu101/torchvision-0.6.1%2Bcu101-cp36-cp36m-linux_x86_64.whl (6.6MB)\n",
            "\u001b[K     |████████████████████████████████| 6.6MB 29.0MB/s \n",
            "\u001b[?25hRequirement already satisfied: numpy in /usr/local/lib/python3.6/dist-packages (from torch==1.5.1+cu101) (1.18.5)\n",
            "Requirement already satisfied: future in /usr/local/lib/python3.6/dist-packages (from torch==1.5.1+cu101) (0.16.0)\n",
            "Requirement already satisfied: pillow>=4.1.1 in /usr/local/lib/python3.6/dist-packages (from torchvision==0.6.1+cu101) (7.0.0)\n",
            "Installing collected packages: torch, torchvision\n",
            "  Found existing installation: torch 1.6.0+cu101\n",
            "    Uninstalling torch-1.6.0+cu101:\n",
            "      Successfully uninstalled torch-1.6.0+cu101\n",
            "  Found existing installation: torchvision 0.7.0+cu101\n",
            "    Uninstalling torchvision-0.7.0+cu101:\n",
            "      Successfully uninstalled torchvision-0.7.0+cu101\n",
            "Successfully installed torch-1.5.1+cu101 torchvision-0.6.1+cu101\n"
          ],
          "name": "stdout"
        }
      ]
    },
    {
      "cell_type": "code",
      "metadata": {
        "id": "f4DV3j8h9GtS",
        "outputId": "b8e90332-1494-44af-fb08-b541e08d3c3e",
        "colab": {
          "base_uri": "https://localhost:8080/",
          "height": 35
        }
      },
      "source": [
        "import shutil \n",
        "shutil.copyfile(\"VOCtrainval_06-Nov-2007.tar\", \"/content/VOCtrainval_06-Nov-2007.tar\")\n",
        "!tar -xf \"/content/VOCtrainval_06-Nov-2007.tar\" -C \"/content/\" \n",
        "shutil.move(\"/content/VOCdevkit/\", \"/content/VOCdevkit_2007\")\n",
        "\n",
        "shutil.copyfile(\"VOCtest_06-Nov-2007.tar\", \"/content/VOCtest_06-Nov-2007.tar\")\n",
        "!tar -xf \"/content/VOCtest_06-Nov-2007.tar\" -C \"/content/\" \n",
        "shutil.move(\"/content/VOCdevkit/VOC2007\", \"/content/VOCdevkit_2007/VOC2007test\")"
      ],
      "execution_count": null,
      "outputs": [
        {
          "output_type": "execute_result",
          "data": {
            "application/vnd.google.colaboratory.intrinsic+json": {
              "type": "string"
            },
            "text/plain": [
              "'/content/VOCdevkit_2007/VOC2007test'"
            ]
          },
          "metadata": {
            "tags": []
          },
          "execution_count": 4
        }
      ]
    },
    {
      "cell_type": "code",
      "metadata": {
        "id": "811RdplCuVLO"
      },
      "source": [
        "import os\n",
        "import numpy as np\n",
        "import torch\n",
        "import torch.nn as nn\n",
        "import torchvision\n",
        "\n",
        "from torchvision import transforms\n",
        "from sklearn.metrics import average_precision_score\n",
        "from PIL import Image, ImageDraw\n",
        "import matplotlib.pyplot as plt\n",
        "from kaggle_submission import output_submission_csv\n",
        "from classifier import SimpleClassifier, Classifier#, AlexNet\n",
        "from voc_dataloader import VocDataset, VOC_CLASSES\n",
        "\n",
        "%matplotlib inline\n",
        "%load_ext autoreload\n",
        "%autoreload 2"
      ],
      "execution_count": null,
      "outputs": []
    },
    {
      "cell_type": "markdown",
      "metadata": {
        "id": "1G4gJRcquVLT"
      },
      "source": [
        "# Part 1B: Design your own network\n",
        "\n",
        "In this notebook, your task is to create and train your own model for multi-label classification on VOC Pascal.\n",
        "\n",
        "## What to do\n",
        "1. You will make change on network architecture in ```classifier.py```.\n",
        "2. You may also want to change other hyperparameters to assist your training to get a better performances. Hints will be given in the below instructions.\n",
        "\n",
        "## What to submit\n",
        "Check the submission template for details what to submit. "
      ]
    },
    {
      "cell_type": "code",
      "metadata": {
        "id": "7ik39-pWuVLU"
      },
      "source": [
        "def train_classifier(train_loader, classifier, criterion, optimizer):\n",
        "    classifier.train()\n",
        "    loss_ = 0.0\n",
        "    losses = []\n",
        "    for i, (images, labels, _) in enumerate(train_loader):\n",
        "        images, labels = images.to(device), labels.to(device)\n",
        "        optimizer.zero_grad()\n",
        "        logits = classifier(images)\n",
        "        loss = criterion(logits, labels)\n",
        "        loss.backward()\n",
        "        optimizer.step()\n",
        "        losses.append(loss)\n",
        "    return torch.stack(losses).mean().item()"
      ],
      "execution_count": null,
      "outputs": []
    },
    {
      "cell_type": "code",
      "metadata": {
        "id": "FZ0SvQ22uVLX"
      },
      "source": [
        "def test_classifier(test_loader, classifier, criterion, print_ind_classes=True, print_total=True):\n",
        "    classifier.eval()\n",
        "    losses = []\n",
        "    with torch.no_grad():\n",
        "        y_true = np.zeros((0,21))\n",
        "        y_score = np.zeros((0,21))\n",
        "        for i, (images, labels, _) in enumerate(test_loader):\n",
        "            images, labels = images.to(device), labels.to(device)\n",
        "            logits = classifier(images)\n",
        "            y_true = np.concatenate((y_true, labels.cpu().numpy()), axis=0)\n",
        "            y_score = np.concatenate((y_score, logits.cpu().numpy()), axis=0)\n",
        "            loss = criterion(logits, labels)\n",
        "            losses.append(loss.item())\n",
        "        aps = []\n",
        "        # ignore first class which is background\n",
        "        for i in range(1, y_true.shape[1]):\n",
        "            ap = average_precision_score(y_true[:, i], y_score[:, i])\n",
        "            if print_ind_classes:\n",
        "                print('-------  Class: {:<12}     AP: {:>8.4f}  -------'.format(VOC_CLASSES[i], ap))\n",
        "            aps.append(ap)\n",
        "        \n",
        "        mAP = np.mean(aps)\n",
        "        test_loss = np.mean(losses)\n",
        "        if print_total:\n",
        "            print('mAP: {0:.4f}'.format(mAP))\n",
        "            print('Avg loss: {}'.format(test_loss))\n",
        "        \n",
        "    return mAP, test_loss, aps"
      ],
      "execution_count": null,
      "outputs": []
    },
    {
      "cell_type": "code",
      "metadata": {
        "id": "SFv6WcMFuVLa"
      },
      "source": [
        "def plot_losses(train, val, test_frequency, num_epochs):\n",
        "    plt.plot(train, label=\"train\")\n",
        "    indices = [i for i in range(num_epochs) if ((i+1)%test_frequency == 0 or i ==0)]\n",
        "    plt.plot(indices, val, label=\"val\")\n",
        "    plt.title(\"Loss Plot\")\n",
        "    plt.ylabel(\"Loss\")\n",
        "    plt.xlabel(\"Epoch\")\n",
        "    plt.legend()\n",
        "    plt.show()\n",
        "    \n",
        "def plot_mAP(train, val, test_frequency, num_epochs):\n",
        "    indices = [i for i in range(num_epochs) if ((i+1)%test_frequency == 0 or i ==0)]\n",
        "    plt.plot(indices, train, label=\"train\")\n",
        "    plt.plot(indices, val, label=\"val\")\n",
        "    plt.title(\"mAP Plot\")\n",
        "    plt.ylabel(\"mAP\")\n",
        "    plt.xlabel(\"Epoch\")\n",
        "    plt.legend()\n",
        "    plt.show()\n",
        "    "
      ],
      "execution_count": null,
      "outputs": []
    },
    {
      "cell_type": "code",
      "metadata": {
        "id": "7D3C_awruVLd"
      },
      "source": [
        "\n",
        "def train(classifier, num_epochs, train_loader, val_loader, criterion, optimizer, test_frequency=5):\n",
        "    train_losses = []\n",
        "    train_mAPs = []\n",
        "    val_losses = []\n",
        "    val_mAPs = []\n",
        "\n",
        "    for epoch in range(1,num_epochs+1):\n",
        "        print(\"Starting epoch number \" + str(epoch))\n",
        "        train_loss = train_classifier(train_loader, classifier, criterion, optimizer)\n",
        "        train_losses.append(train_loss)\n",
        "        print(\"Loss for Training on Epoch \" +str(epoch) + \" is \"+ str(train_loss))\n",
        "        if(epoch%test_frequency==0 or epoch==1):\n",
        "            mAP_train, _, _ = test_classifier(train_loader, classifier, criterion, False, False)\n",
        "            train_mAPs.append(mAP_train)\n",
        "            mAP_val, val_loss, _ = test_classifier(val_loader, classifier, criterion)\n",
        "            print('Evaluating classifier')\n",
        "            print(\"Mean Precision Score for Testing on Epoch \" +str(epoch) + \" is \"+ str(mAP_val))\n",
        "            val_losses.append(val_loss)\n",
        "            val_mAPs.append(mAP_val)\n",
        "    \n",
        "    return classifier, train_losses, val_losses, train_mAPs, val_mAPs"
      ],
      "execution_count": null,
      "outputs": []
    },
    {
      "cell_type": "markdown",
      "metadata": {
        "id": "GkHF0UoUuVLg"
      },
      "source": [
        "# Developing Your Own Model"
      ]
    },
    {
      "cell_type": "markdown",
      "metadata": {
        "id": "lqOGCOqyuVLh"
      },
      "source": [
        "### Goal\n",
        "To meet the benchmark for this assignment you will need to improve the network. Note you should have noticed pretrained Alenxt performs really well, but training Alexnet from scratch performs much worse. We hope you can design a better architecture over both the simple classifier and AlexNet to train from scratch.\n",
        "\n",
        "### How to start\n",
        "You may take inspiration from other published architectures and architectures discussed in lecture. However, you are NOT allowed to use predefined models (e.g. models from torchvision) or use pretrained weights. Training must be done from scratch with your own custom model.\n",
        "\n",
        "#### Some hints\n",
        "There are a variety of different approaches you should try to improve performance from the simple classifier:\n",
        "\n",
        "* Network architecture changes\n",
        "    * Number of layers: try adding layers to make your network deeper\n",
        "    * Batch normalization: adding batch norm between layers will likely give you a significant performance increase\n",
        "    * Residual connections: as you increase the depth of your network, you will find that having residual connections like those in ResNet architectures will be helpful\n",
        "* Optimizer: Instead of plain SGD, you may want to add a learning rate schedule, add momentum, or use one of the other optimizers you have learned about like Adam. Check the `torch.optim` package for other optimizers\n",
        "* Data augmentation: You should use the `torchvision.transforms` module to try adding random resized crops and horizontal flips of the input data. Check `transforms.RandomResizedCrop` and `transforms.RandomHorizontalFlip` for this. Feel free to apply more [transforms](https://pytorch.org/docs/stable/torchvision/transforms.html) for data augmentation which can lead to better performance. \n",
        "* Epochs: Once you have found a generally good hyperparameter setting try training for more epochs\n",
        "* Loss function: You might want to add weighting to the `MultiLabelSoftMarginLoss` for classes that are less well represented or experiment with a different loss function\n",
        "\n",
        "\n",
        "\n",
        "#### Note\n",
        "We will soon be providing some initial expectations of mAP values as a function of epoch so you can get an early idea whether your implementation works without waiting a long time for training to converge.\n",
        "\n",
        "### What to submit \n",
        "Submit your best model to Kaggle and save all plots for the writeup.\n"
      ]
    },
    {
      "cell_type": "code",
      "metadata": {
        "id": "51zx9G0BuVLh"
      },
      "source": [
        "device = torch.device(\"cuda:0\" if torch.cuda.is_available() else \"cpu\")\n",
        "\n",
        "normalize = transforms.Normalize(mean=[0.485, 0.456, 0.406],\n",
        "                                     std= [0.229, 0.224, 0.225])\n",
        "# Original is resize 227, centercrop 227\n",
        "train_transform = transforms.Compose([\n",
        "            transforms.Resize(227),\n",
        "            transforms.RandomCrop(200),\n",
        "            transforms.RandomHorizontalFlip(),\n",
        "            transforms.ToTensor(),\n",
        "            normalize\n",
        "        ])\n",
        "# Original is resize 227, centercrop 227\n",
        "test_transform = transforms.Compose([\n",
        "            transforms.Resize(227),\n",
        "            transforms.CenterCrop(227),\n",
        "            transforms.ToTensor(),\n",
        "            normalize,\n",
        "        ])\n",
        "\n",
        "ds_train = VocDataset('/content/VOCdevkit_2007/VOC2007/','train',train_transform)\n",
        "ds_val = VocDataset('/content/VOCdevkit_2007/VOC2007/','val',test_transform)\n",
        "ds_test = VocDataset('/content/VOCdevkit_2007/VOC2007test/','test', test_transform)\n"
      ],
      "execution_count": null,
      "outputs": []
    },
    {
      "cell_type": "code",
      "metadata": {
        "id": "qpnEgf-TuVLl"
      },
      "source": [
        "num_epochs = 50\n",
        "test_frequency = 5\n",
        "# Changed from 64 to 32\n",
        "batch_size = 32\n",
        "\n",
        "train_loader = torch.utils.data.DataLoader(dataset=ds_train,\n",
        "                                               batch_size=batch_size, \n",
        "                                               shuffle=True,\n",
        "                                               num_workers=1)\n",
        "\n",
        "val_loader = torch.utils.data.DataLoader(dataset=ds_val,\n",
        "                                               batch_size=batch_size, \n",
        "                                               shuffle=True,\n",
        "                                               num_workers=1)\n",
        "\n",
        "test_loader = torch.utils.data.DataLoader(dataset=ds_test,\n",
        "                                               batch_size=batch_size, \n",
        "                                               shuffle=False,\n",
        "                                               num_workers=1)"
      ],
      "execution_count": null,
      "outputs": []
    },
    {
      "cell_type": "code",
      "metadata": {
        "id": "7rlNgplQuVLo",
        "outputId": "daa363aa-85d7-454f-9d1e-fde34ee9fc91",
        "colab": {
          "base_uri": "https://localhost:8080/",
          "height": 1000
        }
      },
      "source": [
        "# TODO: Run your own classifier here\n",
        "classifier = Classifier().to(device)\n",
        "\n",
        "criterion = nn.MultiLabelSoftMarginLoss()\n",
        "#optimizer = torch.optim.SGD(classifier.parameters(), lr=0.01, momentum=0.9)\n",
        "# Changed from SGD to Adam\n",
        "optimizer = torch.optim.Adam(classifier.parameters(), lr=1e-5)\n",
        "\n",
        "classifier, train_losses, val_losses, train_mAPs, val_mAPs = train(classifier, num_epochs, train_loader, val_loader, criterion, optimizer, test_frequency)\n"
      ],
      "execution_count": null,
      "outputs": [
        {
          "output_type": "stream",
          "text": [
            "Starting epoch number 1\n",
            "Loss for Training on Epoch 1 is 0.27288615703582764\n",
            "-------  Class: aeroplane        AP:   0.1748  -------\n",
            "-------  Class: bicycle          AP:   0.1068  -------\n",
            "-------  Class: bird             AP:   0.1085  -------\n",
            "-------  Class: boat             AP:   0.1110  -------\n",
            "-------  Class: bottle           AP:   0.0744  -------\n",
            "-------  Class: bus              AP:   0.0581  -------\n",
            "-------  Class: car              AP:   0.2048  -------\n",
            "-------  Class: cat              AP:   0.1306  -------\n",
            "-------  Class: chair            AP:   0.1729  -------\n",
            "-------  Class: cow              AP:   0.0384  -------\n",
            "-------  Class: diningtable      AP:   0.1116  -------\n",
            "-------  Class: dog              AP:   0.1200  -------\n",
            "-------  Class: horse            AP:   0.0800  -------\n",
            "-------  Class: motorbike        AP:   0.0740  -------\n",
            "-------  Class: person           AP:   0.5386  -------\n",
            "-------  Class: pottedplant      AP:   0.0913  -------\n",
            "-------  Class: sheep            AP:   0.0305  -------\n",
            "-------  Class: sofa             AP:   0.1118  -------\n",
            "-------  Class: train            AP:   0.1328  -------\n",
            "-------  Class: tvmonitor        AP:   0.0488  -------\n",
            "mAP: 0.1260\n",
            "Avg loss: 0.2313534770208069\n",
            "Evaluating classifier\n",
            "Mean Precision Score for Testing on Epoch 1 is 0.12597522503666075\n",
            "Starting epoch number 2\n",
            "Loss for Training on Epoch 2 is 0.2331923544406891\n",
            "Starting epoch number 3\n",
            "Loss for Training on Epoch 3 is 0.2256232649087906\n",
            "Starting epoch number 4\n",
            "Loss for Training on Epoch 4 is 0.21816080808639526\n",
            "Starting epoch number 5\n",
            "Loss for Training on Epoch 5 is 0.21529386937618256\n",
            "-------  Class: aeroplane        AP:   0.4017  -------\n",
            "-------  Class: bicycle          AP:   0.2200  -------\n",
            "-------  Class: bird             AP:   0.1575  -------\n",
            "-------  Class: boat             AP:   0.2163  -------\n",
            "-------  Class: bottle           AP:   0.1276  -------\n",
            "-------  Class: bus              AP:   0.1262  -------\n",
            "-------  Class: car              AP:   0.4101  -------\n",
            "-------  Class: cat              AP:   0.2757  -------\n",
            "-------  Class: chair            AP:   0.2694  -------\n",
            "-------  Class: cow              AP:   0.0546  -------\n",
            "-------  Class: diningtable      AP:   0.1974  -------\n",
            "-------  Class: dog              AP:   0.1833  -------\n",
            "-------  Class: horse            AP:   0.1470  -------\n",
            "-------  Class: motorbike        AP:   0.1783  -------\n",
            "-------  Class: person           AP:   0.6175  -------\n",
            "-------  Class: pottedplant      AP:   0.1042  -------\n",
            "-------  Class: sheep            AP:   0.1192  -------\n",
            "-------  Class: sofa             AP:   0.1700  -------\n",
            "-------  Class: train            AP:   0.2577  -------\n",
            "-------  Class: tvmonitor        AP:   0.0922  -------\n",
            "mAP: 0.2163\n",
            "Avg loss: 0.2096394700340078\n",
            "Evaluating classifier\n",
            "Mean Precision Score for Testing on Epoch 5 is 0.21629758307825933\n",
            "Starting epoch number 6\n",
            "Loss for Training on Epoch 6 is 0.2114301323890686\n",
            "Starting epoch number 7\n",
            "Loss for Training on Epoch 7 is 0.20727066695690155\n",
            "Starting epoch number 8\n",
            "Loss for Training on Epoch 8 is 0.20603038370609283\n",
            "Starting epoch number 9\n",
            "Loss for Training on Epoch 9 is 0.20176447927951813\n",
            "Starting epoch number 10\n",
            "Loss for Training on Epoch 10 is 0.20073194801807404\n",
            "-------  Class: aeroplane        AP:   0.4746  -------\n",
            "-------  Class: bicycle          AP:   0.2951  -------\n",
            "-------  Class: bird             AP:   0.1798  -------\n",
            "-------  Class: boat             AP:   0.2078  -------\n",
            "-------  Class: bottle           AP:   0.1346  -------\n",
            "-------  Class: bus              AP:   0.1319  -------\n",
            "-------  Class: car              AP:   0.5104  -------\n",
            "-------  Class: cat              AP:   0.3079  -------\n",
            "-------  Class: chair            AP:   0.3570  -------\n",
            "-------  Class: cow              AP:   0.0868  -------\n",
            "-------  Class: diningtable      AP:   0.2707  -------\n",
            "-------  Class: dog              AP:   0.2297  -------\n",
            "-------  Class: horse            AP:   0.2717  -------\n",
            "-------  Class: motorbike        AP:   0.2194  -------\n",
            "-------  Class: person           AP:   0.6357  -------\n",
            "-------  Class: pottedplant      AP:   0.1244  -------\n",
            "-------  Class: sheep            AP:   0.1183  -------\n",
            "-------  Class: sofa             AP:   0.2343  -------\n",
            "-------  Class: train            AP:   0.3403  -------\n",
            "-------  Class: tvmonitor        AP:   0.1656  -------\n",
            "mAP: 0.2648\n",
            "Avg loss: 0.19923323883286007\n",
            "Evaluating classifier\n",
            "Mean Precision Score for Testing on Epoch 10 is 0.26480182067992\n",
            "Starting epoch number 11\n",
            "Loss for Training on Epoch 11 is 0.19710387289524078\n",
            "Starting epoch number 12\n",
            "Loss for Training on Epoch 12 is 0.19501519203186035\n",
            "Starting epoch number 13\n",
            "Loss for Training on Epoch 13 is 0.19329069554805756\n",
            "Starting epoch number 14\n",
            "Loss for Training on Epoch 14 is 0.19095687568187714\n",
            "Starting epoch number 15\n",
            "Loss for Training on Epoch 15 is 0.19066199660301208\n",
            "-------  Class: aeroplane        AP:   0.5285  -------\n",
            "-------  Class: bicycle          AP:   0.3418  -------\n",
            "-------  Class: bird             AP:   0.1874  -------\n",
            "-------  Class: boat             AP:   0.2372  -------\n",
            "-------  Class: bottle           AP:   0.1424  -------\n",
            "-------  Class: bus              AP:   0.1374  -------\n",
            "-------  Class: car              AP:   0.5534  -------\n",
            "-------  Class: cat              AP:   0.3264  -------\n",
            "-------  Class: chair            AP:   0.4048  -------\n",
            "-------  Class: cow              AP:   0.1288  -------\n",
            "-------  Class: diningtable      AP:   0.3148  -------\n",
            "-------  Class: dog              AP:   0.2480  -------\n",
            "-------  Class: horse            AP:   0.3055  -------\n",
            "-------  Class: motorbike        AP:   0.2656  -------\n",
            "-------  Class: person           AP:   0.6706  -------\n",
            "-------  Class: pottedplant      AP:   0.1400  -------\n",
            "-------  Class: sheep            AP:   0.1175  -------\n",
            "-------  Class: sofa             AP:   0.2612  -------\n",
            "-------  Class: train            AP:   0.3963  -------\n",
            "-------  Class: tvmonitor        AP:   0.2056  -------\n",
            "mAP: 0.2957\n",
            "Avg loss: 0.1944795845052864\n",
            "Evaluating classifier\n",
            "Mean Precision Score for Testing on Epoch 15 is 0.29566658094810216\n",
            "Starting epoch number 16\n",
            "Loss for Training on Epoch 16 is 0.18735405802726746\n",
            "Starting epoch number 17\n",
            "Loss for Training on Epoch 17 is 0.1865108609199524\n",
            "Starting epoch number 18\n",
            "Loss for Training on Epoch 18 is 0.1828191578388214\n",
            "Starting epoch number 19\n",
            "Loss for Training on Epoch 19 is 0.1822555512189865\n",
            "Starting epoch number 20\n",
            "Loss for Training on Epoch 20 is 0.1813621073961258\n",
            "-------  Class: aeroplane        AP:   0.5555  -------\n",
            "-------  Class: bicycle          AP:   0.3480  -------\n",
            "-------  Class: bird             AP:   0.2144  -------\n",
            "-------  Class: boat             AP:   0.2702  -------\n",
            "-------  Class: bottle           AP:   0.1240  -------\n",
            "-------  Class: bus              AP:   0.1436  -------\n",
            "-------  Class: car              AP:   0.5676  -------\n",
            "-------  Class: cat              AP:   0.3702  -------\n",
            "-------  Class: chair            AP:   0.4392  -------\n",
            "-------  Class: cow              AP:   0.1759  -------\n",
            "-------  Class: diningtable      AP:   0.3307  -------\n",
            "-------  Class: dog              AP:   0.2682  -------\n",
            "-------  Class: horse            AP:   0.3568  -------\n",
            "-------  Class: motorbike        AP:   0.2880  -------\n",
            "-------  Class: person           AP:   0.7139  -------\n",
            "-------  Class: pottedplant      AP:   0.1797  -------\n",
            "-------  Class: sheep            AP:   0.1372  -------\n",
            "-------  Class: sofa             AP:   0.2697  -------\n",
            "-------  Class: train            AP:   0.4673  -------\n",
            "-------  Class: tvmonitor        AP:   0.2277  -------\n",
            "mAP: 0.3224\n",
            "Avg loss: 0.19547352722928493\n",
            "Evaluating classifier\n",
            "Mean Precision Score for Testing on Epoch 20 is 0.3223960218573357\n",
            "Starting epoch number 21\n",
            "Loss for Training on Epoch 21 is 0.18029877543449402\n",
            "Starting epoch number 22\n",
            "Loss for Training on Epoch 22 is 0.17777210474014282\n",
            "Starting epoch number 23\n",
            "Loss for Training on Epoch 23 is 0.17617513239383698\n",
            "Starting epoch number 24\n",
            "Loss for Training on Epoch 24 is 0.17608684301376343\n",
            "Starting epoch number 25\n",
            "Loss for Training on Epoch 25 is 0.1742008924484253\n",
            "-------  Class: aeroplane        AP:   0.5854  -------\n",
            "-------  Class: bicycle          AP:   0.3495  -------\n",
            "-------  Class: bird             AP:   0.2155  -------\n",
            "-------  Class: boat             AP:   0.2441  -------\n",
            "-------  Class: bottle           AP:   0.1445  -------\n",
            "-------  Class: bus              AP:   0.1806  -------\n",
            "-------  Class: car              AP:   0.5737  -------\n",
            "-------  Class: cat              AP:   0.3452  -------\n",
            "-------  Class: chair            AP:   0.4529  -------\n",
            "-------  Class: cow              AP:   0.1657  -------\n",
            "-------  Class: diningtable      AP:   0.3534  -------\n",
            "-------  Class: dog              AP:   0.2803  -------\n",
            "-------  Class: horse            AP:   0.4188  -------\n",
            "-------  Class: motorbike        AP:   0.3671  -------\n",
            "-------  Class: person           AP:   0.7222  -------\n",
            "-------  Class: pottedplant      AP:   0.1919  -------\n",
            "-------  Class: sheep            AP:   0.1619  -------\n",
            "-------  Class: sofa             AP:   0.2983  -------\n",
            "-------  Class: train            AP:   0.4967  -------\n",
            "-------  Class: tvmonitor        AP:   0.2883  -------\n",
            "mAP: 0.3418\n",
            "Avg loss: 0.1902458935598784\n",
            "Evaluating classifier\n",
            "Mean Precision Score for Testing on Epoch 25 is 0.34179150401370534\n",
            "Starting epoch number 26\n",
            "Loss for Training on Epoch 26 is 0.17343564331531525\n",
            "Starting epoch number 27\n",
            "Loss for Training on Epoch 27 is 0.17114432156085968\n",
            "Starting epoch number 28\n",
            "Loss for Training on Epoch 28 is 0.1712670624256134\n",
            "Starting epoch number 29\n",
            "Loss for Training on Epoch 29 is 0.16937674582004547\n",
            "Starting epoch number 30\n",
            "Loss for Training on Epoch 30 is 0.16844035685062408\n",
            "-------  Class: aeroplane        AP:   0.6111  -------\n",
            "-------  Class: bicycle          AP:   0.3839  -------\n",
            "-------  Class: bird             AP:   0.2578  -------\n",
            "-------  Class: boat             AP:   0.3006  -------\n",
            "-------  Class: bottle           AP:   0.1350  -------\n",
            "-------  Class: bus              AP:   0.2176  -------\n",
            "-------  Class: car              AP:   0.5936  -------\n",
            "-------  Class: cat              AP:   0.3912  -------\n",
            "-------  Class: chair            AP:   0.4645  -------\n",
            "-------  Class: cow              AP:   0.1720  -------\n",
            "-------  Class: diningtable      AP:   0.3646  -------\n",
            "-------  Class: dog              AP:   0.2887  -------\n",
            "-------  Class: horse            AP:   0.4600  -------\n",
            "-------  Class: motorbike        AP:   0.4184  -------\n",
            "-------  Class: person           AP:   0.7411  -------\n",
            "-------  Class: pottedplant      AP:   0.2087  -------\n",
            "-------  Class: sheep            AP:   0.1776  -------\n",
            "-------  Class: sofa             AP:   0.3012  -------\n",
            "-------  Class: train            AP:   0.4872  -------\n",
            "-------  Class: tvmonitor        AP:   0.2873  -------\n",
            "mAP: 0.3631\n",
            "Avg loss: 0.1871033629661874\n",
            "Evaluating classifier\n",
            "Mean Precision Score for Testing on Epoch 30 is 0.3631068301100285\n",
            "Starting epoch number 31\n",
            "Loss for Training on Epoch 31 is 0.16747626662254333\n",
            "Starting epoch number 32\n",
            "Loss for Training on Epoch 32 is 0.1654505878686905\n",
            "Starting epoch number 33\n",
            "Loss for Training on Epoch 33 is 0.16551510989665985\n",
            "Starting epoch number 34\n",
            "Loss for Training on Epoch 34 is 0.16313862800598145\n",
            "Starting epoch number 35\n",
            "Loss for Training on Epoch 35 is 0.1640269160270691\n",
            "-------  Class: aeroplane        AP:   0.6060  -------\n",
            "-------  Class: bicycle          AP:   0.3976  -------\n",
            "-------  Class: bird             AP:   0.2563  -------\n",
            "-------  Class: boat             AP:   0.3215  -------\n",
            "-------  Class: bottle           AP:   0.1548  -------\n",
            "-------  Class: bus              AP:   0.1796  -------\n",
            "-------  Class: car              AP:   0.5832  -------\n",
            "-------  Class: cat              AP:   0.3820  -------\n",
            "-------  Class: chair            AP:   0.4672  -------\n",
            "-------  Class: cow              AP:   0.1612  -------\n",
            "-------  Class: diningtable      AP:   0.3860  -------\n",
            "-------  Class: dog              AP:   0.2827  -------\n",
            "-------  Class: horse            AP:   0.5060  -------\n",
            "-------  Class: motorbike        AP:   0.4114  -------\n",
            "-------  Class: person           AP:   0.7418  -------\n",
            "-------  Class: pottedplant      AP:   0.1731  -------\n",
            "-------  Class: sheep            AP:   0.1668  -------\n",
            "-------  Class: sofa             AP:   0.3442  -------\n",
            "-------  Class: train            AP:   0.5256  -------\n",
            "-------  Class: tvmonitor        AP:   0.2873  -------\n",
            "mAP: 0.3667\n",
            "Avg loss: 0.19725562047354783\n",
            "Evaluating classifier\n",
            "Mean Precision Score for Testing on Epoch 35 is 0.366706164727659\n",
            "Starting epoch number 36\n",
            "Loss for Training on Epoch 36 is 0.16221293807029724\n",
            "Starting epoch number 37\n",
            "Loss for Training on Epoch 37 is 0.16085508465766907\n",
            "Starting epoch number 38\n",
            "Loss for Training on Epoch 38 is 0.16190269589424133\n",
            "Starting epoch number 39\n",
            "Loss for Training on Epoch 39 is 0.15891550481319427\n",
            "Starting epoch number 40\n",
            "Loss for Training on Epoch 40 is 0.1568966507911682\n",
            "-------  Class: aeroplane        AP:   0.6250  -------\n",
            "-------  Class: bicycle          AP:   0.3969  -------\n",
            "-------  Class: bird             AP:   0.2899  -------\n",
            "-------  Class: boat             AP:   0.3487  -------\n",
            "-------  Class: bottle           AP:   0.1432  -------\n",
            "-------  Class: bus              AP:   0.1822  -------\n",
            "-------  Class: car              AP:   0.6105  -------\n",
            "-------  Class: cat              AP:   0.3807  -------\n",
            "-------  Class: chair            AP:   0.4703  -------\n",
            "-------  Class: cow              AP:   0.1694  -------\n",
            "-------  Class: diningtable      AP:   0.3681  -------\n",
            "-------  Class: dog              AP:   0.2798  -------\n",
            "-------  Class: horse            AP:   0.5010  -------\n",
            "-------  Class: motorbike        AP:   0.4699  -------\n",
            "-------  Class: person           AP:   0.7445  -------\n",
            "-------  Class: pottedplant      AP:   0.1851  -------\n",
            "-------  Class: sheep            AP:   0.1779  -------\n",
            "-------  Class: sofa             AP:   0.3160  -------\n",
            "-------  Class: train            AP:   0.5251  -------\n",
            "-------  Class: tvmonitor        AP:   0.3010  -------\n",
            "mAP: 0.3743\n",
            "Avg loss: 0.19184219648566428\n",
            "Evaluating classifier\n",
            "Mean Precision Score for Testing on Epoch 40 is 0.37426095373069496\n",
            "Starting epoch number 41\n",
            "Loss for Training on Epoch 41 is 0.1569172590970993\n",
            "Starting epoch number 42\n",
            "Loss for Training on Epoch 42 is 0.15666715800762177\n",
            "Starting epoch number 43\n",
            "Loss for Training on Epoch 43 is 0.1547480970621109\n",
            "Starting epoch number 44\n",
            "Loss for Training on Epoch 44 is 0.1544933021068573\n",
            "Starting epoch number 45\n",
            "Loss for Training on Epoch 45 is 0.15392734110355377\n",
            "-------  Class: aeroplane        AP:   0.6218  -------\n",
            "-------  Class: bicycle          AP:   0.4211  -------\n",
            "-------  Class: bird             AP:   0.2884  -------\n",
            "-------  Class: boat             AP:   0.3572  -------\n",
            "-------  Class: bottle           AP:   0.1786  -------\n",
            "-------  Class: bus              AP:   0.2204  -------\n",
            "-------  Class: car              AP:   0.6088  -------\n",
            "-------  Class: cat              AP:   0.3752  -------\n",
            "-------  Class: chair            AP:   0.4766  -------\n",
            "-------  Class: cow              AP:   0.1688  -------\n",
            "-------  Class: diningtable      AP:   0.4035  -------\n",
            "-------  Class: dog              AP:   0.2821  -------\n",
            "-------  Class: horse            AP:   0.5289  -------\n",
            "-------  Class: motorbike        AP:   0.4754  -------\n",
            "-------  Class: person           AP:   0.7674  -------\n",
            "-------  Class: pottedplant      AP:   0.1981  -------\n",
            "-------  Class: sheep            AP:   0.1686  -------\n",
            "-------  Class: sofa             AP:   0.3478  -------\n",
            "-------  Class: train            AP:   0.5276  -------\n",
            "-------  Class: tvmonitor        AP:   0.3221  -------\n",
            "mAP: 0.3869\n",
            "Avg loss: 0.18858351718775834\n",
            "Evaluating classifier\n",
            "Mean Precision Score for Testing on Epoch 45 is 0.38690705224877064\n",
            "Starting epoch number 46\n",
            "Loss for Training on Epoch 46 is 0.15257830917835236\n",
            "Starting epoch number 47\n",
            "Loss for Training on Epoch 47 is 0.15049850940704346\n",
            "Starting epoch number 48\n",
            "Loss for Training on Epoch 48 is 0.15162807703018188\n",
            "Starting epoch number 49\n",
            "Loss for Training on Epoch 49 is 0.15106181800365448\n",
            "Starting epoch number 50\n",
            "Loss for Training on Epoch 50 is 0.1484673023223877\n",
            "-------  Class: aeroplane        AP:   0.6237  -------\n",
            "-------  Class: bicycle          AP:   0.3904  -------\n",
            "-------  Class: bird             AP:   0.3111  -------\n",
            "-------  Class: boat             AP:   0.3664  -------\n",
            "-------  Class: bottle           AP:   0.1616  -------\n",
            "-------  Class: bus              AP:   0.2012  -------\n",
            "-------  Class: car              AP:   0.6158  -------\n",
            "-------  Class: cat              AP:   0.3551  -------\n",
            "-------  Class: chair            AP:   0.4788  -------\n",
            "-------  Class: cow              AP:   0.1673  -------\n",
            "-------  Class: diningtable      AP:   0.3772  -------\n",
            "-------  Class: dog              AP:   0.2899  -------\n",
            "-------  Class: horse            AP:   0.5340  -------\n",
            "-------  Class: motorbike        AP:   0.4971  -------\n",
            "-------  Class: person           AP:   0.7652  -------\n",
            "-------  Class: pottedplant      AP:   0.2008  -------\n",
            "-------  Class: sheep            AP:   0.1695  -------\n",
            "-------  Class: sofa             AP:   0.3291  -------\n",
            "-------  Class: train            AP:   0.5738  -------\n",
            "-------  Class: tvmonitor        AP:   0.3173  -------\n",
            "mAP: 0.3862\n",
            "Avg loss: 0.18662529089782812\n",
            "Evaluating classifier\n",
            "Mean Precision Score for Testing on Epoch 50 is 0.38624477503840426\n"
          ],
          "name": "stdout"
        }
      ]
    },
    {
      "cell_type": "code",
      "metadata": {
        "id": "_o8AJb2PuVLr",
        "outputId": "f469dac0-4c09-4814-80a8-61ff5361a62a",
        "colab": {
          "base_uri": "https://localhost:8080/",
          "height": 573
        }
      },
      "source": [
        "plot_losses(train_losses, val_losses, test_frequency, num_epochs)\n",
        "plot_mAP(train_mAPs, val_mAPs, test_frequency, num_epochs)"
      ],
      "execution_count": null,
      "outputs": [
        {
          "output_type": "display_data",
          "data": {
            "image/png": "[encoded data removed]",
            "text/plain": [
              "<Figure size 432x288 with 1 Axes>"
            ]
          },
          "metadata": {
            "tags": [],
            "needs_background": "light"
          }
        },
        {
          "output_type": "display_data",
          "data": {
            "image/png": "[encoded data removed]",
            "text/plain": [
              "<Figure size 432x288 with 1 Axes>"
            ]
          },
          "metadata": {
            "tags": [],
            "needs_background": "light"
          }
        }
      ]
    },
    {
      "cell_type": "code",
      "metadata": {
        "id": "QKmECZRKuVLt",
        "outputId": "ac0dc4e1-f05f-4a2f-98d8-60fd7da60e42",
        "colab": {
          "base_uri": "https://localhost:8080/",
          "height": 403
        }
      },
      "source": [
        "mAP_test, test_loss, test_aps = test_classifier(test_loader, classifier, criterion)\n",
        "print(mAP_test)"
      ],
      "execution_count": null,
      "outputs": [
        {
          "output_type": "stream",
          "text": [
            "-------  Class: aeroplane        AP:   0.6321  -------\n",
            "-------  Class: bicycle          AP:   0.3461  -------\n",
            "-------  Class: bird             AP:   0.3179  -------\n",
            "-------  Class: boat             AP:   0.3519  -------\n",
            "-------  Class: bottle           AP:   0.1648  -------\n",
            "-------  Class: bus              AP:   0.2599  -------\n",
            "-------  Class: car              AP:   0.6291  -------\n",
            "-------  Class: cat              AP:   0.3349  -------\n",
            "-------  Class: chair            AP:   0.4301  -------\n",
            "-------  Class: cow              AP:   0.1627  -------\n",
            "-------  Class: diningtable      AP:   0.3587  -------\n",
            "-------  Class: dog              AP:   0.2823  -------\n",
            "-------  Class: horse            AP:   0.6468  -------\n",
            "-------  Class: motorbike        AP:   0.4817  -------\n",
            "-------  Class: person           AP:   0.7718  -------\n",
            "-------  Class: pottedplant      AP:   0.2120  -------\n",
            "-------  Class: sheep            AP:   0.2350  -------\n",
            "-------  Class: sofa             AP:   0.3413  -------\n",
            "-------  Class: train            AP:   0.5670  -------\n",
            "-------  Class: tvmonitor        AP:   0.3152  -------\n",
            "mAP: 0.3921\n",
            "Avg loss: 0.1822268593695856\n",
            "0.39206771388840983\n"
          ],
          "name": "stdout"
        }
      ]
    },
    {
      "cell_type": "code",
      "metadata": {
        "id": "r0jBV5IPuVLw"
      },
      "source": [
        "torch.save(classifier.state_dict(), './voc_my_best_classifier.pth')\n",
        "output_submission_csv('my_solution.csv', test_aps)"
      ],
      "execution_count": null,
      "outputs": []
    },
    {
      "cell_type": "code",
      "metadata": {
        "id": "4mhqtWJvuVLy"
      },
      "source": [
        ""
      ],
      "execution_count": null,
      "outputs": []
    }
  ]
}