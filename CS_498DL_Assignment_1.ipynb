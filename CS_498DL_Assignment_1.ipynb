{
  "nbformat": 4,
  "nbformat_minor": 0,
  "metadata": {
    "kernelspec": {
      "display_name": "Python 3",
      "language": "python",
      "name": "python3"
    },
    "language_info": {
      "codemirror_mode": {
        "name": "ipython",
        "version": 3
      },
      "file_extension": ".py",
      "mimetype": "text/x-python",
      "name": "python",
      "nbconvert_exporter": "python",
      "pygments_lexer": "ipython3",
      "version": "3.7.6"
    },
    "colab": {
      "name": "CS 498DL Assignment-1.ipynb",
      "provenance": [],
      "toc_visible": true,
      "include_colab_link": true
    },
    "accelerator": "GPU"
  },
  "cells": [
    {
      "cell_type": "markdown",
      "metadata": {
        "id": "view-in-github",
        "colab_type": "text"
      },
      "source": [
        "<a href=\"https://colab.research.google.com/github/AlchemicRonin/CS-498-Introduction-to-Deep-Learning/blob/TY/CS_498DL_Assignment_1.ipynb\" target=\"_parent\"><img src=\"https://colab.research.google.com/assets/colab-badge.svg\" alt=\"Open In Colab\"/></a>"
      ]
    },
    {
      "cell_type": "code",
      "metadata": {
        "id": "3VYG6T4o2ajA",
        "colab_type": "code",
        "colab": {
          "base_uri": "https://localhost:8080/",
          "height": 35
        },
        "outputId": "d74bf751-67ce-425b-ba10-f2256c17e6b8"
      },
      "source": [
        "from google.colab import drive\n",
        "drive.mount('/content/drive/',force_remount= True)\n",
        "\n",
        "import os\n",
        "os.chdir(\"/content/drive/My Drive/MP1\")"
      ],
      "execution_count": 1,
      "outputs": [
        {
          "output_type": "stream",
          "text": [
            "Mounted at /content/drive/\n"
          ],
          "name": "stdout"
        }
      ]
    },
    {
      "cell_type": "code",
      "metadata": {
        "id": "2BuPvygF87nI",
        "colab_type": "code",
        "colab": {
          "base_uri": "https://localhost:8080/",
          "height": 71
        },
        "outputId": "2b5dab2d-a5bd-4295-e1c0-d2c0421f5722"
      },
      "source": [
        "!ls\n"
      ],
      "execution_count": 2,
      "outputs": [
        {
          "output_type": "stream",
          "text": [
            " cifar10\t\t        kaggle\t\t       mushroom\n",
            "'CS 498DL Assignment-1.ipynb'   kaggle_submission.py   __pycache__\n",
            " data_process.py\t        models\n"
          ],
          "name": "stdout"
        }
      ]
    },
    {
      "cell_type": "code",
      "metadata": {
        "id": "X1LpvlHBk0wh",
        "colab_type": "code",
        "colab": {}
      },
      "source": [
        "import random\n",
        "import numpy as np\n",
        "from data_process import get_CIFAR10_data, get_MUSHROOM_data\n",
        "from scipy.spatial import distance\n",
        "from models import Perceptron, SVM, Softmax, Logistic\n",
        "from kaggle_submission import output_submission_csv\n",
        "%matplotlib inline"
      ],
      "execution_count": 3,
      "outputs": []
    },
    {
      "cell_type": "markdown",
      "metadata": {
        "id": "1TUEAWwL8AUP",
        "colab_type": "text"
      },
      "source": [
        ""
      ]
    },
    {
      "cell_type": "markdown",
      "metadata": {
        "id": "Om7arQYJk0wn",
        "colab_type": "text"
      },
      "source": [
        "# Loading CIFAR-10"
      ]
    },
    {
      "cell_type": "markdown",
      "metadata": {
        "id": "Ri7RgFKzk0wo",
        "colab_type": "text"
      },
      "source": [
        "In the following cells we determine the number of images for each split and load the images.\n",
        "<br /> \n",
        "TRAIN_IMAGES + VAL_IMAGES = (0, 50000]\n",
        ", TEST_IMAGES = 10000"
      ]
    },
    {
      "cell_type": "code",
      "metadata": {
        "id": "Td-raRlwk0wp",
        "colab_type": "code",
        "colab": {}
      },
      "source": [
        "# You can change these numbers for experimentation\n",
        "# For submission we will use the default values \n",
        "TRAIN_IMAGES = 40000\n",
        "VAL_IMAGES = 10000"
      ],
      "execution_count": 4,
      "outputs": []
    },
    {
      "cell_type": "code",
      "metadata": {
        "id": "PZCGb3iTk0wt",
        "colab_type": "code",
        "colab": {}
      },
      "source": [
        "data = get_CIFAR10_data(TRAIN_IMAGES, VAL_IMAGES)\n",
        "X_train_CIFAR, y_train_CIFAR = data['X_train'], data['y_train']\n",
        "X_val_CIFAR, y_val_CIFAR = data['X_val'], data['y_val']\n",
        "X_test_CIFAR, y_test_CIFAR = data['X_test'], data['y_test']\n",
        "n_class_CIFAR = len(np.unique(y_test_CIFAR))"
      ],
      "execution_count": 5,
      "outputs": []
    },
    {
      "cell_type": "markdown",
      "metadata": {
        "id": "uv3hwLy3k0wx",
        "colab_type": "text"
      },
      "source": [
        "Convert the sets of images from dimensions of **(N, 3, 32, 32) -> (N, 3072)** where N is the number of images so that each **3x32x32** image is represented by a single vector."
      ]
    },
    {
      "cell_type": "code",
      "metadata": {
        "id": "Dt01t7-4k0wy",
        "colab_type": "code",
        "colab": {}
      },
      "source": [
        "X_train_CIFAR = np.reshape(X_train_CIFAR, (X_train_CIFAR.shape[0], -1))\n",
        "X_val_CIFAR = np.reshape(X_val_CIFAR, (X_val_CIFAR.shape[0], -1))\n",
        "X_test_CIFAR = np.reshape(X_test_CIFAR, (X_test_CIFAR.shape[0], -1))"
      ],
      "execution_count": 6,
      "outputs": []
    },
    {
      "cell_type": "code",
      "metadata": {
        "id": "dj_EShNIsSNH",
        "colab_type": "code",
        "colab": {}
      },
      "source": [
        "#new_column_train = np.ones((X_train_CIFAR.shape[0],1))\n",
        "#X_train_CIFAR = np.append(X_train_CIFAR, new_column_train, axis=1)\n",
        "#new_column_val = np.ones((X_val_CIFAR.shape[0],1))\n",
        "#X_val_CIFAR = np.append(X_val_CIFAR, new_column_val, axis=1)\n",
        "#new_column_test = np.ones((X_test_CIFAR.shape[0],1))\n",
        "#X_test_CIFAR = np.append(X_test_CIFAR, new_column_test, axis=1)"
      ],
      "execution_count": null,
      "outputs": []
    },
    {
      "cell_type": "markdown",
      "metadata": {
        "id": "kyJLPj8pk0w1",
        "colab_type": "text"
      },
      "source": [
        "# Loading Mushroom"
      ]
    },
    {
      "cell_type": "markdown",
      "metadata": {
        "id": "ZgbRaUgIk0w1",
        "colab_type": "text"
      },
      "source": [
        "In the following cells we determine the splitting of the mushroom dataset.\n",
        "<br /> TRAINING + VALIDATION = 0.8, TESTING = 0.2"
      ]
    },
    {
      "cell_type": "code",
      "metadata": {
        "id": "CTzdFnHtk0w2",
        "colab_type": "code",
        "colab": {}
      },
      "source": [
        "# TRAINING = 0.6 indicates 60% of the data is used as the training dataset.\n",
        "VALIDATION = 0.2"
      ],
      "execution_count": 7,
      "outputs": []
    },
    {
      "cell_type": "code",
      "metadata": {
        "id": "3q6_TkUXk0w4",
        "colab_type": "code",
        "colab": {
          "base_uri": "https://localhost:8080/",
          "height": 89
        },
        "outputId": "a1816c24-69d2-4e41-838d-2bb68e253fa3"
      },
      "source": [
        "data = get_MUSHROOM_data(VALIDATION)\n",
        "X_train_MR, y_train_MR = data['X_train'], data['y_train']\n",
        "X_val_MR, y_val_MR = data['X_val'], data['y_val']\n",
        "X_test_MR, y_test_MR = data['X_test'], data['y_test']\n",
        "n_class_MR = len(np.unique(y_test_MR))\n",
        "\n",
        "print(\"Number of train samples: \", X_train_MR.shape[0])\n",
        "print(\"Number of val samples: \", X_val_MR.shape[0])\n",
        "print(\"Number of test samples: \", X_test_MR.shape[0])\n",
        "print(\"Number of test samples: \", X_test_MR.shape[1])"
      ],
      "execution_count": 8,
      "outputs": [
        {
          "output_type": "stream",
          "text": [
            "Number of train samples:  4874\n",
            "Number of val samples:  1625\n",
            "Number of test samples:  1625\n",
            "Number of test samples:  22\n"
          ],
          "name": "stdout"
        }
      ]
    },
    {
      "cell_type": "code",
      "metadata": {
        "id": "3BidisMttiaT",
        "colab_type": "code",
        "colab": {}
      },
      "source": [
        "#new_column_MRtrain = np.ones((X_train_MR.shape[0],1))\n",
        "#X_train_MR = np.append(X_train_MR, new_column_MRtrain, axis=1)\n",
        "#new_column_MRval = np.ones((X_val_MR.shape[0],1))\n",
        "#X_val_MR = np.append(X_val_MR, new_column_MRval, axis=1)\n",
        "#new_column_MRtest = np.ones((X_test_MR.shape[0],1))\n",
        "#X_test_MR = np.append(X_test_MR, new_column_MRtest, axis=1)"
      ],
      "execution_count": null,
      "outputs": []
    },
    {
      "cell_type": "markdown",
      "metadata": {
        "id": "0Tscw5YUk0w8",
        "colab_type": "text"
      },
      "source": [
        "### Get Accuracy"
      ]
    },
    {
      "cell_type": "markdown",
      "metadata": {
        "id": "OnDnccbFk0w9",
        "colab_type": "text"
      },
      "source": [
        "This function computes how well your model performs using accuracy as a metric."
      ]
    },
    {
      "cell_type": "code",
      "metadata": {
        "id": "4x2CPsnJk0w9",
        "colab_type": "code",
        "colab": {}
      },
      "source": [
        "def get_acc(pred, y_test):\n",
        "    return np.sum(y_test==pred)/len(y_test)*100"
      ],
      "execution_count": 9,
      "outputs": []
    },
    {
      "cell_type": "markdown",
      "metadata": {
        "id": "o2HEtgfik0xA",
        "colab_type": "text"
      },
      "source": [
        "# Perceptron"
      ]
    },
    {
      "cell_type": "markdown",
      "metadata": {
        "id": "jyTEm25lk0xB",
        "colab_type": "text"
      },
      "source": [
        "Perceptron has 2 hyperparameters that you can experiment with:\n",
        "- **Learning rate** - controls how much we change the current weights of the classifier during each update. We set it at a default value of 0.5, but you should experiment with different values. We recommend changing the learning rate by factors of 10 and observing how the performance of the classifier changes. You should also try adding a **decay** which slowly reduces the learning rate over each epoch.\n",
        "- **Number of Epochs** - An epoch is a complete iterative pass over all of the data in the dataset. During an epoch we predict a label using the classifier and then update the weights of the classifier according the perceptron update rule for each sample in the training set. You should try different values for the number of training epochs and report your results."
      ]
    },
    {
      "cell_type": "markdown",
      "metadata": {
        "id": "1Sk-jAgBk0xB",
        "colab_type": "text"
      },
      "source": [
        "You will implement the Perceptron classifier in the **models/Perceptron.py**\n",
        "\n",
        "The following code: \n",
        "- Creates an instance of the Perceptron classifier class \n",
        "- The train function of the Perceptron class is trained on the training data\n",
        "- We use the predict function to find the training accuracy as well as the testing accuracy\n"
      ]
    },
    {
      "cell_type": "markdown",
      "metadata": {
        "id": "GyN8Xibjk0xC",
        "colab_type": "text"
      },
      "source": [
        "## Train Perceptron on CIFAR"
      ]
    },
    {
      "cell_type": "code",
      "metadata": {
        "id": "JjDZjt-Xk0xC",
        "colab_type": "code",
        "colab": {
          "base_uri": "https://localhost:8080/",
          "height": 251
        },
        "outputId": "39b3ed93-00fe-4521-ff0c-2a3b9f4750e3"
      },
      "source": [
        "lr = 0.5\n",
        "n_epochs = 50\n",
        "w = X_train_CIFAR.shape[1]\n",
        "percept_CIFAR = Perceptron(n_class_CIFAR, lr, n_epochs,w)\n",
        "percept_CIFAR.train(X_train_CIFAR, y_train_CIFAR)"
      ],
      "execution_count": 10,
      "outputs": [
        {
          "output_type": "execute_result",
          "data": {
            "text/plain": [
              "array([[ -1132.02863919,  -3324.40543621,  -9528.07365266, ...,\n",
              "         -2617.96835182,   2131.90512052, -12554.10800125],\n",
              "       [ 13298.93687752,   2545.01272251,  -2581.36007736, ...,\n",
              "         -1052.92796674,  -3318.47674071,   4912.97749351],\n",
              "       [  3843.61192005,   9974.173474  ,   8560.6344252 , ...,\n",
              "         10502.91820914, -16347.06012302,  -5503.26189868],\n",
              "       ...,\n",
              "       [   690.03136348,  -5409.14807365,  -4871.42268047, ...,\n",
              "         -5354.45833096, -14827.66914962,  -4118.62932974],\n",
              "       [ -1433.30781195,    448.78156497,  -2186.35946922, ...,\n",
              "          4931.9590528 ,  15062.46680378,  12902.36909274],\n",
              "       [ -7530.08295768,  -2202.44769569,   4812.39088254, ...,\n",
              "         -5105.67055388,  14411.63961853,  14672.4837263 ]])"
            ]
          },
          "metadata": {
            "tags": []
          },
          "execution_count": 10
        }
      ]
    },
    {
      "cell_type": "code",
      "metadata": {
        "id": "9g2inlgnk0xF",
        "colab_type": "code",
        "colab": {
          "base_uri": "https://localhost:8080/",
          "height": 35
        },
        "outputId": "87d54f00-8370-4370-a619-205d025c9177"
      },
      "source": [
        "pred_percept = percept_CIFAR.predict(X_train_CIFAR)\n",
        "print('The training accuracy is given by: %f' % (get_acc(pred_percept, y_train_CIFAR)))"
      ],
      "execution_count": 11,
      "outputs": [
        {
          "output_type": "stream",
          "text": [
            "The training accuracy is given by: 32.260000\n"
          ],
          "name": "stdout"
        }
      ]
    },
    {
      "cell_type": "markdown",
      "metadata": {
        "id": "Ss2_b58ek0xH",
        "colab_type": "text"
      },
      "source": [
        "### Validate Perceptron on CIFAR"
      ]
    },
    {
      "cell_type": "code",
      "metadata": {
        "id": "zPYgGiG6k0xI",
        "colab_type": "code",
        "colab": {
          "base_uri": "https://localhost:8080/",
          "height": 35
        },
        "outputId": "3243dd64-4f00-474a-ae98-acbcaea802df"
      },
      "source": [
        "pred_percept = percept_CIFAR.predict(X_val_CIFAR)\n",
        "print('The validation accuracy is given by: %f' % (get_acc(pred_percept, y_val_CIFAR)))"
      ],
      "execution_count": 12,
      "outputs": [
        {
          "output_type": "stream",
          "text": [
            "The validation accuracy is given by: 27.040000\n"
          ],
          "name": "stdout"
        }
      ]
    },
    {
      "cell_type": "markdown",
      "metadata": {
        "id": "KuTZNOIJk0xL",
        "colab_type": "text"
      },
      "source": [
        "### Test Perceptron on CIFAR"
      ]
    },
    {
      "cell_type": "code",
      "metadata": {
        "id": "glUhnw_Lk0xL",
        "colab_type": "code",
        "colab": {
          "base_uri": "https://localhost:8080/",
          "height": 35
        },
        "outputId": "f705cb50-59fe-4eaf-d9d5-ca728c2a591f"
      },
      "source": [
        "pred_percept = percept_CIFAR.predict(X_test_CIFAR)\n",
        "print('The testing accuracy is given by: %f' % (get_acc(pred_percept, y_test_CIFAR)))"
      ],
      "execution_count": 13,
      "outputs": [
        {
          "output_type": "stream",
          "text": [
            "The testing accuracy is given by: 27.700000\n"
          ],
          "name": "stdout"
        }
      ]
    },
    {
      "cell_type": "markdown",
      "metadata": {
        "id": "eF_G3nx0k0xO",
        "colab_type": "text"
      },
      "source": [
        "### Perceptron_CIFAR Kaggle Submission\n",
        "\n",
        "Once you are satisfied with your solution and test accuracy, output a file to submit your test set predictions to the Kaggle for Assignment 1 CIFAR. Use the following code to do so:"
      ]
    },
    {
      "cell_type": "code",
      "metadata": {
        "id": "U6egUM2Kk0xO",
        "colab_type": "code",
        "colab": {}
      },
      "source": [
        "output_submission_csv('kaggle/perceptron_submission_CIFAR.csv', percept_CIFAR.predict(X_test_CIFAR))"
      ],
      "execution_count": 14,
      "outputs": []
    },
    {
      "cell_type": "markdown",
      "metadata": {
        "id": "Cx4MDNydk0xR",
        "colab_type": "text"
      },
      "source": [
        "## Train Perceptron on Mushroom"
      ]
    },
    {
      "cell_type": "code",
      "metadata": {
        "id": "b_EPcFw8k0xS",
        "colab_type": "code",
        "colab": {
          "base_uri": "https://localhost:8080/",
          "height": 305
        },
        "outputId": "461e983b-a8c4-41de-9fb6-72e45a4852a1"
      },
      "source": [
        "lr = 0.5\n",
        "n_epochs = 50\n",
        "w = X_train_MR.shape[1]\n",
        "percept_MR = Perceptron(n_class_MR, lr, n_epochs,w)\n",
        "percept_MR.train(X_train_MR, y_train_MR)"
      ],
      "execution_count": 15,
      "outputs": [
        {
          "output_type": "execute_result",
          "data": {
            "text/plain": [
              "array([[ 1.33160243e+00, -1.55693696e+01,  5.57637448e+00,\n",
              "        -6.37730770e+00,  1.59325120e+01,  2.55040353e+00,\n",
              "         2.24092833e+02, -2.85890940e+02,  8.35780978e+00,\n",
              "         5.57910024e+00,  7.56855120e+01,  1.87192952e+02,\n",
              "         1.31170555e+01,  6.91063130e+00,  9.31074079e+00,\n",
              "         5.89888324e-01, -2.24584670e+02, -1.87993781e+01,\n",
              "        -2.74471784e+01,  1.83645847e+01,  1.75223383e+01,\n",
              "        -3.30839987e+00],\n",
              "       [ 1.91333845e-01,  1.67895573e+01, -4.66474783e+00,\n",
              "         7.19706181e+00, -1.45234694e+01, -1.81216822e+00,\n",
              "        -2.23001057e+02,  2.86328512e+02, -6.52545562e+00,\n",
              "        -5.48431189e+00, -7.47815950e+01, -1.86187415e+02,\n",
              "        -1.26120530e+01, -5.73550682e+00, -7.89003223e+00,\n",
              "         3.07554815e-02,  2.26491455e+02,  1.97939809e+01,\n",
              "         2.89187412e+01, -1.75083316e+01, -1.68406970e+01,\n",
              "         3.86476882e+00]])"
            ]
          },
          "metadata": {
            "tags": []
          },
          "execution_count": 15
        }
      ]
    },
    {
      "cell_type": "code",
      "metadata": {
        "id": "s15cqkubk0xU",
        "colab_type": "code",
        "colab": {
          "base_uri": "https://localhost:8080/",
          "height": 35
        },
        "outputId": "845a7c42-31fe-4145-c052-d229e709eb9a"
      },
      "source": [
        "pred_percept = percept_MR.predict(X_train_MR)\n",
        "print('The training accuracy is given by: %f' % (get_acc(pred_percept, y_train_MR)))"
      ],
      "execution_count": 16,
      "outputs": [
        {
          "output_type": "stream",
          "text": [
            "The training accuracy is given by: 82.827247\n"
          ],
          "name": "stdout"
        }
      ]
    },
    {
      "cell_type": "markdown",
      "metadata": {
        "id": "o2V12eQYk0xX",
        "colab_type": "text"
      },
      "source": [
        "### Validate Perceptron on Mushroom"
      ]
    },
    {
      "cell_type": "code",
      "metadata": {
        "id": "i_SqLPFjk0xX",
        "colab_type": "code",
        "colab": {
          "base_uri": "https://localhost:8080/",
          "height": 35
        },
        "outputId": "b7e84158-1c61-434b-ab61-828b2701ed41"
      },
      "source": [
        "pred_percept = percept_MR.predict(X_val_MR)\n",
        "print('The validation accuracy is given by: %f' % (get_acc(pred_percept, y_val_MR)))"
      ],
      "execution_count": 17,
      "outputs": [
        {
          "output_type": "stream",
          "text": [
            "The validation accuracy is given by: 80.615385\n"
          ],
          "name": "stdout"
        }
      ]
    },
    {
      "cell_type": "markdown",
      "metadata": {
        "id": "YsIMayibk0xa",
        "colab_type": "text"
      },
      "source": [
        "### Test Perceptron on Mushroom"
      ]
    },
    {
      "cell_type": "code",
      "metadata": {
        "id": "dVjfC0zDk0xa",
        "colab_type": "code",
        "colab": {
          "base_uri": "https://localhost:8080/",
          "height": 35
        },
        "outputId": "afe8f6f4-e4ff-4097-9778-da804dc3a6ed"
      },
      "source": [
        "pred_percept = percept_MR.predict(X_test_MR)\n",
        "print('The testing accuracy is given by: %f' % (get_acc(pred_percept, y_test_MR)))"
      ],
      "execution_count": 18,
      "outputs": [
        {
          "output_type": "stream",
          "text": [
            "The testing accuracy is given by: 83.261538\n"
          ],
          "name": "stdout"
        }
      ]
    },
    {
      "cell_type": "markdown",
      "metadata": {
        "id": "qJytXFZqk0xd",
        "colab_type": "text"
      },
      "source": [
        "# Support Vector Machines (with SGD)"
      ]
    },
    {
      "cell_type": "markdown",
      "metadata": {
        "id": "9XjPmRIak0xd",
        "colab_type": "text"
      },
      "source": [
        "Next, you will implement a \"soft margin\" SVM. In this formulation you will maximize the margin between positive and negative training examples and penalize margin violations using a hinge loss.\n",
        "\n",
        "We will optimize the SVM loss using SGD. This means you must compute the loss function with respect to model weights. You will use this gradient to update the model weights.\n",
        "\n",
        "SVM optimized with SGD has 3 hyperparameters that you can experiment with :\n",
        "- **Learning rate** - similar to as defined above in Perceptron, this parameter scales by how much the weights are changed according to the calculated gradient update. \n",
        "- **Epochs** - similar to as defined above in Perceptron.\n",
        "- **Regularization constant** - Hyperparameter to determine the strength of regularization. In this case it is a coefficient on the term which maximizes the margin. You could try different values. The default value is set to 0.05."
      ]
    },
    {
      "cell_type": "markdown",
      "metadata": {
        "id": "GcTmRF4_k0xd",
        "colab_type": "text"
      },
      "source": [
        "You will implement the SVM using SGD in the **models/SVM.py**\n",
        "\n",
        "The following code: \n",
        "- Creates an instance of the SVM classifier class \n",
        "- The train function of the SVM class is trained on the training data\n",
        "- We use the predict function to find the training accuracy as well as the testing accuracy"
      ]
    },
    {
      "cell_type": "markdown",
      "metadata": {
        "id": "VnQBx_g5k0xe",
        "colab_type": "text"
      },
      "source": [
        "## Train SVM on CIFAR"
      ]
    },
    {
      "cell_type": "code",
      "metadata": {
        "id": "rp-3GBbnk0xe",
        "colab_type": "code",
        "colab": {
          "base_uri": "https://localhost:8080/",
          "height": 251
        },
        "outputId": "b7cbf161-ddbe-4c7e-a517-e2d51cca063d"
      },
      "source": [
        "lr = 0.5\n",
        "n_epochs = 50\n",
        "reg_const = 0.05\n",
        "w = X_train_CIFAR.shape[1]\n",
        "svm_CIFAR = SVM(n_class_CIFAR, lr, n_epochs, reg_const,w)\n",
        "svm_CIFAR.train(X_train_CIFAR, y_train_CIFAR)"
      ],
      "execution_count": 19,
      "outputs": [
        {
          "output_type": "execute_result",
          "data": {
            "text/plain": [
              "array([[ 87407.79109602,  86253.3759652 ,  84722.18712849, ...,\n",
              "        216312.62037325, 211156.60340256, 206370.27957553],\n",
              "       [ 94221.69338631,  85139.40721138,  86393.76821741, ...,\n",
              "        216425.48973842, 207217.08170098, 213988.11164219],\n",
              "       [ 86243.25375948,  96295.13390004,  95286.19964173, ...,\n",
              "        217396.53493041, 201866.57868733, 208373.8819199 ],\n",
              "       ...,\n",
              "       [ 86875.06634752,  88568.71031054,  89404.19699066, ...,\n",
              "        211029.5045205 , 200968.57229806, 209932.22096011],\n",
              "       [ 88940.24959312,  88786.31134749,  88222.82768289, ...,\n",
              "        215509.71632937, 212644.79951269, 215277.30524461],\n",
              "       [ 84886.61037575,  85929.74026702,  90190.01236319, ...,\n",
              "        211694.28145684, 214231.22555313, 215518.11717306]])"
            ]
          },
          "metadata": {
            "tags": []
          },
          "execution_count": 19
        }
      ]
    },
    {
      "cell_type": "code",
      "metadata": {
        "id": "yBauIYMwk0xg",
        "colab_type": "code",
        "colab": {
          "base_uri": "https://localhost:8080/",
          "height": 35
        },
        "outputId": "a109a9c9-6b01-49cd-9e16-daaeb870579e"
      },
      "source": [
        "pred_svm = svm_CIFAR.predict(X_train_CIFAR)\n",
        "print('The training accuracy is given by: %f' % (get_acc(pred_svm, y_train_CIFAR)))"
      ],
      "execution_count": 20,
      "outputs": [
        {
          "output_type": "stream",
          "text": [
            "The training accuracy is given by: 33.877500\n"
          ],
          "name": "stdout"
        }
      ]
    },
    {
      "cell_type": "markdown",
      "metadata": {
        "id": "GtepO5REk0xj",
        "colab_type": "text"
      },
      "source": [
        "### Validate SVM on CIFAR"
      ]
    },
    {
      "cell_type": "code",
      "metadata": {
        "id": "ftqbAy0vk0xj",
        "colab_type": "code",
        "colab": {
          "base_uri": "https://localhost:8080/",
          "height": 35
        },
        "outputId": "db515745-7fd9-472c-c76a-01347424df9c"
      },
      "source": [
        "pred_svm = svm_CIFAR.predict(X_val_CIFAR)\n",
        "print('The validation accuracy is given by: %f' % (get_acc(pred_svm, y_val_CIFAR)))"
      ],
      "execution_count": 21,
      "outputs": [
        {
          "output_type": "stream",
          "text": [
            "The validation accuracy is given by: 28.640000\n"
          ],
          "name": "stdout"
        }
      ]
    },
    {
      "cell_type": "markdown",
      "metadata": {
        "id": "nEjg2Wghk0xl",
        "colab_type": "text"
      },
      "source": [
        "### Test SVM on CIFAR"
      ]
    },
    {
      "cell_type": "code",
      "metadata": {
        "id": "CGQkPCxgk0xm",
        "colab_type": "code",
        "colab": {
          "base_uri": "https://localhost:8080/",
          "height": 35
        },
        "outputId": "aa85302f-7b82-44f2-9cd8-99abcc6fe990"
      },
      "source": [
        "pred_svm = svm_CIFAR.predict(X_test_CIFAR)\n",
        "print('The testing accuracy is given by: %f' % (get_acc(pred_svm, y_test_CIFAR)))"
      ],
      "execution_count": 22,
      "outputs": [
        {
          "output_type": "stream",
          "text": [
            "The testing accuracy is given by: 28.910000\n"
          ],
          "name": "stdout"
        }
      ]
    },
    {
      "cell_type": "markdown",
      "metadata": {
        "id": "fUGTnMxpk0xo",
        "colab_type": "text"
      },
      "source": [
        "### SVM_CIFAR Kaggle Submission\n",
        "\n",
        "Once you are satisfied with your solution and test accuracy output a file to submit your test set predictions to the Kaggle for Assignment 1 CIFAR. Use the following code to do so:"
      ]
    },
    {
      "cell_type": "code",
      "metadata": {
        "id": "umWz7D7lk0xp",
        "colab_type": "code",
        "colab": {}
      },
      "source": [
        "output_submission_csv('kaggle/svm_submission_CIFAR.csv', svm_CIFAR.predict(X_test_CIFAR))"
      ],
      "execution_count": 23,
      "outputs": []
    },
    {
      "cell_type": "markdown",
      "metadata": {
        "id": "k-Sd3PVVk0xs",
        "colab_type": "text"
      },
      "source": [
        "## Train SVM on Mushroom"
      ]
    },
    {
      "cell_type": "code",
      "metadata": {
        "id": "WQX0bDK8k0xs",
        "colab_type": "code",
        "colab": {
          "base_uri": "https://localhost:8080/",
          "height": 233
        },
        "outputId": "a9840997-6eb3-4444-d159-4fe06a0f9b49"
      },
      "source": [
        "lr = 0.5\n",
        "n_epochs = 50\n",
        "reg_const = 0.05\n",
        "w = X_train_MR.shape[1]\n",
        "svm_MR = SVM(n_class_MR, lr, n_epochs, reg_const,w)\n",
        "svm_MR.train(X_train_MR, y_train_MR)"
      ],
      "execution_count": 24,
      "outputs": [
        {
          "output_type": "execute_result",
          "data": {
            "text/plain": [
              "array([[1.14151527e+04, 6.62623825e+03, 1.81308662e+04, 2.16340280e+03,\n",
              "        1.34093464e+04, 3.50498593e+03, 6.19755327e+02, 1.32074156e+03,\n",
              "        2.15237231e+04, 1.24335738e+03, 5.00733730e+03, 6.47680946e+03,\n",
              "        6.01408180e+03, 2.22867753e+04, 2.21853337e+04, 2.72646817e-01,\n",
              "        7.01238224e+03, 3.89163948e+03, 1.12905467e+04, 1.10047359e+04,\n",
              "        1.28460885e+04, 6.71493781e+03],\n",
              "       [1.14133020e+04, 6.64279063e+03, 1.81319900e+04, 2.14523886e+03,\n",
              "        1.33947710e+04, 3.51474859e+03, 4.60376350e+02, 1.52897600e+03,\n",
              "        2.15133029e+04, 1.24785171e+03, 4.95978610e+03, 6.35209124e+03,\n",
              "        6.00505496e+03, 2.22818986e+04, 2.21782441e+04, 2.31888289e-01,\n",
              "        7.16144390e+03, 3.91202880e+03, 1.13105675e+04, 1.09911883e+04,\n",
              "        1.28362366e+04, 6.71732956e+03]])"
            ]
          },
          "metadata": {
            "tags": []
          },
          "execution_count": 24
        }
      ]
    },
    {
      "cell_type": "code",
      "metadata": {
        "id": "c9Qmn5tgk0xu",
        "colab_type": "code",
        "colab": {
          "base_uri": "https://localhost:8080/",
          "height": 35
        },
        "outputId": "4118f18a-f94d-4e5d-95ac-bb39ff7f5aea"
      },
      "source": [
        "pred_svm = svm_MR.predict(X_train_MR)\n",
        "print('The training accuracy is given by: %f' % (get_acc(pred_svm, y_train_MR)))"
      ],
      "execution_count": 25,
      "outputs": [
        {
          "output_type": "stream",
          "text": [
            "The training accuracy is given by: 86.499795\n"
          ],
          "name": "stdout"
        }
      ]
    },
    {
      "cell_type": "markdown",
      "metadata": {
        "id": "SVj-PnPAk0xx",
        "colab_type": "text"
      },
      "source": [
        "### Validate SVM on Mushroom"
      ]
    },
    {
      "cell_type": "code",
      "metadata": {
        "id": "iCkFtwB7k0xx",
        "colab_type": "code",
        "colab": {
          "base_uri": "https://localhost:8080/",
          "height": 35
        },
        "outputId": "5044ef1d-803e-46f0-8901-125833482fd3"
      },
      "source": [
        "pred_svm = svm_MR.predict(X_val_MR)\n",
        "print('The validation accuracy is given by: %f' % (get_acc(pred_svm, y_val_MR)))"
      ],
      "execution_count": 26,
      "outputs": [
        {
          "output_type": "stream",
          "text": [
            "The validation accuracy is given by: 84.430769\n"
          ],
          "name": "stdout"
        }
      ]
    },
    {
      "cell_type": "markdown",
      "metadata": {
        "id": "V7GT0DHKk0xz",
        "colab_type": "text"
      },
      "source": [
        "## Test SVM on Mushroom"
      ]
    },
    {
      "cell_type": "code",
      "metadata": {
        "id": "3edB6l8lk0x0",
        "colab_type": "code",
        "colab": {
          "base_uri": "https://localhost:8080/",
          "height": 35
        },
        "outputId": "5a0edb29-1eb9-40b6-c39e-9d7a9c0e549d"
      },
      "source": [
        "pred_svm = svm_MR.predict(X_test_MR)\n",
        "print('The testing accuracy is given by: %f' % (get_acc(pred_svm, y_test_MR)))"
      ],
      "execution_count": 27,
      "outputs": [
        {
          "output_type": "stream",
          "text": [
            "The testing accuracy is given by: 86.830769\n"
          ],
          "name": "stdout"
        }
      ]
    },
    {
      "cell_type": "markdown",
      "metadata": {
        "id": "jTYPHY_Kk0x2",
        "colab_type": "text"
      },
      "source": [
        "# Softmax Classifier (with SGD)"
      ]
    },
    {
      "cell_type": "markdown",
      "metadata": {
        "collapsed": true,
        "id": "TKU1IUyVk0x3",
        "colab_type": "text"
      },
      "source": [
        "Next, you will train a Softmax classifier. This classifier consists of a linear function of the input data followed by a softmax function which outputs a vector of dimension C (number of classes) for each data point. Each entry of the softmax output vector corresponds to a confidence in one of the C classes, and like a probability distribution, the entries of the output vector sum to 1. We use a cross-entropy loss on this sotmax output to train the model. \n",
        "\n",
        "Check the following link as an additional resource on softmax classification: http://cs231n.github.io/linear-classify/#softmax\n",
        "\n",
        "Once again we will train the classifier with SGD. This means you need to compute the gradients of the softmax cross-entropy loss function according to the weights and update the weights using this gradient. Check the following link to help with implementing the gradient updates: https://deepnotes.io/softmax-crossentropy"
      ]
    },
    {
      "cell_type": "markdown",
      "metadata": {
        "id": "TXgvUwu_k0x3",
        "colab_type": "text"
      },
      "source": [
        "The softmax classifier has 3 hyperparameters that you can experiment with :\n",
        "- **Learning rate** - As above, this controls how much the model weights are updated with respect to their gradient.\n",
        "- **Number of Epochs** - As described for perceptron.\n",
        "- **Regularization constant** - Hyperparameter to determine the strength of regularization. In this case, we minimize the L2 norm of the model weights as regularization, so the regularization constant is a coefficient on the L2 norm in the combined cross-entropy and regularization objective."
      ]
    },
    {
      "cell_type": "markdown",
      "metadata": {
        "id": "qvv6AfV9k0x4",
        "colab_type": "text"
      },
      "source": [
        "You will implement a softmax classifier using SGD in the **models/Softmax.py**\n",
        "\n",
        "The following code: \n",
        "- Creates an instance of the Softmax classifier class \n",
        "- The train function of the Softmax class is trained on the training data\n",
        "- We use the predict function to find the training accuracy as well as the testing accuracy"
      ]
    },
    {
      "cell_type": "markdown",
      "metadata": {
        "id": "YpZQzY6sk0x4",
        "colab_type": "text"
      },
      "source": [
        "## Train Softmax on CIFAR"
      ]
    },
    {
      "cell_type": "code",
      "metadata": {
        "id": "ECiTrA1-k0x4",
        "colab_type": "code",
        "colab": {
          "base_uri": "https://localhost:8080/",
          "height": 251
        },
        "outputId": "3cc7feb1-c55b-41ca-e855-039662e29093"
      },
      "source": [
        "lr = 0.5\n",
        "n_epochs = 50\n",
        "reg_const = 0.05\n",
        "w = X_train_CIFAR.shape[1]\n",
        "softmax_CIFAR = Softmax(n_class_CIFAR, lr, n_epochs, reg_const, w)\n",
        "softmax_CIFAR.train(X_train_CIFAR, y_train_CIFAR)"
      ],
      "execution_count": 28,
      "outputs": [
        {
          "output_type": "execute_result",
          "data": {
            "text/plain": [
              "array([[ -563.83214938,   245.62265591, -4408.67503768, ...,\n",
              "          186.68116737,  1777.54683962, -3747.00810446],\n",
              "       [ 4068.02267302, -1854.66216698,   140.72716912, ...,\n",
              "         1417.27247493,   -77.34000981,  1585.34692943],\n",
              "       [ 1720.38638028,  4886.97309882,  3818.64322663, ...,\n",
              "         -150.24308814, -5877.59764623, -2348.83673742],\n",
              "       ...,\n",
              "       [  523.73054873, -1419.31126356, -1004.05123649, ...,\n",
              "        -3134.43332814, -4425.51678398, -2617.48390832],\n",
              "       [  612.82046604, -1742.03919362, -2987.02763246, ...,\n",
              "          969.87232626,  5213.33192412,  3469.21505481],\n",
              "       [-2868.47503146, -2449.55180795,  3725.88934136, ...,\n",
              "          754.36024656,  3566.80955642,  5112.07889566]])"
            ]
          },
          "metadata": {
            "tags": []
          },
          "execution_count": 28
        }
      ]
    },
    {
      "cell_type": "code",
      "metadata": {
        "id": "lRoEceKAk0x6",
        "colab_type": "code",
        "colab": {
          "base_uri": "https://localhost:8080/",
          "height": 35
        },
        "outputId": "3917f588-44f8-4a48-90ad-ed0f33fad28f"
      },
      "source": [
        "pred_softmax = softmax_CIFAR.predict(X_train_CIFAR)\n",
        "print('The training accuracy is given by: %f' % (get_acc(pred_softmax, y_train_CIFAR)))"
      ],
      "execution_count": 29,
      "outputs": [
        {
          "output_type": "stream",
          "text": [
            "The training accuracy is given by: 33.067500\n"
          ],
          "name": "stdout"
        }
      ]
    },
    {
      "cell_type": "markdown",
      "metadata": {
        "id": "-P18t8-uk0x8",
        "colab_type": "text"
      },
      "source": [
        "### Validate Softmax on CIFAR"
      ]
    },
    {
      "cell_type": "code",
      "metadata": {
        "id": "7HcfVkz9k0x9",
        "colab_type": "code",
        "colab": {
          "base_uri": "https://localhost:8080/",
          "height": 35
        },
        "outputId": "3f51cf31-f1f7-4378-f2b6-71122c218c33"
      },
      "source": [
        "pred_softmax = softmax_CIFAR.predict(X_val_CIFAR)\n",
        "print('The validation accuracy is given by: %f' % (get_acc(pred_softmax, y_val_CIFAR)))"
      ],
      "execution_count": 30,
      "outputs": [
        {
          "output_type": "stream",
          "text": [
            "The validation accuracy is given by: 27.510000\n"
          ],
          "name": "stdout"
        }
      ]
    },
    {
      "cell_type": "markdown",
      "metadata": {
        "id": "hx2T2sWtk0x_",
        "colab_type": "text"
      },
      "source": [
        "### Testing Softmax on CIFAR"
      ]
    },
    {
      "cell_type": "code",
      "metadata": {
        "id": "7t7YUWxVk0x_",
        "colab_type": "code",
        "colab": {
          "base_uri": "https://localhost:8080/",
          "height": 35
        },
        "outputId": "5305d1ac-ea93-47ac-fece-6cd1228040fd"
      },
      "source": [
        "pred_softmax = softmax_CIFAR.predict(X_test_CIFAR)\n",
        "print('The testing accuracy is given by: %f' % (get_acc(pred_softmax, y_test_CIFAR)))"
      ],
      "execution_count": 31,
      "outputs": [
        {
          "output_type": "stream",
          "text": [
            "The testing accuracy is given by: 27.580000\n"
          ],
          "name": "stdout"
        }
      ]
    },
    {
      "cell_type": "markdown",
      "metadata": {
        "id": "CtRXl8wkk0yB",
        "colab_type": "text"
      },
      "source": [
        "### Softmax_CIFAR Kaggle Submission\n",
        "\n",
        "Once you are satisfied with your solution and test accuracy output a file to submit your test set predictions to the Kaggle for Assignment 1 CIFAR. Use the following code to do so:"
      ]
    },
    {
      "cell_type": "code",
      "metadata": {
        "id": "PpB0JXwLk0yC",
        "colab_type": "code",
        "colab": {}
      },
      "source": [
        "output_submission_csv('kaggle/softmax_submission_CIFAR.csv', softmax_CIFAR.predict(X_test_CIFAR))"
      ],
      "execution_count": 32,
      "outputs": []
    },
    {
      "cell_type": "markdown",
      "metadata": {
        "id": "8Ua-VMUek0yE",
        "colab_type": "text"
      },
      "source": [
        "## Train Softmax on Mushroom"
      ]
    },
    {
      "cell_type": "code",
      "metadata": {
        "id": "TEaC6zzKk0yF",
        "colab_type": "code",
        "colab": {
          "base_uri": "https://localhost:8080/",
          "height": 305
        },
        "outputId": "4a1f6fe7-0626-4eee-d55a-0f48c6f95fb2"
      },
      "source": [
        "lr = 0.5\n",
        "n_epochs = 50\n",
        "reg_const = 0.05\n",
        "w = X_train_MR.shape[1]\n",
        "softmax_MR = Softmax(n_class_MR, lr, n_epochs, reg_const, w)\n",
        "softmax_MR.train(X_train_MR, y_train_MR)"
      ],
      "execution_count": 33,
      "outputs": [
        {
          "output_type": "execute_result",
          "data": {
            "text/plain": [
              "array([[ 1.27652565e+00, -1.91034201e+01,  4.96160960e+00,\n",
              "         1.18247465e+01,  1.05153890e+01, -8.09281521e+00,\n",
              "         1.41933040e+02, -2.00937253e+02,  1.09763704e+01,\n",
              "         1.07858153e+01,  5.34122321e+01,  1.11291733e+02,\n",
              "         1.84992766e+01,  2.83261621e+00, -1.46547630e+00,\n",
              "         2.86462396e-01, -1.49409588e+02, -7.52691745e+00,\n",
              "        -1.49082799e+01,  2.01979299e+01,  3.91930736e+00,\n",
              "        -6.45124053e+00],\n",
              "       [-9.99027327e-01,  1.94502897e+01, -4.72696315e+00,\n",
              "        -1.15522694e+01, -1.00779852e+01,  8.41290849e+00,\n",
              "        -1.41720906e+02,  2.01342599e+02, -1.05912995e+01,\n",
              "        -1.04749916e+01, -5.32506773e+01, -1.10929072e+02,\n",
              "        -1.80767901e+01, -2.63179502e+00,  1.82940232e+00,\n",
              "         6.73427103e-03,  1.49839558e+02,  7.60357677e+00,\n",
              "         1.50200080e+01, -1.98753175e+01, -3.70508817e+00,\n",
              "         6.81378139e+00]])"
            ]
          },
          "metadata": {
            "tags": []
          },
          "execution_count": 33
        }
      ]
    },
    {
      "cell_type": "code",
      "metadata": {
        "id": "3aZ1Oc8jk0yH",
        "colab_type": "code",
        "colab": {
          "base_uri": "https://localhost:8080/",
          "height": 35
        },
        "outputId": "dd4e0bc0-f634-4ccd-8cbc-839e2e6e7731"
      },
      "source": [
        "pred_softmax = softmax_MR.predict(X_train_MR)\n",
        "print('The training accuracy is given by: %f' % (get_acc(pred_softmax, y_train_MR)))"
      ],
      "execution_count": 34,
      "outputs": [
        {
          "output_type": "stream",
          "text": [
            "The training accuracy is given by: 91.649569\n"
          ],
          "name": "stdout"
        }
      ]
    },
    {
      "cell_type": "markdown",
      "metadata": {
        "id": "5ORSrk-Wk0yJ",
        "colab_type": "text"
      },
      "source": [
        "### Validate Softmax on Mushroom"
      ]
    },
    {
      "cell_type": "code",
      "metadata": {
        "id": "a2A3PgRvk0yK",
        "colab_type": "code",
        "colab": {
          "base_uri": "https://localhost:8080/",
          "height": 35
        },
        "outputId": "b4743d5c-0b9b-4b6f-8e03-591d16a9b171"
      },
      "source": [
        "pred_softmax = softmax_MR.predict(X_val_MR)\n",
        "print('The validation accuracy is given by: %f' % (get_acc(pred_softmax, y_val_MR)))"
      ],
      "execution_count": 35,
      "outputs": [
        {
          "output_type": "stream",
          "text": [
            "The validation accuracy is given by: 90.461538\n"
          ],
          "name": "stdout"
        }
      ]
    },
    {
      "cell_type": "markdown",
      "metadata": {
        "id": "_Qu4OkUhk0yM",
        "colab_type": "text"
      },
      "source": [
        "### Testing Softmax on Mushroom"
      ]
    },
    {
      "cell_type": "code",
      "metadata": {
        "id": "15Uq1IN6k0yN",
        "colab_type": "code",
        "colab": {
          "base_uri": "https://localhost:8080/",
          "height": 35
        },
        "outputId": "eb597d6d-eb3b-474c-8ea3-61a35203229d"
      },
      "source": [
        "pred_softmax = softmax_MR.predict(X_test_MR)\n",
        "print('The testing accuracy is given by: %f' % (get_acc(pred_softmax, y_test_MR)))"
      ],
      "execution_count": 36,
      "outputs": [
        {
          "output_type": "stream",
          "text": [
            "The testing accuracy is given by: 91.138462\n"
          ],
          "name": "stdout"
        }
      ]
    },
    {
      "cell_type": "markdown",
      "metadata": {
        "id": "2hAxUhG9k0yU",
        "colab_type": "text"
      },
      "source": [
        "# Logistic Classifier"
      ]
    },
    {
      "cell_type": "markdown",
      "metadata": {
        "id": "4xj_j_hFk0yU",
        "colab_type": "text"
      },
      "source": [
        "The Logistic Classifier has 2 hyperparameters that you can experiment with:\n",
        "- **Learning rate** - similar to as defined above in Perceptron, this parameter scales by how much the weights are changed according to the calculated gradient update. \n",
        "- **Number of Epochs** - As described for perceptron.\n",
        "\n"
      ]
    },
    {
      "cell_type": "markdown",
      "metadata": {
        "id": "PqypP7Zpk0yV",
        "colab_type": "text"
      },
      "source": [
        "You will implement the Logistic Classifier in the **models/Logistic.py**\n",
        "\n",
        "The following code: \n",
        "- Creates an instance of the Logistic classifier class \n",
        "- The train function of the Logistic class is trained on the training data\n",
        "- We use the predict function to find the training accuracy as well as the testing accuracy"
      ]
    },
    {
      "cell_type": "code",
      "metadata": {
        "id": "_g2Gvy8jq3Q5",
        "colab_type": "code",
        "colab": {}
      },
      "source": [
        "# Change labels to {-1,1}\n",
        "for i in range(len(y_train_MR)):\n",
        "  if (y_train_MR[i] == 0):\n",
        "    y_train_MR[i] = -1\n",
        "for i in range(len(y_val_MR)):\n",
        "  if (y_val_MR[i] == 0):\n",
        "    y_val_MR[i] = -1\n",
        "for i in range(len(y_test_MR)):\n",
        "  if (y_test_MR[i] == 0):\n",
        "    y_test_MR[i] = -1"
      ],
      "execution_count": 37,
      "outputs": []
    },
    {
      "cell_type": "markdown",
      "metadata": {
        "id": "AWJH4L4Ek0yV",
        "colab_type": "text"
      },
      "source": [
        "### Training Logistic Classifer"
      ]
    },
    {
      "cell_type": "code",
      "metadata": {
        "id": "28f2jINrk0yW",
        "colab_type": "code",
        "colab": {
          "base_uri": "https://localhost:8080/",
          "height": 413
        },
        "outputId": "6355e1a2-7280-44a5-de88-702a7cb72339"
      },
      "source": [
        "learning_rate = 0.5\n",
        "n_epochs = 200\n",
        "\n",
        "lr = Logistic(learning_rate, n_epochs)\n",
        "lr.train(X_train_MR, y_train_MR)"
      ],
      "execution_count": 38,
      "outputs": [
        {
          "output_type": "execute_result",
          "data": {
            "text/plain": [
              "array([[ 0.1853771 ],\n",
              "       [ 1.43831527],\n",
              "       [ 0.16104163],\n",
              "       [-2.0783912 ],\n",
              "       [-1.17905123],\n",
              "       [ 0.80051758],\n",
              "       [-1.47605106],\n",
              "       [ 5.00558107],\n",
              "       [-0.55505306],\n",
              "       [-0.78317694],\n",
              "       [-2.66203202],\n",
              "       [-1.85746831],\n",
              "       [-1.48552087],\n",
              "       [-0.02634747],\n",
              "       [ 0.22128652],\n",
              "       [ 0.31587777],\n",
              "       [ 1.94132154],\n",
              "       [-0.36188539],\n",
              "       [-1.39189999],\n",
              "       [-0.60021257],\n",
              "       [ 4.09499883],\n",
              "       [ 1.3785933 ]])"
            ]
          },
          "metadata": {
            "tags": []
          },
          "execution_count": 38
        }
      ]
    },
    {
      "cell_type": "code",
      "metadata": {
        "id": "W6dOtZiOk0yZ",
        "colab_type": "code",
        "colab": {
          "base_uri": "https://localhost:8080/",
          "height": 35
        },
        "outputId": "edefc444-e57c-4e7f-a218-5687212164ce"
      },
      "source": [
        "pred_lr = lr.predict(X_train_MR)\n",
        "print('The training accuracy is given by: %f' % (get_acc(pred_lr, y_train_MR)))"
      ],
      "execution_count": 39,
      "outputs": [
        {
          "output_type": "stream",
          "text": [
            "The training accuracy is given by: 82.129668\n"
          ],
          "name": "stdout"
        }
      ]
    },
    {
      "cell_type": "markdown",
      "metadata": {
        "id": "DyvL7xfQk0yb",
        "colab_type": "text"
      },
      "source": [
        "### Validate Logistic Classifer"
      ]
    },
    {
      "cell_type": "code",
      "metadata": {
        "id": "lkyC5ZTkk0yc",
        "colab_type": "code",
        "colab": {
          "base_uri": "https://localhost:8080/",
          "height": 35
        },
        "outputId": "86a8d7a3-fc11-4745-a5f5-d862de5197cf"
      },
      "source": [
        "pred_lr = lr.predict(X_val_MR)\n",
        "print('The validation accuracy is given by: %f' % (get_acc(pred_lr, y_val_MR)))"
      ],
      "execution_count": 40,
      "outputs": [
        {
          "output_type": "stream",
          "text": [
            "The validation accuracy is given by: 81.107692\n"
          ],
          "name": "stdout"
        }
      ]
    },
    {
      "cell_type": "markdown",
      "metadata": {
        "id": "S-4AXMAhk0yf",
        "colab_type": "text"
      },
      "source": [
        "### Test Logistic Classifier"
      ]
    },
    {
      "cell_type": "code",
      "metadata": {
        "id": "7zRSzoeYk0yf",
        "colab_type": "code",
        "colab": {
          "base_uri": "https://localhost:8080/",
          "height": 35
        },
        "outputId": "747ac9ff-2deb-4158-99ca-5eb363c63101"
      },
      "source": [
        "pred_lr = lr.predict(X_test_MR)\n",
        "print('The testing accuracy is given by: %f' % (get_acc(pred_lr, y_test_MR)))"
      ],
      "execution_count": 41,
      "outputs": [
        {
          "output_type": "stream",
          "text": [
            "The testing accuracy is given by: 80.430769\n"
          ],
          "name": "stdout"
        }
      ]
    }
  ]
}