{
  "nbformat": 4,
  "nbformat_minor": 0,
  "metadata": {
    "kernelspec": {
      "display_name": "Python 3",
      "language": "python",
      "name": "python3"
    },
    "language_info": {
      "codemirror_mode": {
        "name": "ipython",
        "version": 3
      },
      "file_extension": ".py",
      "mimetype": "text/x-python",
      "name": "python",
      "nbconvert_exporter": "python",
      "pygments_lexer": "ipython3",
      "version": "3.7.6"
    },
    "colab": {
      "name": "CS 498DL Assignment-1.ipynb",
      "provenance": [],
      "toc_visible": true,
      "include_colab_link": true
    },
    "accelerator": "GPU"
  },
  "cells": [
    {
      "cell_type": "markdown",
      "metadata": {
        "id": "view-in-github",
        "colab_type": "text"
      },
      "source": [
        "<a href=\"https://colab.research.google.com/github/AlchemicRonin/CS-498-Introduction-to-Deep-Learning/blob/TY/CS_498DL_Assignment_1.ipynb\" target=\"_parent\"><img src=\"https://colab.research.google.com/assets/colab-badge.svg\" alt=\"Open In Colab\"/></a>"
      ]
    },
    {
      "cell_type": "code",
      "metadata": {
        "id": "3VYG6T4o2ajA",
        "colab_type": "code",
        "colab": {
          "base_uri": "https://localhost:8080/",
          "height": 35
        },
        "outputId": "8f65d2e3-fe3e-4fea-d270-6b72b3d86a3c"
      },
      "source": [
        "from google.colab import drive\n",
        "drive.mount('/content/drive/',force_remount= True)\n",
        "\n",
        "import os\n",
        "os.chdir(\"/content/drive/My Drive/MP1\")"
      ],
      "execution_count": 1,
      "outputs": [
        {
          "output_type": "stream",
          "text": [
            "Mounted at /content/drive/\n"
          ],
          "name": "stdout"
        }
      ]
    },
    {
      "cell_type": "code",
      "metadata": {
        "id": "2BuPvygF87nI",
        "colab_type": "code",
        "colab": {
          "base_uri": "https://localhost:8080/",
          "height": 71
        },
        "outputId": "57c19399-a28b-4017-ff29-21a4b5a706bd"
      },
      "source": [
        "!ls\n"
      ],
      "execution_count": 2,
      "outputs": [
        {
          "output_type": "stream",
          "text": [
            " cifar10\t\t        kaggle\t\t       mushroom\n",
            "'CS 498DL Assignment-1.ipynb'   kaggle_submission.py   __pycache__\n",
            " data_process.py\t        models\n"
          ],
          "name": "stdout"
        }
      ]
    },
    {
      "cell_type": "code",
      "metadata": {
        "id": "X1LpvlHBk0wh",
        "colab_type": "code",
        "colab": {}
      },
      "source": [
        "import random\n",
        "import numpy as np\n",
        "from data_process import get_CIFAR10_data, get_MUSHROOM_data\n",
        "from scipy.spatial import distance\n",
        "from models import Perceptron, SVM, Softmax, Logistic\n",
        "from kaggle_submission import output_submission_csv\n",
        "%matplotlib inline"
      ],
      "execution_count": 3,
      "outputs": []
    },
    {
      "cell_type": "markdown",
      "metadata": {
        "id": "1TUEAWwL8AUP",
        "colab_type": "text"
      },
      "source": [
        ""
      ]
    },
    {
      "cell_type": "markdown",
      "metadata": {
        "id": "Om7arQYJk0wn",
        "colab_type": "text"
      },
      "source": [
        "# Loading CIFAR-10"
      ]
    },
    {
      "cell_type": "markdown",
      "metadata": {
        "id": "Ri7RgFKzk0wo",
        "colab_type": "text"
      },
      "source": [
        "In the following cells we determine the number of images for each split and load the images.\n",
        "<br /> \n",
        "TRAIN_IMAGES + VAL_IMAGES = (0, 50000]\n",
        ", TEST_IMAGES = 10000"
      ]
    },
    {
      "cell_type": "code",
      "metadata": {
        "id": "Td-raRlwk0wp",
        "colab_type": "code",
        "colab": {}
      },
      "source": [
        "# You can change these numbers for experimentation\n",
        "# For submission we will use the default values \n",
        "TRAIN_IMAGES = 40000\n",
        "VAL_IMAGES = 10000"
      ],
      "execution_count": 4,
      "outputs": []
    },
    {
      "cell_type": "code",
      "metadata": {
        "id": "PZCGb3iTk0wt",
        "colab_type": "code",
        "colab": {}
      },
      "source": [
        "data = get_CIFAR10_data(TRAIN_IMAGES, VAL_IMAGES)\n",
        "X_train_CIFAR, y_train_CIFAR = data['X_train'], data['y_train']\n",
        "X_val_CIFAR, y_val_CIFAR = data['X_val'], data['y_val']\n",
        "X_test_CIFAR, y_test_CIFAR = data['X_test'], data['y_test']\n",
        "n_class_CIFAR = len(np.unique(y_test_CIFAR))"
      ],
      "execution_count": 5,
      "outputs": []
    },
    {
      "cell_type": "markdown",
      "metadata": {
        "id": "uv3hwLy3k0wx",
        "colab_type": "text"
      },
      "source": [
        "Convert the sets of images from dimensions of **(N, 3, 32, 32) -> (N, 3072)** where N is the number of images so that each **3x32x32** image is represented by a single vector."
      ]
    },
    {
      "cell_type": "code",
      "metadata": {
        "id": "Dt01t7-4k0wy",
        "colab_type": "code",
        "colab": {}
      },
      "source": [
        "X_train_CIFAR = np.reshape(X_train_CIFAR, (X_train_CIFAR.shape[0], -1))\n",
        "X_val_CIFAR = np.reshape(X_val_CIFAR, (X_val_CIFAR.shape[0], -1))\n",
        "X_test_CIFAR = np.reshape(X_test_CIFAR, (X_test_CIFAR.shape[0], -1))"
      ],
      "execution_count": 6,
      "outputs": []
    },
    {
      "cell_type": "markdown",
      "metadata": {
        "id": "kyJLPj8pk0w1",
        "colab_type": "text"
      },
      "source": [
        "# Loading Mushroom"
      ]
    },
    {
      "cell_type": "markdown",
      "metadata": {
        "id": "ZgbRaUgIk0w1",
        "colab_type": "text"
      },
      "source": [
        "In the following cells we determine the splitting of the mushroom dataset.\n",
        "<br /> TRAINING + VALIDATION = 0.8, TESTING = 0.2"
      ]
    },
    {
      "cell_type": "code",
      "metadata": {
        "id": "CTzdFnHtk0w2",
        "colab_type": "code",
        "colab": {}
      },
      "source": [
        "# TRAINING = 0.6 indicates 60% of the data is used as the training dataset.\n",
        "VALIDATION = 0.2"
      ],
      "execution_count": 7,
      "outputs": []
    },
    {
      "cell_type": "code",
      "metadata": {
        "id": "3q6_TkUXk0w4",
        "colab_type": "code",
        "colab": {
          "base_uri": "https://localhost:8080/",
          "height": 89
        },
        "outputId": "30ec1aa4-4710-4442-fd86-a0f5a2b3983c"
      },
      "source": [
        "data = get_MUSHROOM_data(VALIDATION)\n",
        "X_train_MR, y_train_MR = data['X_train'], data['y_train']\n",
        "X_val_MR, y_val_MR = data['X_val'], data['y_val']\n",
        "X_test_MR, y_test_MR = data['X_test'], data['y_test']\n",
        "n_class_MR = len(np.unique(y_test_MR))\n",
        "\n",
        "print(\"Number of train samples: \", X_train_MR.shape[0])\n",
        "print(\"Number of val samples: \", X_val_MR.shape[0])\n",
        "print(\"Number of test samples: \", X_test_MR.shape[0])\n",
        "print(\"Number of test samples: \", X_test_MR.shape[1])"
      ],
      "execution_count": 8,
      "outputs": [
        {
          "output_type": "stream",
          "text": [
            "Number of train samples:  4874\n",
            "Number of val samples:  1625\n",
            "Number of test samples:  1625\n",
            "Number of test samples:  22\n"
          ],
          "name": "stdout"
        }
      ]
    },
    {
      "cell_type": "markdown",
      "metadata": {
        "id": "0Tscw5YUk0w8",
        "colab_type": "text"
      },
      "source": [
        "### Get Accuracy"
      ]
    },
    {
      "cell_type": "markdown",
      "metadata": {
        "id": "OnDnccbFk0w9",
        "colab_type": "text"
      },
      "source": [
        "This function computes how well your model performs using accuracy as a metric."
      ]
    },
    {
      "cell_type": "code",
      "metadata": {
        "id": "4x2CPsnJk0w9",
        "colab_type": "code",
        "colab": {}
      },
      "source": [
        "def get_acc(pred, y_test):\n",
        "    return np.sum(y_test==pred)/len(y_test)*100"
      ],
      "execution_count": 9,
      "outputs": []
    },
    {
      "cell_type": "markdown",
      "metadata": {
        "id": "o2HEtgfik0xA",
        "colab_type": "text"
      },
      "source": [
        "# Perceptron"
      ]
    },
    {
      "cell_type": "markdown",
      "metadata": {
        "id": "jyTEm25lk0xB",
        "colab_type": "text"
      },
      "source": [
        "Perceptron has 2 hyperparameters that you can experiment with:\n",
        "- **Learning rate** - controls how much we change the current weights of the classifier during each update. We set it at a default value of 0.5, but you should experiment with different values. We recommend changing the learning rate by factors of 10 and observing how the performance of the classifier changes. You should also try adding a **decay** which slowly reduces the learning rate over each epoch.\n",
        "- **Number of Epochs** - An epoch is a complete iterative pass over all of the data in the dataset. During an epoch we predict a label using the classifier and then update the weights of the classifier according the perceptron update rule for each sample in the training set. You should try different values for the number of training epochs and report your results."
      ]
    },
    {
      "cell_type": "markdown",
      "metadata": {
        "id": "1Sk-jAgBk0xB",
        "colab_type": "text"
      },
      "source": [
        "You will implement the Perceptron classifier in the **models/Perceptron.py**\n",
        "\n",
        "The following code: \n",
        "- Creates an instance of the Perceptron classifier class \n",
        "- The train function of the Perceptron class is trained on the training data\n",
        "- We use the predict function to find the training accuracy as well as the testing accuracy\n"
      ]
    },
    {
      "cell_type": "markdown",
      "metadata": {
        "id": "GyN8Xibjk0xC",
        "colab_type": "text"
      },
      "source": [
        "## Train Perceptron on CIFAR"
      ]
    },
    {
      "cell_type": "code",
      "metadata": {
        "id": "JjDZjt-Xk0xC",
        "colab_type": "code",
        "colab": {
          "base_uri": "https://localhost:8080/",
          "height": 251
        },
        "outputId": "48c3626e-efcc-4c96-c146-848e87f576cf"
      },
      "source": [
        "lr = 0.5\n",
        "n_epochs = 100\n",
        "w = X_train_CIFAR.shape[1]\n",
        "percept_CIFAR = Perceptron(n_class_CIFAR, lr, n_epochs,w)\n",
        "percept_CIFAR.train(X_train_CIFAR, y_train_CIFAR)"
      ],
      "execution_count": 32,
      "outputs": [
        {
          "output_type": "execute_result",
          "data": {
            "text/plain": [
              "array([[  -508.84486026,  -3896.44467843, -10216.90609818, ...,\n",
              "          -440.53407449,    888.01873623, -20570.86823772],\n",
              "       [ 16372.33407233,   6234.07514826,   -975.00518633, ...,\n",
              "         -3691.23925029,  -2693.39806048,   6327.21947773],\n",
              "       [  9795.7416032 ,  12571.76726425,   9679.2546448 , ...,\n",
              "         11717.64612615, -21333.09421315,  -7093.88858419],\n",
              "       ...,\n",
              "       [ -1777.42256722,  -8724.15452433,  -7744.17834777, ...,\n",
              "         -5322.31107906, -20951.46991053,  -5683.35709851],\n",
              "       [ -2014.94804031,   2753.93050201,  -3254.10158572, ...,\n",
              "          7142.06017381,  17179.33627238,  16998.95304059],\n",
              "       [-12102.98021937,   2252.2017634 ,  11144.32377625, ...,\n",
              "         -7372.94564998,  19737.26921567,  20667.81744426]])"
            ]
          },
          "metadata": {
            "tags": []
          },
          "execution_count": 32
        }
      ]
    },
    {
      "cell_type": "code",
      "metadata": {
        "id": "9g2inlgnk0xF",
        "colab_type": "code",
        "colab": {
          "base_uri": "https://localhost:8080/",
          "height": 35
        },
        "outputId": "2ae1a10e-e576-4a57-b458-443a1c981a57"
      },
      "source": [
        "pred_percept = percept_CIFAR.predict(X_train_CIFAR)\n",
        "print('The training accuracy is given by: %f' % (get_acc(pred_percept, y_train_CIFAR)))"
      ],
      "execution_count": 33,
      "outputs": [
        {
          "output_type": "stream",
          "text": [
            "The training accuracy is given by: 33.495000\n"
          ],
          "name": "stdout"
        }
      ]
    },
    {
      "cell_type": "markdown",
      "metadata": {
        "id": "Ss2_b58ek0xH",
        "colab_type": "text"
      },
      "source": [
        "### Validate Perceptron on CIFAR"
      ]
    },
    {
      "cell_type": "code",
      "metadata": {
        "id": "zPYgGiG6k0xI",
        "colab_type": "code",
        "colab": {
          "base_uri": "https://localhost:8080/",
          "height": 35
        },
        "outputId": "c83f0f83-17e6-4a54-baa9-44125ddc7b58"
      },
      "source": [
        "pred_percept = percept_CIFAR.predict(X_val_CIFAR)\n",
        "print('The validation accuracy is given by: %f' % (get_acc(pred_percept, y_val_CIFAR)))"
      ],
      "execution_count": 34,
      "outputs": [
        {
          "output_type": "stream",
          "text": [
            "The validation accuracy is given by: 27.120000\n"
          ],
          "name": "stdout"
        }
      ]
    },
    {
      "cell_type": "markdown",
      "metadata": {
        "id": "KuTZNOIJk0xL",
        "colab_type": "text"
      },
      "source": [
        "### Test Perceptron on CIFAR"
      ]
    },
    {
      "cell_type": "code",
      "metadata": {
        "id": "glUhnw_Lk0xL",
        "colab_type": "code",
        "colab": {
          "base_uri": "https://localhost:8080/",
          "height": 35
        },
        "outputId": "d85bd4a3-f76a-4244-ab8b-b2538a6b1422"
      },
      "source": [
        "pred_percept = percept_CIFAR.predict(X_test_CIFAR)\n",
        "print('The testing accuracy is given by: %f' % (get_acc(pred_percept, y_test_CIFAR)))"
      ],
      "execution_count": 35,
      "outputs": [
        {
          "output_type": "stream",
          "text": [
            "The testing accuracy is given by: 26.890000\n"
          ],
          "name": "stdout"
        }
      ]
    },
    {
      "cell_type": "markdown",
      "metadata": {
        "id": "eF_G3nx0k0xO",
        "colab_type": "text"
      },
      "source": [
        "### Perceptron_CIFAR Kaggle Submission\n",
        "\n",
        "Once you are satisfied with your solution and test accuracy, output a file to submit your test set predictions to the Kaggle for Assignment 1 CIFAR. Use the following code to do so:"
      ]
    },
    {
      "cell_type": "code",
      "metadata": {
        "id": "U6egUM2Kk0xO",
        "colab_type": "code",
        "colab": {}
      },
      "source": [
        "output_submission_csv('kaggle/perceptron_submission_CIFAR.csv', percept_CIFAR.predict(X_test_CIFAR))"
      ],
      "execution_count": 36,
      "outputs": []
    },
    {
      "cell_type": "markdown",
      "metadata": {
        "id": "Cx4MDNydk0xR",
        "colab_type": "text"
      },
      "source": [
        "## Train Perceptron on Mushroom"
      ]
    },
    {
      "cell_type": "code",
      "metadata": {
        "id": "b_EPcFw8k0xS",
        "colab_type": "code",
        "colab": {
          "base_uri": "https://localhost:8080/",
          "height": 233
        },
        "outputId": "8cc68f6b-4201-46d0-97c1-4e5c10a5687f"
      },
      "source": [
        "lr = 0.5\n",
        "n_epochs = 50\n",
        "w = X_train_MR.shape[1]\n",
        "percept_MR = Perceptron(n_class_MR, lr, n_epochs,w)\n",
        "percept_MR.train(X_train_MR, y_train_MR)"
      ],
      "execution_count": 37,
      "outputs": [
        {
          "output_type": "execute_result",
          "data": {
            "text/plain": [
              "array([[  -1.20626972,  -17.59409404,    4.15601908,   -5.08553835,\n",
              "          17.99398532,    3.72723814,  225.26632612, -288.92277624,\n",
              "           3.20530407,    2.97873701,   75.36151728,  187.79478629,\n",
              "          13.70893377,    7.57925594,    4.96729386,    0.29223975,\n",
              "        -221.61593856,  -19.11489224,  -27.65302276,   21.29125442,\n",
              "          18.86168809,   -4.16745755],\n",
              "       [   2.6673705 ,   19.14385271,   -3.26381248,    5.81060936,\n",
              "         -16.52216435,   -2.23809629, -224.23724863,  289.76526685,\n",
              "          -2.37716115,   -2.12013807,  -74.18182349, -186.60573732,\n",
              "         -13.02108137,   -7.17790357,   -3.69718867,    0.99684189,\n",
              "         222.83127811,   19.58687305,   28.91057094,  -20.095151  ,\n",
              "         -18.23952981,    4.85931444]])"
            ]
          },
          "metadata": {
            "tags": []
          },
          "execution_count": 37
        }
      ]
    },
    {
      "cell_type": "code",
      "metadata": {
        "id": "s15cqkubk0xU",
        "colab_type": "code",
        "colab": {
          "base_uri": "https://localhost:8080/",
          "height": 35
        },
        "outputId": "b9cdbc9c-e2ca-40f3-eeda-3eed7661c1b0"
      },
      "source": [
        "pred_percept = percept_MR.predict(X_train_MR)\n",
        "print('The training accuracy is given by: %f' % (get_acc(pred_percept, y_train_MR)))"
      ],
      "execution_count": 38,
      "outputs": [
        {
          "output_type": "stream",
          "text": [
            "The training accuracy is given by: 85.597046\n"
          ],
          "name": "stdout"
        }
      ]
    },
    {
      "cell_type": "markdown",
      "metadata": {
        "id": "o2V12eQYk0xX",
        "colab_type": "text"
      },
      "source": [
        "### Validate Perceptron on Mushroom"
      ]
    },
    {
      "cell_type": "code",
      "metadata": {
        "id": "i_SqLPFjk0xX",
        "colab_type": "code",
        "colab": {
          "base_uri": "https://localhost:8080/",
          "height": 35
        },
        "outputId": "8a5f5261-51f3-4f0d-c8f9-22928b84b0b4"
      },
      "source": [
        "pred_percept = percept_MR.predict(X_val_MR)\n",
        "print('The validation accuracy is given by: %f' % (get_acc(pred_percept, y_val_MR)))"
      ],
      "execution_count": 39,
      "outputs": [
        {
          "output_type": "stream",
          "text": [
            "The validation accuracy is given by: 83.200000\n"
          ],
          "name": "stdout"
        }
      ]
    },
    {
      "cell_type": "markdown",
      "metadata": {
        "id": "YsIMayibk0xa",
        "colab_type": "text"
      },
      "source": [
        "### Test Perceptron on Mushroom"
      ]
    },
    {
      "cell_type": "code",
      "metadata": {
        "id": "dVjfC0zDk0xa",
        "colab_type": "code",
        "colab": {
          "base_uri": "https://localhost:8080/",
          "height": 35
        },
        "outputId": "5b2be691-e055-4718-9ddc-52dbca1e3608"
      },
      "source": [
        "pred_percept = percept_MR.predict(X_test_MR)\n",
        "print('The testing accuracy is given by: %f' % (get_acc(pred_percept, y_test_MR)))"
      ],
      "execution_count": 40,
      "outputs": [
        {
          "output_type": "stream",
          "text": [
            "The testing accuracy is given by: 85.353846\n"
          ],
          "name": "stdout"
        }
      ]
    },
    {
      "cell_type": "markdown",
      "metadata": {
        "id": "qJytXFZqk0xd",
        "colab_type": "text"
      },
      "source": [
        "# Support Vector Machines (with SGD)"
      ]
    },
    {
      "cell_type": "markdown",
      "metadata": {
        "id": "9XjPmRIak0xd",
        "colab_type": "text"
      },
      "source": [
        "Next, you will implement a \"soft margin\" SVM. In this formulation you will maximize the margin between positive and negative training examples and penalize margin violations using a hinge loss.\n",
        "\n",
        "We will optimize the SVM loss using SGD. This means you must compute the loss function with respect to model weights. You will use this gradient to update the model weights.\n",
        "\n",
        "SVM optimized with SGD has 3 hyperparameters that you can experiment with :\n",
        "- **Learning rate** - similar to as defined above in Perceptron, this parameter scales by how much the weights are changed according to the calculated gradient update. \n",
        "- **Epochs** - similar to as defined above in Perceptron.\n",
        "- **Regularization constant** - Hyperparameter to determine the strength of regularization. In this case it is a coefficient on the term which maximizes the margin. You could try different values. The default value is set to 0.05."
      ]
    },
    {
      "cell_type": "markdown",
      "metadata": {
        "id": "GcTmRF4_k0xd",
        "colab_type": "text"
      },
      "source": [
        "You will implement the SVM using SGD in the **models/SVM.py**\n",
        "\n",
        "The following code: \n",
        "- Creates an instance of the SVM classifier class \n",
        "- The train function of the SVM class is trained on the training data\n",
        "- We use the predict function to find the training accuracy as well as the testing accuracy"
      ]
    },
    {
      "cell_type": "markdown",
      "metadata": {
        "id": "VnQBx_g5k0xe",
        "colab_type": "text"
      },
      "source": [
        "## Train SVM on CIFAR"
      ]
    },
    {
      "cell_type": "code",
      "metadata": {
        "id": "rp-3GBbnk0xe",
        "colab_type": "code",
        "colab": {
          "base_uri": "https://localhost:8080/",
          "height": 251
        },
        "outputId": "0124862a-eec0-4c73-e197-027f9ee12b75"
      },
      "source": [
        "lr = 0.5\n",
        "n_epochs = 50\n",
        "reg_const = 0.05\n",
        "w = X_train_CIFAR.shape[1]\n",
        "svm_CIFAR = SVM(n_class_CIFAR, lr, n_epochs, reg_const,w)\n",
        "svm_CIFAR.train(X_train_CIFAR, y_train_CIFAR)"
      ],
      "execution_count": 48,
      "outputs": [
        {
          "output_type": "execute_result",
          "data": {
            "text/plain": [
              "array([[131398.12487945, 120768.40682363, 111868.95107413, ...,\n",
              "        323308.55808934, 322245.11466985, 318118.40775657],\n",
              "       [140522.93591391, 113451.89318909, 111209.75547633, ...,\n",
              "        322633.48764581, 311740.91920807, 321941.72403363],\n",
              "       [113643.51435053, 142166.57246705, 142238.26856869, ...,\n",
              "        322024.87608408, 299568.44263922, 304218.03597846],\n",
              "       ...,\n",
              "       [129331.35172074, 124170.43880508, 126923.42596755, ...,\n",
              "        301392.08887585, 293866.30908386, 325006.7033962 ],\n",
              "       [143203.30162247, 130699.60492952, 130332.58819315, ...,\n",
              "        322414.8744645 , 330197.12238061, 339707.35748423],\n",
              "       [123995.6325977 , 109798.26667051, 119531.99263895, ...,\n",
              "        319629.51747004, 330860.25276133, 331096.93807661]])"
            ]
          },
          "metadata": {
            "tags": []
          },
          "execution_count": 48
        }
      ]
    },
    {
      "cell_type": "code",
      "metadata": {
        "id": "yBauIYMwk0xg",
        "colab_type": "code",
        "colab": {
          "base_uri": "https://localhost:8080/",
          "height": 35
        },
        "outputId": "6df8a48a-0c4a-4745-ddef-eedaf6de7e96"
      },
      "source": [
        "pred_svm = svm_CIFAR.predict(X_train_CIFAR)\n",
        "print('The training accuracy is given by: %f' % (get_acc(pred_svm, y_train_CIFAR)))"
      ],
      "execution_count": 49,
      "outputs": [
        {
          "output_type": "stream",
          "text": [
            "The training accuracy is given by: 30.607500\n"
          ],
          "name": "stdout"
        }
      ]
    },
    {
      "cell_type": "markdown",
      "metadata": {
        "id": "GtepO5REk0xj",
        "colab_type": "text"
      },
      "source": [
        "### Validate SVM on CIFAR"
      ]
    },
    {
      "cell_type": "code",
      "metadata": {
        "id": "ftqbAy0vk0xj",
        "colab_type": "code",
        "colab": {
          "base_uri": "https://localhost:8080/",
          "height": 35
        },
        "outputId": "8d7b9c7d-68dc-4cfb-e4f6-5ce4e65d0cbb"
      },
      "source": [
        "pred_svm = svm_CIFAR.predict(X_val_CIFAR)\n",
        "print('The validation accuracy is given by: %f' % (get_acc(pred_svm, y_val_CIFAR)))"
      ],
      "execution_count": 47,
      "outputs": [
        {
          "output_type": "stream",
          "text": [
            "The validation accuracy is given by: 27.520000\n"
          ],
          "name": "stdout"
        }
      ]
    },
    {
      "cell_type": "markdown",
      "metadata": {
        "id": "nEjg2Wghk0xl",
        "colab_type": "text"
      },
      "source": [
        "### Test SVM on CIFAR"
      ]
    },
    {
      "cell_type": "code",
      "metadata": {
        "id": "CGQkPCxgk0xm",
        "colab_type": "code",
        "colab": {
          "base_uri": "https://localhost:8080/",
          "height": 35
        },
        "outputId": "e6b24490-0a2e-47de-a50a-d3e01cfeb1d4"
      },
      "source": [
        "pred_svm = svm_CIFAR.predict(X_test_CIFAR)\n",
        "print('The testing accuracy is given by: %f' % (get_acc(pred_svm, y_test_CIFAR)))"
      ],
      "execution_count": 44,
      "outputs": [
        {
          "output_type": "stream",
          "text": [
            "The testing accuracy is given by: 29.140000\n"
          ],
          "name": "stdout"
        }
      ]
    },
    {
      "cell_type": "markdown",
      "metadata": {
        "id": "fUGTnMxpk0xo",
        "colab_type": "text"
      },
      "source": [
        "### SVM_CIFAR Kaggle Submission\n",
        "\n",
        "Once you are satisfied with your solution and test accuracy output a file to submit your test set predictions to the Kaggle for Assignment 1 CIFAR. Use the following code to do so:"
      ]
    },
    {
      "cell_type": "code",
      "metadata": {
        "id": "umWz7D7lk0xp",
        "colab_type": "code",
        "colab": {}
      },
      "source": [
        "output_submission_csv('kaggle/svm_submission_CIFAR.csv', svm_CIFAR.predict(X_test_CIFAR))"
      ],
      "execution_count": null,
      "outputs": []
    },
    {
      "cell_type": "markdown",
      "metadata": {
        "id": "k-Sd3PVVk0xs",
        "colab_type": "text"
      },
      "source": [
        "## Train SVM on Mushroom"
      ]
    },
    {
      "cell_type": "code",
      "metadata": {
        "id": "WQX0bDK8k0xs",
        "colab_type": "code",
        "colab": {
          "base_uri": "https://localhost:8080/",
          "height": 233
        },
        "outputId": "aada330b-907e-4d5e-8282-5d00050a30e2"
      },
      "source": [
        "lr = 0.5\n",
        "n_epochs = 50\n",
        "reg_const = 0.05\n",
        "w = X_train_MR.shape[1]\n",
        "svm_MR = SVM(n_class_MR, lr, n_epochs, reg_const,w)\n",
        "svm_MR.train(X_train_MR, y_train_MR)"
      ],
      "execution_count": 52,
      "outputs": [
        {
          "output_type": "execute_result",
          "data": {
            "text/plain": [
              "array([[1.14313771e+04, 6.63727967e+03, 1.82468863e+04, 2.18154553e+03,\n",
              "        1.34279142e+04, 3.52088305e+03, 6.16500760e+02, 1.32097410e+03,\n",
              "        2.15697645e+04, 1.25289577e+03, 5.02598573e+03, 6.51367452e+03,\n",
              "        6.04386518e+03, 2.23561323e+04, 2.22494169e+04, 2.59427297e-01,\n",
              "        7.03795760e+03, 3.90857468e+03, 1.13672715e+04, 1.10023359e+04,\n",
              "        1.28922007e+04, 6.74360254e+03],\n",
              "       [1.14297105e+04, 6.65112738e+03, 1.82434127e+04, 2.16216652e+03,\n",
              "        1.34141975e+04, 3.52742391e+03, 4.60251076e+02, 1.52780844e+03,\n",
              "        2.15661812e+04, 1.25552996e+03, 4.98388834e+03, 6.38432052e+03,\n",
              "        6.03227675e+03, 2.23486618e+04, 2.22429975e+04, 2.19808860e-02,\n",
              "        7.18666584e+03, 3.93041830e+03, 1.13863128e+04, 1.09888844e+04,\n",
              "        1.28847449e+04, 6.74620532e+03]])"
            ]
          },
          "metadata": {
            "tags": []
          },
          "execution_count": 52
        }
      ]
    },
    {
      "cell_type": "code",
      "metadata": {
        "id": "c9Qmn5tgk0xu",
        "colab_type": "code",
        "colab": {
          "base_uri": "https://localhost:8080/",
          "height": 35
        },
        "outputId": "74fd74d0-323c-41f7-81c1-512eea72c4f7"
      },
      "source": [
        "pred_svm = svm_MR.predict(X_train_MR)\n",
        "print('The training accuracy is given by: %f' % (get_acc(pred_svm, y_train_MR)))"
      ],
      "execution_count": 53,
      "outputs": [
        {
          "output_type": "stream",
          "text": [
            "The training accuracy is given by: 82.970866\n"
          ],
          "name": "stdout"
        }
      ]
    },
    {
      "cell_type": "markdown",
      "metadata": {
        "id": "SVj-PnPAk0xx",
        "colab_type": "text"
      },
      "source": [
        "### Validate SVM on Mushroom"
      ]
    },
    {
      "cell_type": "code",
      "metadata": {
        "id": "iCkFtwB7k0xx",
        "colab_type": "code",
        "colab": {
          "base_uri": "https://localhost:8080/",
          "height": 35
        },
        "outputId": "2f2f7fc4-6875-41e0-9a4c-46db7b28767b"
      },
      "source": [
        "pred_svm = svm_MR.predict(X_val_MR)\n",
        "print('The validation accuracy is given by: %f' % (get_acc(pred_svm, y_val_MR)))"
      ],
      "execution_count": 54,
      "outputs": [
        {
          "output_type": "stream",
          "text": [
            "The validation accuracy is given by: 80.615385\n"
          ],
          "name": "stdout"
        }
      ]
    },
    {
      "cell_type": "markdown",
      "metadata": {
        "id": "V7GT0DHKk0xz",
        "colab_type": "text"
      },
      "source": [
        "## Test SVM on Mushroom"
      ]
    },
    {
      "cell_type": "code",
      "metadata": {
        "id": "3edB6l8lk0x0",
        "colab_type": "code",
        "colab": {
          "base_uri": "https://localhost:8080/",
          "height": 35
        },
        "outputId": "eac4c9ae-4abb-4349-f8b8-2ceabb767952"
      },
      "source": [
        "pred_svm = svm_MR.predict(X_test_MR)\n",
        "print('The testing accuracy is given by: %f' % (get_acc(pred_svm, y_test_MR)))"
      ],
      "execution_count": 55,
      "outputs": [
        {
          "output_type": "stream",
          "text": [
            "The testing accuracy is given by: 83.630769\n"
          ],
          "name": "stdout"
        }
      ]
    },
    {
      "cell_type": "markdown",
      "metadata": {
        "id": "jTYPHY_Kk0x2",
        "colab_type": "text"
      },
      "source": [
        "# Softmax Classifier (with SGD)"
      ]
    },
    {
      "cell_type": "markdown",
      "metadata": {
        "collapsed": true,
        "id": "TKU1IUyVk0x3",
        "colab_type": "text"
      },
      "source": [
        "Next, you will train a Softmax classifier. This classifier consists of a linear function of the input data followed by a softmax function which outputs a vector of dimension C (number of classes) for each data point. Each entry of the softmax output vector corresponds to a confidence in one of the C classes, and like a probability distribution, the entries of the output vector sum to 1. We use a cross-entropy loss on this sotmax output to train the model. \n",
        "\n",
        "Check the following link as an additional resource on softmax classification: http://cs231n.github.io/linear-classify/#softmax\n",
        "\n",
        "Once again we will train the classifier with SGD. This means you need to compute the gradients of the softmax cross-entropy loss function according to the weights and update the weights using this gradient. Check the following link to help with implementing the gradient updates: https://deepnotes.io/softmax-crossentropy"
      ]
    },
    {
      "cell_type": "markdown",
      "metadata": {
        "id": "TXgvUwu_k0x3",
        "colab_type": "text"
      },
      "source": [
        "The softmax classifier has 3 hyperparameters that you can experiment with :\n",
        "- **Learning rate** - As above, this controls how much the model weights are updated with respect to their gradient.\n",
        "- **Number of Epochs** - As described for perceptron.\n",
        "- **Regularization constant** - Hyperparameter to determine the strength of regularization. In this case, we minimize the L2 norm of the model weights as regularization, so the regularization constant is a coefficient on the L2 norm in the combined cross-entropy and regularization objective."
      ]
    },
    {
      "cell_type": "markdown",
      "metadata": {
        "id": "qvv6AfV9k0x4",
        "colab_type": "text"
      },
      "source": [
        "You will implement a softmax classifier using SGD in the **models/Softmax.py**\n",
        "\n",
        "The following code: \n",
        "- Creates an instance of the Softmax classifier class \n",
        "- The train function of the Softmax class is trained on the training data\n",
        "- We use the predict function to find the training accuracy as well as the testing accuracy"
      ]
    },
    {
      "cell_type": "markdown",
      "metadata": {
        "id": "YpZQzY6sk0x4",
        "colab_type": "text"
      },
      "source": [
        "## Train Softmax on CIFAR"
      ]
    },
    {
      "cell_type": "code",
      "metadata": {
        "id": "ECiTrA1-k0x4",
        "colab_type": "code",
        "colab": {
          "base_uri": "https://localhost:8080/",
          "height": 251
        },
        "outputId": "2e8870c4-df5e-41a7-fec8-7a8d103c7721"
      },
      "source": [
        "lr = 0.5\n",
        "n_epochs = 50\n",
        "reg_const = 0.05\n",
        "w = X_train_CIFAR.shape[1]\n",
        "softmax_CIFAR = Softmax(n_class_CIFAR, lr, n_epochs, reg_const, w)\n",
        "softmax_CIFAR.train(X_train_CIFAR, y_train_CIFAR)"
      ],
      "execution_count": 56,
      "outputs": [
        {
          "output_type": "execute_result",
          "data": {
            "text/plain": [
              "array([[ -766.85686492,   179.58578358, -5283.22671931, ...,\n",
              "         -149.4954358 ,  1603.54858163, -4735.31338576],\n",
              "       [ 4060.5790698 , -1742.16264493,    48.85860586, ...,\n",
              "         1974.00878613,   480.7371653 ,  1985.97209381],\n",
              "       [ 2385.87082138,  5669.25211107,  3649.76585034, ...,\n",
              "         1248.89856867, -5438.22670579, -2313.54837636],\n",
              "       ...,\n",
              "       [  460.37179606, -1608.24700804,  -779.21013921, ...,\n",
              "        -2893.53946068, -4058.13311245, -3144.99085686],\n",
              "       [ 1278.33408336, -1229.80309231, -2704.08044242, ...,\n",
              "          623.00507562,  5158.37337001,  4214.24360531],\n",
              "       [-2579.53039377, -2741.28875924,  3559.45838359, ...,\n",
              "         -532.45470078,  3628.54762742,  4762.79750282]])"
            ]
          },
          "metadata": {
            "tags": []
          },
          "execution_count": 56
        }
      ]
    },
    {
      "cell_type": "code",
      "metadata": {
        "id": "lRoEceKAk0x6",
        "colab_type": "code",
        "colab": {
          "base_uri": "https://localhost:8080/",
          "height": 35
        },
        "outputId": "71e8e819-b6ae-4b13-bf77-6ca54f47bf47"
      },
      "source": [
        "pred_softmax = softmax_CIFAR.predict(X_train_CIFAR)\n",
        "print('The training accuracy is given by: %f' % (get_acc(pred_softmax, y_train_CIFAR)))"
      ],
      "execution_count": 57,
      "outputs": [
        {
          "output_type": "stream",
          "text": [
            "The training accuracy is given by: 31.277500\n"
          ],
          "name": "stdout"
        }
      ]
    },
    {
      "cell_type": "markdown",
      "metadata": {
        "id": "-P18t8-uk0x8",
        "colab_type": "text"
      },
      "source": [
        "### Validate Softmax on CIFAR"
      ]
    },
    {
      "cell_type": "code",
      "metadata": {
        "id": "7HcfVkz9k0x9",
        "colab_type": "code",
        "colab": {
          "base_uri": "https://localhost:8080/",
          "height": 35
        },
        "outputId": "fa2c9c2e-d8a9-4c74-d92e-d07e5cdfee2f"
      },
      "source": [
        "pred_softmax = softmax_CIFAR.predict(X_val_CIFAR)\n",
        "print('The validation accuracy is given by: %f' % (get_acc(pred_softmax, y_val_CIFAR)))"
      ],
      "execution_count": 59,
      "outputs": [
        {
          "output_type": "stream",
          "text": [
            "The validation accuracy is given by: 26.150000\n"
          ],
          "name": "stdout"
        }
      ]
    },
    {
      "cell_type": "markdown",
      "metadata": {
        "id": "hx2T2sWtk0x_",
        "colab_type": "text"
      },
      "source": [
        "### Testing Softmax on CIFAR"
      ]
    },
    {
      "cell_type": "code",
      "metadata": {
        "id": "7t7YUWxVk0x_",
        "colab_type": "code",
        "colab": {
          "base_uri": "https://localhost:8080/",
          "height": 35
        },
        "outputId": "8ce0f9a1-da5a-4369-9bbf-22b73110c9cd"
      },
      "source": [
        "pred_softmax = softmax_CIFAR.predict(X_test_CIFAR)\n",
        "print('The testing accuracy is given by: %f' % (get_acc(pred_softmax, y_test_CIFAR)))"
      ],
      "execution_count": 60,
      "outputs": [
        {
          "output_type": "stream",
          "text": [
            "The testing accuracy is given by: 26.290000\n"
          ],
          "name": "stdout"
        }
      ]
    },
    {
      "cell_type": "markdown",
      "metadata": {
        "id": "CtRXl8wkk0yB",
        "colab_type": "text"
      },
      "source": [
        "### Softmax_CIFAR Kaggle Submission\n",
        "\n",
        "Once you are satisfied with your solution and test accuracy output a file to submit your test set predictions to the Kaggle for Assignment 1 CIFAR. Use the following code to do so:"
      ]
    },
    {
      "cell_type": "code",
      "metadata": {
        "id": "PpB0JXwLk0yC",
        "colab_type": "code",
        "colab": {}
      },
      "source": [
        "output_submission_csv('kaggle/softmax_submission_CIFAR.csv', softmax_CIFAR.predict(X_test_CIFAR))"
      ],
      "execution_count": 62,
      "outputs": []
    },
    {
      "cell_type": "markdown",
      "metadata": {
        "id": "8Ua-VMUek0yE",
        "colab_type": "text"
      },
      "source": [
        "## Train Softmax on Mushroom"
      ]
    },
    {
      "cell_type": "code",
      "metadata": {
        "id": "TEaC6zzKk0yF",
        "colab_type": "code",
        "colab": {
          "base_uri": "https://localhost:8080/",
          "height": 305
        },
        "outputId": "9a64a132-c3fc-4d0b-e299-a017da2ed353"
      },
      "source": [
        "lr = 0.5\n",
        "n_epochs = 50\n",
        "reg_const = 0.05\n",
        "w = X_train_MR.shape[1]\n",
        "softmax_MR = Softmax(n_class_MR, lr, n_epochs, reg_const, w)\n",
        "softmax_MR.train(X_train_MR, y_train_MR)"
      ],
      "execution_count": 63,
      "outputs": [
        {
          "output_type": "execute_result",
          "data": {
            "text/plain": [
              "array([[ 2.69519648e-01, -1.68305597e+01,  2.65903815e+00,\n",
              "         1.49062010e+01,  9.70745056e+00, -9.71637932e+00,\n",
              "         1.36171225e+02, -2.01623794e+02,  7.07990443e+00,\n",
              "         1.86955417e+01,  4.84486382e+01,  1.09746906e+02,\n",
              "         1.71988638e+01,  6.96649570e+00,  5.00397356e-01,\n",
              "         2.52323158e-01, -1.53771942e+02, -6.88783438e+00,\n",
              "        -1.16814816e+01,  2.18533278e+01,  6.72868906e+00,\n",
              "        -4.36959926e+00],\n",
              "       [ 1.20041415e-01,  1.70554781e+01, -2.34411606e+00,\n",
              "        -1.46394733e+01, -9.54038815e+00,  9.89157521e+00,\n",
              "        -1.35710034e+02,  2.01876927e+02, -6.72066636e+00,\n",
              "        -1.84202586e+01, -4.79577731e+01, -1.09321324e+02,\n",
              "        -1.71440420e+01, -6.79674345e+00, -1.99032003e-01,\n",
              "         3.14602875e-03,  1.54021045e+02,  7.19011701e+00,\n",
              "         1.19627503e+01, -2.16683203e+01, -6.24708162e+00,\n",
              "         4.73299755e+00]])"
            ]
          },
          "metadata": {
            "tags": []
          },
          "execution_count": 63
        }
      ]
    },
    {
      "cell_type": "code",
      "metadata": {
        "id": "3aZ1Oc8jk0yH",
        "colab_type": "code",
        "colab": {
          "base_uri": "https://localhost:8080/",
          "height": 35
        },
        "outputId": "4fbf4ecc-ac87-4e03-e25e-94936a3f0065"
      },
      "source": [
        "pred_softmax = softmax_MR.predict(X_train_MR)\n",
        "print('The training accuracy is given by: %f' % (get_acc(pred_softmax, y_train_MR)))"
      ],
      "execution_count": 64,
      "outputs": [
        {
          "output_type": "stream",
          "text": [
            "The training accuracy is given by: 89.741485\n"
          ],
          "name": "stdout"
        }
      ]
    },
    {
      "cell_type": "markdown",
      "metadata": {
        "id": "5ORSrk-Wk0yJ",
        "colab_type": "text"
      },
      "source": [
        "### Validate Softmax on Mushroom"
      ]
    },
    {
      "cell_type": "code",
      "metadata": {
        "id": "a2A3PgRvk0yK",
        "colab_type": "code",
        "colab": {
          "base_uri": "https://localhost:8080/",
          "height": 35
        },
        "outputId": "2fb71cd9-c3c4-437f-cddb-366a20f88169"
      },
      "source": [
        "pred_softmax = softmax_MR.predict(X_val_MR)\n",
        "print('The validation accuracy is given by: %f' % (get_acc(pred_softmax, y_val_MR)))"
      ],
      "execution_count": 66,
      "outputs": [
        {
          "output_type": "stream",
          "text": [
            "The validation accuracy is given by: 88.800000\n"
          ],
          "name": "stdout"
        }
      ]
    },
    {
      "cell_type": "markdown",
      "metadata": {
        "id": "_Qu4OkUhk0yM",
        "colab_type": "text"
      },
      "source": [
        "### Testing Softmax on Mushroom"
      ]
    },
    {
      "cell_type": "code",
      "metadata": {
        "id": "15Uq1IN6k0yN",
        "colab_type": "code",
        "colab": {
          "base_uri": "https://localhost:8080/",
          "height": 35
        },
        "outputId": "6e5741de-b77b-4954-a7b1-f4694ee82431"
      },
      "source": [
        "pred_softmax = softmax_MR.predict(X_test_MR)\n",
        "print('The testing accuracy is given by: %f' % (get_acc(pred_softmax, y_test_MR)))"
      ],
      "execution_count": 67,
      "outputs": [
        {
          "output_type": "stream",
          "text": [
            "The testing accuracy is given by: 89.292308\n"
          ],
          "name": "stdout"
        }
      ]
    },
    {
      "cell_type": "markdown",
      "metadata": {
        "id": "2hAxUhG9k0yU",
        "colab_type": "text"
      },
      "source": [
        "# Logistic Classifier"
      ]
    },
    {
      "cell_type": "markdown",
      "metadata": {
        "id": "4xj_j_hFk0yU",
        "colab_type": "text"
      },
      "source": [
        "The Logistic Classifier has 2 hyperparameters that you can experiment with:\n",
        "- **Learning rate** - similar to as defined above in Perceptron, this parameter scales by how much the weights are changed according to the calculated gradient update. \n",
        "- **Number of Epochs** - As described for perceptron.\n",
        "\n"
      ]
    },
    {
      "cell_type": "markdown",
      "metadata": {
        "id": "PqypP7Zpk0yV",
        "colab_type": "text"
      },
      "source": [
        "You will implement the Logistic Classifier in the **models/Logistic.py**\n",
        "\n",
        "The following code: \n",
        "- Creates an instance of the Logistic classifier class \n",
        "- The train function of the Logistic class is trained on the training data\n",
        "- We use the predict function to find the training accuracy as well as the testing accuracy"
      ]
    },
    {
      "cell_type": "code",
      "metadata": {
        "id": "_g2Gvy8jq3Q5",
        "colab_type": "code",
        "colab": {}
      },
      "source": [
        "# Change labels to {-1,1}\n",
        "for i in range(len(y_train_MR)):\n",
        "  if (y_train_MR[i] == 0):\n",
        "    y_train_MR[i] = -1\n",
        "for i in range(len(y_val_MR)):\n",
        "  if (y_val_MR[i] == 0):\n",
        "    y_val_MR[i] = -1\n",
        "for i in range(len(y_test_MR)):\n",
        "  if (y_test_MR[i] == 0):\n",
        "    y_test_MR[i] = -1"
      ],
      "execution_count": 68,
      "outputs": []
    },
    {
      "cell_type": "markdown",
      "metadata": {
        "id": "AWJH4L4Ek0yV",
        "colab_type": "text"
      },
      "source": [
        "### Training Logistic Classifer"
      ]
    },
    {
      "cell_type": "code",
      "metadata": {
        "id": "28f2jINrk0yW",
        "colab_type": "code",
        "colab": {
          "base_uri": "https://localhost:8080/",
          "height": 413
        },
        "outputId": "ef3459f9-7fab-43c7-9055-9313f347f1b4"
      },
      "source": [
        "learning_rate = 0.5\n",
        "n_epochs = 200\n",
        "\n",
        "lr = Logistic(learning_rate, n_epochs)\n",
        "lr.train(X_train_MR, y_train_MR)"
      ],
      "execution_count": 69,
      "outputs": [
        {
          "output_type": "execute_result",
          "data": {
            "text/plain": [
              "array([[ 0.29182053],\n",
              "       [ 1.52013397],\n",
              "       [ 0.20205113],\n",
              "       [-1.97476235],\n",
              "       [-1.12383252],\n",
              "       [ 1.24380113],\n",
              "       [-1.47105249],\n",
              "       [ 4.94161058],\n",
              "       [-0.94301377],\n",
              "       [-0.76020523],\n",
              "       [-2.7752963 ],\n",
              "       [-2.24957809],\n",
              "       [-1.58600683],\n",
              "       [-0.04801935],\n",
              "       [ 0.17101631],\n",
              "       [ 0.52001607],\n",
              "       [ 1.56122728],\n",
              "       [-0.47743611],\n",
              "       [-1.5476569 ],\n",
              "       [-0.40405846],\n",
              "       [ 4.37471296],\n",
              "       [ 1.46126741]])"
            ]
          },
          "metadata": {
            "tags": []
          },
          "execution_count": 69
        }
      ]
    },
    {
      "cell_type": "code",
      "metadata": {
        "id": "W6dOtZiOk0yZ",
        "colab_type": "code",
        "colab": {
          "base_uri": "https://localhost:8080/",
          "height": 35
        },
        "outputId": "cf4de5ea-ec67-4fb7-9102-8fff975f54a8"
      },
      "source": [
        "pred_lr = lr.predict(X_train_MR)\n",
        "print('The training accuracy is given by: %f' % (get_acc(pred_lr, y_train_MR)))"
      ],
      "execution_count": 70,
      "outputs": [
        {
          "output_type": "stream",
          "text": [
            "The training accuracy is given by: 86.274108\n"
          ],
          "name": "stdout"
        }
      ]
    },
    {
      "cell_type": "markdown",
      "metadata": {
        "id": "DyvL7xfQk0yb",
        "colab_type": "text"
      },
      "source": [
        "### Validate Logistic Classifer"
      ]
    },
    {
      "cell_type": "code",
      "metadata": {
        "id": "lkyC5ZTkk0yc",
        "colab_type": "code",
        "colab": {
          "base_uri": "https://localhost:8080/",
          "height": 35
        },
        "outputId": "00a9d705-3ec6-42e0-82cb-b3cc2636521d"
      },
      "source": [
        "pred_lr = lr.predict(X_val_MR)\n",
        "print('The validation accuracy is given by: %f' % (get_acc(pred_lr, y_val_MR)))"
      ],
      "execution_count": 71,
      "outputs": [
        {
          "output_type": "stream",
          "text": [
            "The validation accuracy is given by: 85.846154\n"
          ],
          "name": "stdout"
        }
      ]
    },
    {
      "cell_type": "markdown",
      "metadata": {
        "id": "S-4AXMAhk0yf",
        "colab_type": "text"
      },
      "source": [
        "### Test Logistic Classifier"
      ]
    },
    {
      "cell_type": "code",
      "metadata": {
        "id": "7zRSzoeYk0yf",
        "colab_type": "code",
        "colab": {
          "base_uri": "https://localhost:8080/",
          "height": 35
        },
        "outputId": "90543c14-334d-4c41-a07e-049f507b689d"
      },
      "source": [
        "pred_lr = lr.predict(X_test_MR)\n",
        "print('The testing accuracy is given by: %f' % (get_acc(pred_lr, y_test_MR)))"
      ],
      "execution_count": 72,
      "outputs": [
        {
          "output_type": "stream",
          "text": [
            "The testing accuracy is given by: 84.246154\n"
          ],
          "name": "stdout"
        }
      ]
    }
  ]
}