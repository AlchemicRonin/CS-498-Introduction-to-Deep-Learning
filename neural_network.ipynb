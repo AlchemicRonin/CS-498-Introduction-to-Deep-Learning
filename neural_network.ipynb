{
  "nbformat": 4,
  "nbformat_minor": 0,
  "metadata": {
    "kernelspec": {
      "display_name": "Python 3",
      "language": "python",
      "name": "python3"
    },
    "language_info": {
      "codemirror_mode": {
        "name": "ipython",
        "version": 3
      },
      "file_extension": ".py",
      "mimetype": "text/x-python",
      "name": "python",
      "nbconvert_exporter": "python",
      "pygments_lexer": "ipython3",
      "version": "3.8.5"
    },
    "colab": {
      "name": "neural_network.ipynb",
      "provenance": [],
      "toc_visible": true,
      "include_colab_link": true
    },
    "accelerator": "GPU"
  },
  "cells": [
    {
      "cell_type": "markdown",
      "metadata": {
        "id": "view-in-github",
        "colab_type": "text"
      },
      "source": [
        "<a href=\"https://colab.research.google.com/github/AlchemicRonin/CS-498-Introduction-to-Deep-Learning/blob/TY/neural_network.ipynb\" target=\"_parent\"><img src=\"https://colab.research.google.com/assets/colab-badge.svg\" alt=\"Open In Colab\"/></a>"
      ]
    },
    {
      "cell_type": "markdown",
      "metadata": {
        "id": "gw8ziGZ8IE-D"
      },
      "source": [
        "# CS498DL Assignment 2"
      ]
    },
    {
      "cell_type": "code",
      "metadata": {
        "id": "-y47P-XUIpMV",
        "outputId": "1936300d-a654-4c7e-8abc-5ecc0fc990a5",
        "colab": {
          "base_uri": "https://localhost:8080/",
          "height": 34
        }
      },
      "source": [
        "from google.colab import drive\n",
        "drive.mount('/content/drive/',force_remount= True)\n",
        "\n",
        "import os\n",
        "os.chdir(\"/content/drive/My Drive/assignment2\")"
      ],
      "execution_count": 2,
      "outputs": [
        {
          "output_type": "stream",
          "text": [
            "Mounted at /content/drive/\n"
          ],
          "name": "stdout"
        }
      ]
    },
    {
      "cell_type": "code",
      "metadata": {
        "id": "YEigbzTOIE-E"
      },
      "source": [
        "import matplotlib.pyplot as plt\n",
        "import numpy as np\n",
        "\n",
        "from kaggle_submission import output_submission_csv\n",
        "from models.neural_net import NeuralNetwork\n",
        "from utils.data_process import get_CIFAR10_data\n",
        "\n",
        "%matplotlib inline\n",
        "plt.rcParams['figure.figsize'] = (10.0, 8.0)  # set default size of plots\n",
        "\n",
        "# For auto-reloading external modules\n",
        "# See http://stackoverflow.com/questions/1907993/autoreload-of-modules-in-ipython\n",
        "%load_ext autoreload\n",
        "%autoreload 2"
      ],
      "execution_count": 3,
      "outputs": []
    },
    {
      "cell_type": "markdown",
      "metadata": {
        "id": "ilj0YmxPIE-H"
      },
      "source": [
        "## Loading CIFAR-10\n",
        "Now that you have implemented a neural network that passes gradient checks and works on toy data, you will test your network on the CIFAR-10 dataset."
      ]
    },
    {
      "cell_type": "code",
      "metadata": {
        "id": "6yfaaGfvIE-H"
      },
      "source": [
        "# You can change these numbers for experimentation\n",
        "# For submission be sure they are set to the default values\n",
        "TRAIN_IMAGES = 49000\n",
        "VAL_IMAGES = 1000\n",
        "TEST_IMAGES = 10000\n",
        "\n",
        "data = get_CIFAR10_data(TRAIN_IMAGES, VAL_IMAGES, TEST_IMAGES)\n",
        "X_train, y_train = data['X_train'], data['y_train']\n",
        "X_val, y_val = data['X_val'], data['y_val']\n",
        "X_test, y_test = data['X_test'], data['y_test']"
      ],
      "execution_count": 4,
      "outputs": []
    },
    {
      "cell_type": "markdown",
      "metadata": {
        "id": "58YGnG4VIE-K"
      },
      "source": [
        "## Train using SGD\n",
        "To train our network we will use SGD. In addition, we will adjust the learning rate with an exponential learning rate schedule as optimization proceeds; after each epoch, we will reduce the learning rate by multiplying it by a decay rate.\n",
        "\n",
        "You can try different numbers of layers and other hyperparameters on the CIFAR-10 dataset below."
      ]
    },
    {
      "cell_type": "code",
      "metadata": {
        "id": "BJFyC9a3IE-L",
        "outputId": "2dc7b350-09a7-42df-96a2-1bf8cd47e058",
        "colab": {
          "base_uri": "https://localhost:8080/",
          "height": 102
        }
      },
      "source": [
        "# Hyperparameters\n",
        "input_size = 32 * 32 * 3\n",
        "num_layers = 3\n",
        "hidden_size = 60\n",
        "hidden_sizes = [hidden_size] * (num_layers - 1)\n",
        "num_classes = 10\n",
        "epochs = 5\n",
        "batch_size = 200\n",
        "learning_rate = 1e-1\n",
        "learning_rate_decay = 0.95\n",
        "regularization = 0.1\n",
        "\n",
        "# Initialize a new neural network model\n",
        "net = NeuralNetwork(input_size, hidden_sizes, num_classes, num_layers)\n",
        "\n",
        "# Variables to store performance for each epoch\n",
        "train_loss_SGD = np.zeros(epochs)\n",
        "train_accuracy = np.zeros(epochs)\n",
        "validation_SGD = np.zeros(epochs)\n",
        "\n",
        "# For each epoch...\n",
        "for epoch in range(epochs):\n",
        "    print('epoch:', epoch)\n",
        "    # Training\n",
        "    # For each mini-batch...\n",
        "    rate = learning_rate*np.exp(-learning_rate_decay * epoch)\n",
        "    for batch in range(TRAIN_IMAGES // batch_size):\n",
        "        # Shuffle the dataset\n",
        "        index = np.random.choice(TRAIN_IMAGES,batch_size)\n",
        "        # Create a mini-batch of training data and labels\n",
        "        X_batch = X_train[index]\n",
        "        y_batch = y_train[index]\n",
        "        \n",
        "        # Run the forward pass of the model to get a prediction and compute the accuracy\n",
        "        # Run the backward pass of the model to update the weights and compute the loss\n",
        "        train_loss_SGD[epoch] += net.backward(X_train,y_train, learning_rate, regularization)/((TRAIN_IMAGES // batch_size))\n",
        "        train_accuracy[epoch] += (np.argmax(net.outputs[\"L1\"+ str(num_layers)],axis = 1) == y_train).mean()/((TRAIN_IMAGES // batch_size))\n",
        "        for key in net.params:\n",
        "          net.params[key] -= rate * net.gradients[key]\n",
        "    \n",
        "    # Validation\n",
        "    # No need to run the backward pass here, just run the forward pass to compute accuracy\n",
        "    validation_SGD[epoch] += (np.argmax(net.forward(X_val),axis = 1) == y_val).mean()"
      ],
      "execution_count": 19,
      "outputs": [
        {
          "output_type": "stream",
          "text": [
            "epoch: 0\n",
            "epoch: 1\n",
            "epoch: 2\n",
            "epoch: 3\n",
            "epoch: 4\n"
          ],
          "name": "stdout"
        }
      ]
    },
    {
      "cell_type": "markdown",
      "metadata": {
        "id": "NeZdGk4NIE-N"
      },
      "source": [
        "## Train using Adam\n",
        "Next we will train the same model using the Adam optimizer. You should take the above code for SGD and modify it to use Adam instead. For implementation details, see the lecture slides. The original paper that introduced Adam is also a good reference, and contains suggestions for default values: https://arxiv.org/pdf/1412.6980.pdf"
      ]
    },
    {
      "cell_type": "code",
      "metadata": {
        "id": "1Gt8G_SSIE-N",
        "outputId": "d83ecd19-c0c4-4021-8513-bb992118d5e8",
        "colab": {
          "base_uri": "https://localhost:8080/",
          "height": 102
        }
      },
      "source": [
        "# Hyperparameters\n",
        "input_size = 32 * 32 * 3\n",
        "num_layers = 3\n",
        "hidden_size = 60\n",
        "hidden_sizes = [hidden_size] * (num_layers - 1)\n",
        "num_classes = 10\n",
        "epochs = 5\n",
        "batch_size = 200\n",
        "learning_rate = 1e-1\n",
        "learning_rate_decay = 0.95\n",
        "regularization = 0.1\n",
        "beta1 = 0.9\n",
        "beta2 = 0.999\n",
        "eps = 1e-8\n",
        "\n",
        "\n",
        "# Initialize a new neural network model\n",
        "net = NeuralNetwork(input_size, hidden_sizes, num_classes, num_layers)\n",
        "\n",
        "# Variables to store performance for each epoch\n",
        "train_loss_ADAM_ = np.zeros(epochs)\n",
        "train_accuracy = np.zeros(epochs)\n",
        "validation_ADAM = np.zeros(epochs)\n",
        "\n",
        "# For each epoch...\n",
        "for epoch in range(epochs):\n",
        "    print('epoch:', epoch)\n",
        "    # Training\n",
        "    # For each mini-batch...\n",
        "    rate = learning_rate*np.exp(-learning_rate_decay * epoch)\n",
        "    for batch in range(1,TRAIN_IMAGES // batch_size):\n",
        "        # Shuffle the dataset\n",
        "        index = np.random.choice(X_train.shape[0],batch_size)\n",
        "        # Create a mini-batch of training data and labels\n",
        "        X_batch = X_train[index]\n",
        "        y_batch = y_train[index]\n",
        "        \n",
        "        # Run the forward pass of the model to get a prediction and compute the accuracy\n",
        "        # Run the backward pass of the model to update the weights and compute the loss\n",
        "        train_loss_ADAM_[epoch] += net.backward(X_train, y_train, learning_rate, regularization)/((TRAIN_IMAGES // batch_size))\n",
        "        train_accuracy[epoch] += (np.argmax(net.outputs[\"L1\" + str(num_layers)],axis = 1) == y_train).mean()/((TRAIN_IMAGES // batch_size))\n",
        "        for key in net.params:\n",
        "          net.m[key] = beta1 * net.m[key] + (1 - beta1) * net.gradients[key]\n",
        "          net.v[key] = beta2 * net.v[key] + (1 - beta2) * np.square(net.gradients[key])\n",
        "          net.m_hat[key] = net.m[key] / (1 - beta1 ** batch)\n",
        "          net.v_hat[key] = net.v[key] / (1 - beta2 ** batch)\n",
        "          net.params[key] -= rate * net.m_hat[key] / (np.sqrt(net.v_hat[key]) + eps)\n",
        "    # Validation\n",
        "    # No need to run the backward pass here, just run the forward pass to compute accuracy\n",
        "    validation_ADAM[epoch] += (np.argmax(net.forward(X_val),axis = 1) == y_val).mean()"
      ],
      "execution_count": 22,
      "outputs": [
        {
          "output_type": "stream",
          "text": [
            "epoch: 0\n",
            "epoch: 1\n",
            "epoch: 2\n",
            "epoch: 3\n",
            "epoch: 4\n"
          ],
          "name": "stdout"
        }
      ]
    },
    {
      "cell_type": "markdown",
      "metadata": {
        "id": "Jk0b80H_IE-Q"
      },
      "source": [
        "## Graph loss and train/val accuracies\n",
        "\n",
        "Examining the loss graph along with the train and val accuracy graphs should help you gain some intuition for the hyperparameters you should try in the hyperparameter tuning below. It should also help with debugging any issues you might have with your network."
      ]
    },
    {
      "cell_type": "code",
      "metadata": {
        "id": "zSkjOVMzIE-R",
        "outputId": "6ed595f2-9ed6-40e2-f577-93922ee50fe4",
        "colab": {
          "base_uri": "https://localhost:8080/",
          "height": 772
        }
      },
      "source": [
        "# Plot the loss function and train / validation accuracies\n",
        "plt.subplot(2, 2, 1)\n",
        "plt.plot(train_loss_SGD)\n",
        "plt.title('Loss history_SGD')\n",
        "plt.xlabel('Iteration')\n",
        "plt.ylabel('Loss')\n",
        "\n",
        "plt.subplot(2, 2, 2)\n",
        "plt.plot(train_loss_ADAM_)\n",
        "plt.title('Loss history_ADAM')\n",
        "plt.xlabel('Iteration')\n",
        "plt.ylabel('Loss')\n",
        "\n",
        "plt.subplot(2, 2, 3)\n",
        "plt.plot(train_accuracy, label='train')\n",
        "plt.plot(validation_SGD, label='val')\n",
        "plt.title('Classification accuracy history SGD')\n",
        "plt.xlabel('Epoch')\n",
        "plt.ylabel('Classification accuracy')\n",
        "plt.legend()\n",
        "plt.show()\n",
        "\n",
        "plt.subplot(2, 2, 4)\n",
        "plt.plot(train_accuracy, label='train')\n",
        "plt.plot(validation_ADAM, label='val')\n",
        "plt.title('Classification accuracy history ADAM')\n",
        "plt.xlabel('Epoch')\n",
        "plt.ylabel('Classification accuracy')\n",
        "plt.legend()\n",
        "plt.show()"
      ],
      "execution_count": 16,
      "outputs": [
        {
          "output_type": "display_data",
          "data": {
            "image/png": "[encoded data removed]",
            "text/plain": [
              "<Figure size 720x576 with 3 Axes>"
            ]
          },
          "metadata": {
            "tags": [],
            "needs_background": "light"
          }
        },
        {
          "output_type": "display_data",
          "data": {
            "image/png": "[encoded data removed]",
            "text/plain": [
              "<Figure size 720x576 with 1 Axes>"
            ]
          },
          "metadata": {
            "tags": [],
            "needs_background": "light"
          }
        }
      ]
    },
    {
      "cell_type": "markdown",
      "metadata": {
        "id": "RuiCCkc6IE-V"
      },
      "source": [
        "## Hyperparameter tuning\n",
        "\n",
        "Once you have successfully trained a network you can tune your hyparameters to increase your accuracy.\n",
        "\n",
        "Based on the graphs of the loss function above you should be able to develop some intuition about what hyperparameter adjustments may be necessary. A very noisy loss implies that the learning rate might be too high, while a linearly decreasing loss would suggest that the learning rate may be too low. A large gap between training and validation accuracy would suggest overfitting due to large model without much regularization. No gap between training and validation accuracy would indicate low model capacity. \n",
        "\n",
        "You will compare networks of two and three layers using the different optimization methods you implemented. \n",
        "\n",
        "The different hyperparameters you can experiment with are:\n",
        "- **Batch size**: We recommend you leave this at 200 initially which is the batch size we used. \n",
        "- **Number of iterations**: You can gain an intuition for how many iterations to run by checking when the validation accuracy plateaus in your train/val accuracy graph.\n",
        "- **Initialization** Weight initialization is very important for neural networks. We used the initialization `W = np.random.randn(n) / sqrt(n)` where `n` is the input dimension for layer corresponding to `W`. We recommend you stick with the given initializations, but you may explore modifying these. Typical initialization practices: http://cs231n.github.io/neural-networks-2/#init\n",
        "- **Learning rate**: Generally from around 1e-4 to 1e-1 is a good range to explore according to our implementation.\n",
        "- **Learning rate decay**: We recommend a 0.95 decay to start.\n",
        "- **Hidden layer size**: You should explore up to around 120 units per layer. For three-layer network, we fixed the two hidden layers to be the same size when obtaining the target numbers. However, you may experiment with having different size hidden layers.\n",
        "- **Regularization coefficient**: We recommend trying values in the range 0 to 0.1. \n",
        "\n",
        "Hints:\n",
        "- After getting a sense of the parameters by trying a few values yourself, you will likely want to write a few for-loops to traverse over a set of hyperparameters.\n",
        "- If you find that your train loss is decreasing, but your train and val accuracy start to decrease rather than increase, your model likely started minimizing the regularization term. To prevent this you will need to decrease the regularization coefficient. "
      ]
    },
    {
      "cell_type": "markdown",
      "metadata": {
        "id": "W5N2Ec4vIE-V"
      },
      "source": [
        "## Run on the test set\n",
        "When you are done experimenting, you should evaluate your final trained networks on the test set."
      ]
    },
    {
      "cell_type": "code",
      "metadata": {
        "id": "MTuuLsLQIE-W"
      },
      "source": [
        "#best_2layer_sgd_prediction = np.argmax(net.forward(X_test),axis = 1)\n",
        "#best_3layer_sgd_prediction = np.argmax(net.forward(X_test),axis = 1)\n",
        "#best_2layer_adam_prediction = np.argmax(net.forward(X_test),axis = 1) \n",
        "best_3layer_adam_prediction = np.argmax(net.forward(X_test),axis = 1) "
      ],
      "execution_count": 23,
      "outputs": []
    },
    {
      "cell_type": "markdown",
      "metadata": {
        "id": "NPLGJzICIE-Y"
      },
      "source": [
        "## Kaggle output\n",
        "\n",
        "Once you are satisfied with your solution and test accuracy, output a file to submit your test set predictions to the Kaggle for Assignment 2 Neural Network. Use the following code to do so:"
      ]
    },
    {
      "cell_type": "code",
      "metadata": {
        "id": "b_qKAgEJIE-Z"
      },
      "source": [
        "#output_submission_csv('kaggle/nn_2layer_sgd_submission.csv', best_2layer_sgd_prediction)\n",
        "#output_submission_csv('kaggle/nn_3layer_sgd_submission.csv', best_3layer_sgd_prediction)\n",
        "#output_submission_csv('kaggle/nn_2layer_adam_submission.csv', best_2layer_adam_prediction)\n",
        "output_submission_csv('kaggle/nn_3layer_adam_submission.csv', best_3layer_adam_prediction)"
      ],
      "execution_count": 24,
      "outputs": []
    },
    {
      "cell_type": "markdown",
      "metadata": {
        "id": "vylKolMjIE-b"
      },
      "source": [
        "## Compare SGD and Adam\n",
        "Create graphs to compare training loss and validation accuracy between SGD and Adam. The code is similar to the above code, but instead of comparing train and validation, we are comparing SGD and Adam."
      ]
    },
    {
      "cell_type": "code",
      "metadata": {
        "id": "S_GHp3LKIE-c",
        "outputId": "ef6184f0-45ef-4073-f461-9d68f3c61ef7",
        "colab": {
          "base_uri": "https://localhost:8080/",
          "height": 535
        }
      },
      "source": [
        "# TODO: implement me\n",
        "plt.subplot(2, 1, 2)\n",
        "plt.plot(train_loss_SGD, label='SGD')\n",
        "plt.plot(train_loss_ADAM_, label='ADAM')\n",
        "plt.title('Training Loss history')\n",
        "plt.xlabel('Iterations')\n",
        "plt.ylabel('Loss')\n",
        "plt.legend()\n",
        "plt.show()\n",
        "\n",
        "plt.subplot(2, 1, 2)\n",
        "plt.plot(validation_SGD, label='SGD')\n",
        "plt.plot(validation_ADAM, label='ADAM')\n",
        "plt.title('Validation Accuracy')\n",
        "plt.xlabel('Iterations')\n",
        "plt.ylabel('Accuracy')\n",
        "plt.legend()\n",
        "plt.show()"
      ],
      "execution_count": 25,
      "outputs": [
        {
          "output_type": "display_data",
          "data": {
            "image/png": "[encoded data removed]",
            "text/plain": [
              "<Figure size 720x576 with 1 Axes>"
            ]
          },
          "metadata": {
            "tags": [],
            "needs_background": "light"
          }
        },
        {
          "output_type": "display_data",
          "data": {
            "image/png": "[encoded data removed]",
            "text/plain": [
              "<Figure size 720x576 with 1 Axes>"
            ]
          },
          "metadata": {
            "tags": [],
            "needs_background": "light"
          }
        }
      ]
    }
  ]
}